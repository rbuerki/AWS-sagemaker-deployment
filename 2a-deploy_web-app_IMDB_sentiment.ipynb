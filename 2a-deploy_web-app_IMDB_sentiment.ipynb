{
 "cells": [
  {
   "cell_type": "markdown",
   "metadata": {},
   "source": [
    "# Sentiment Analysis Web App\n",
    "\n",
    "_Deep Learning Nanodegree Program | Deployment_\n",
    "\n",
    "---\n",
    "\n",
    "In this notebook we will use Amazon's SageMaker service to construct a random tree model to predict the sentiment of a movie review. In addition, we will deploy this model to an endpoint and construct a very simple web app which will interact with our model's deployed endpoint.\n",
    "\n",
    "## General Outline\n",
    "\n",
    "**Note:** The preprocessing is simplified in this notebook because using nltk and beautyfulsoup libraries (as in the orginial approach, see other notebook) would complicate the use of the lambda service.\n",
    "\n",
    "1. Download or otherwise retrieve the data.\n",
    "2. Process / Prepare the data.\n",
    "3. Upload the processed data to S3.\n",
    "4. Train a chosen model.\n",
    "5. Test the trained model (typically using a batch transform job).\n",
    "6. Deploy the trained model.\n",
    "7. Use the deployed model.\n",
    "\n",
    "In this notebook we will progress through each of the steps above. We will also see that the final step, using the deployed model, can be quite challenging.\n",
    "\n",
    "**Data Flow**\n",
    "\n",
    "1. To begin with, the user enters a review on our website.\n",
    "\n",
    "2. Next, our website sends that data off to an endpoint, created using API Gateway.\n",
    "\n",
    "3. Our endpoint acts as an interface to our Lambda function so our user data gets sent to the Lambda function.\n",
    "\n",
    "4. Our Lambda function processes the user data and sends it off to the deployed model's endpoint.\n",
    "\n",
    "5. The deployed model perform inference on the processed data and returns the inference results to the Lambda function.\n",
    "\n",
    "6. The Lambda function returns the results to the original caller using the endpoint constructed using API Gateway.\n",
    "\n",
    "7. Lastly, the website receives the inference results and displays those results to the user."
   ]
  },
  {
   "cell_type": "markdown",
   "metadata": {},
   "source": [
    "## Step 1: Downloading the data\n",
    "\n",
    "The dataset we are going to use is very popular among researchers in Natural Language Processing, usually referred to as the [IMDb dataset](http://ai.stanford.edu/~amaas/data/sentiment/). It consists of movie reviews from the website [imdb.com](http://www.imdb.com/), each labeled as either '**pos**itive', if the reviewer enjoyed the film, or '**neg**ative' otherwise.\n",
    "\n",
    "> Maas, Andrew L., et al. [Learning Word Vectors for Sentiment Analysis](http://ai.stanford.edu/~amaas/data/sentiment/). In _Proceedings of the 49th Annual Meeting of the Association for Computational Linguistics: Human Language Technologies_. Association for Computational Linguistics, 2011.\n",
    "\n",
    "We begin by using some Jupyter Notebook magic to download and extract the dataset."
   ]
  },
  {
   "cell_type": "code",
   "execution_count": 1,
   "metadata": {},
   "outputs": [
    {
     "name": "stdout",
     "output_type": "stream",
     "text": [
      "mkdir: cannot create directory ‘../data’: File exists\n",
      "--2019-12-23 12:10:24--  http://ai.stanford.edu/~amaas/data/sentiment/aclImdb_v1.tar.gz\n",
      "Resolving ai.stanford.edu (ai.stanford.edu)... 171.64.68.10\n",
      "Connecting to ai.stanford.edu (ai.stanford.edu)|171.64.68.10|:80... connected.\n",
      "HTTP request sent, awaiting response... 200 OK\n",
      "Length: 84125825 (80M) [application/x-gzip]\n",
      "Saving to: ‘../data/aclImdb_v1.tar.gz’\n",
      "\n",
      "../data/aclImdb_v1. 100%[===================>]  80.23M  9.93MB/s    in 9.5s    \n",
      "\n",
      "2019-12-23 12:10:34 (8.42 MB/s) - ‘../data/aclImdb_v1.tar.gz’ saved [84125825/84125825]\n",
      "\n"
     ]
    }
   ],
   "source": [
    "%mkdir ../data\n",
    "!wget -O ../data/aclImdb_v1.tar.gz http://ai.stanford.edu/~amaas/data/sentiment/aclImdb_v1.tar.gz\n",
    "!tar -zxf ../data/aclImdb_v1.tar.gz -C ../data"
   ]
  },
  {
   "cell_type": "markdown",
   "metadata": {},
   "source": [
    "## Step 2: Preparing and Processing the data\n",
    "\n",
    "The data we have downloaded is split into various files, each of which contains a single review. It will be much easier going forward if we combine these individual files into two large files, one for training and one for testing."
   ]
  },
  {
   "cell_type": "code",
   "execution_count": 2,
   "metadata": {},
   "outputs": [],
   "source": [
    "import os\n",
    "import glob\n",
    "\n",
    "def read_imdb_data(data_dir='../data/aclImdb'):\n",
    "    data = {}\n",
    "    labels = {}\n",
    "    \n",
    "    for data_type in ['train', 'test']:\n",
    "        data[data_type] = {}\n",
    "        labels[data_type] = {}\n",
    "        \n",
    "        for sentiment in ['pos', 'neg']:\n",
    "            data[data_type][sentiment] = []\n",
    "            labels[data_type][sentiment] = []\n",
    "            \n",
    "            path = os.path.join(data_dir, data_type, sentiment, '*.txt')\n",
    "            files = glob.glob(path)\n",
    "            \n",
    "            for f in files:\n",
    "                with open(f) as review:\n",
    "                    data[data_type][sentiment].append(review.read())\n",
    "                    # Here we represent a positive review by '1' and a negative review by '0'\n",
    "                    labels[data_type][sentiment].append(1 if sentiment == 'pos' else 0)\n",
    "                    \n",
    "            assert len(data[data_type][sentiment]) == len(labels[data_type][sentiment]), \\\n",
    "                    \"{}/{} data size does not match labels size\".format(data_type, sentiment)\n",
    "                \n",
    "    return data, labels"
   ]
  },
  {
   "cell_type": "code",
   "execution_count": 3,
   "metadata": {},
   "outputs": [
    {
     "name": "stdout",
     "output_type": "stream",
     "text": [
      "IMDB reviews: train = 12500 pos / 12500 neg, test = 12500 pos / 12500 neg\n"
     ]
    }
   ],
   "source": [
    "data, labels = read_imdb_data()\n",
    "print(\"IMDB reviews: train = {} pos / {} neg, test = {} pos / {} neg\".format(\n",
    "            len(data['train']['pos']), len(data['train']['neg']),\n",
    "            len(data['test']['pos']), len(data['test']['neg'])))"
   ]
  },
  {
   "cell_type": "code",
   "execution_count": 4,
   "metadata": {},
   "outputs": [],
   "source": [
    "from sklearn.utils import shuffle\n",
    "\n",
    "def prepare_imdb_data(data, labels):\n",
    "    \"\"\"Prepare training and test sets from IMDb movie reviews.\"\"\"\n",
    "    \n",
    "    #Combine positive and negative reviews and labels\n",
    "    data_train = data['train']['pos'] + data['train']['neg']\n",
    "    data_test = data['test']['pos'] + data['test']['neg']\n",
    "    labels_train = labels['train']['pos'] + labels['train']['neg']\n",
    "    labels_test = labels['test']['pos'] + labels['test']['neg']\n",
    "    \n",
    "    #Shuffle reviews and corresponding labels within training and test sets\n",
    "    data_train, labels_train = shuffle(data_train, labels_train)\n",
    "    data_test, labels_test = shuffle(data_test, labels_test)\n",
    "    \n",
    "    # Return a unified training data, test data, training labels, test labets\n",
    "    return data_train, data_test, labels_train, labels_test"
   ]
  },
  {
   "cell_type": "code",
   "execution_count": 5,
   "metadata": {},
   "outputs": [
    {
     "name": "stdout",
     "output_type": "stream",
     "text": [
      "IMDb reviews (combined): train = 25000, test = 25000\n"
     ]
    }
   ],
   "source": [
    "train_X, test_X, train_y, test_y = prepare_imdb_data(data, labels)\n",
    "print(\"IMDb reviews (combined): train = {}, test = {}\".format(len(train_X), len(test_X)))"
   ]
  },
  {
   "cell_type": "code",
   "execution_count": 6,
   "metadata": {},
   "outputs": [
    {
     "data": {
      "text/plain": [
       "'I thought that I was never going to find a horror movie as bad as \"The Return of the Texas Chainsaw Massacre\", but this film compete with it.<br /><br />I´m not a person that get asleep when watching a movie, but I did it 15 minutes after the Trance started. I woke up, and started to watching it agian. Why did I deserve that? All the movie was a torture, I have to use fast forward to watch it complete.<br /><br />I can´t stand why one of my favourites actors of all time (MR. WALKEN) could done this thing. I have to think that he made the director a favor, or he was really in the need of money, because film after film he is doing, he is ruining himself; and so fast...<br /><br />What about the movie? it´s not scary, stupid plot, characters are awful (but I really liked the one played by Jared Harris), effects are very poor, lack of deaths & blood, etc; in three words, it has anything. And I mean it. Can´t stand how a director can make a film like this.<br /><br />Anyway, When I got more disappointed was when I saw in the video cover, that the film was presented by \"Stephen King\", I think he could never present this crap, no? (I rented it in Argentina). I not recommend it in a million years.<br /><br />I rate this movie with a 2 out of 10. (As I say in my \"Return of the Texas Chainsaw Massacre\" review, there will be always a worse movies, thats why it don´t deserves a 1 out of 10)'"
      ]
     },
     "execution_count": 6,
     "metadata": {},
     "output_type": "execute_result"
    }
   ],
   "source": [
    "train_X[100]"
   ]
  },
  {
   "cell_type": "markdown",
   "metadata": {},
   "source": [
    "## Processing the data\n",
    "\n",
    "Now that we have our training and testing datasets merged and ready to use, we need to start processing the raw data into something that will be useable by our machine learning algorithm. To begin with, we remove any html formatting and any non-alpha numeric characters that may appear in the reviews. We will do this in a very simplistic way using Python's regular expression module. We will discuss the reason for this rather simplistic pre-processing later on."
   ]
  },
  {
   "cell_type": "code",
   "execution_count": 7,
   "metadata": {},
   "outputs": [],
   "source": [
    "import re\n",
    "\n",
    "REPLACE_NO_SPACE = re.compile(\"(\\.)|(\\;)|(\\:)|(\\!)|(\\')|(\\?)|(\\,)|(\\\")|(\\()|(\\))|(\\[)|(\\])\")\n",
    "REPLACE_WITH_SPACE = re.compile(\"(<br\\s*/><br\\s*/>)|(\\-)|(\\/)\")\n",
    "\n",
    "def review_to_words(review):\n",
    "    words = REPLACE_NO_SPACE.sub(\"\", review.lower())\n",
    "    words = REPLACE_WITH_SPACE.sub(\" \", words)\n",
    "    return words"
   ]
  },
  {
   "cell_type": "code",
   "execution_count": 8,
   "metadata": {},
   "outputs": [
    {
     "data": {
      "text/plain": [
       "'i thought that i was never going to find a horror movie as bad as the return of the texas chainsaw massacre but this film compete with it i´m not a person that get asleep when watching a movie but i did it 15 minutes after the trance started i woke up and started to watching it agian why did i deserve that all the movie was a torture i have to use fast forward to watch it complete i can´t stand why one of my favourites actors of all time mr walken could done this thing i have to think that he made the director a favor or he was really in the need of money because film after film he is doing he is ruining himself and so fast what about the movie it´s not scary stupid plot characters are awful but i really liked the one played by jared harris effects are very poor lack of deaths & blood etc in three words it has anything and i mean it can´t stand how a director can make a film like this anyway when i got more disappointed was when i saw in the video cover that the film was presented by stephen king i think he could never present this crap no i rented it in argentina i not recommend it in a million years i rate this movie with a 2 out of 10 as i say in my return of the texas chainsaw massacre review there will be always a worse movies thats why it don´t deserves a 1 out of 10'"
      ]
     },
     "execution_count": 8,
     "metadata": {},
     "output_type": "execute_result"
    }
   ],
   "source": [
    "review_to_words(train_X[100])"
   ]
  },
  {
   "cell_type": "code",
   "execution_count": 9,
   "metadata": {},
   "outputs": [],
   "source": [
    "import pickle\n",
    "\n",
    "cache_dir = os.path.join(\"../cache\", \"sentiment_web_app\")  # where to store cache files\n",
    "os.makedirs(cache_dir, exist_ok=True)  # ensure cache directory exists\n",
    "\n",
    "def preprocess_data(data_train, data_test, labels_train, labels_test,\n",
    "                    cache_dir=cache_dir, cache_file=\"preprocessed_data.pkl\"):\n",
    "    \"\"\"Convert each review to words; read from cache if available.\"\"\"\n",
    "\n",
    "    # If cache_file is not None, try to read from it first\n",
    "    cache_data = None\n",
    "    if cache_file is not None:\n",
    "        try:\n",
    "            with open(os.path.join(cache_dir, cache_file), \"rb\") as f:\n",
    "                cache_data = pickle.load(f)\n",
    "            print(\"Read preprocessed data from cache file:\", cache_file)\n",
    "        except:\n",
    "            pass  # unable to read from cache, but that's okay\n",
    "    \n",
    "    # If cache is missing, then do the heavy lifting\n",
    "    if cache_data is None:\n",
    "        # Preprocess training and test data to obtain words for each review\n",
    "        #words_train = list(map(review_to_words, data_train))\n",
    "        #words_test = list(map(review_to_words, data_test))\n",
    "        words_train = [review_to_words(review) for review in data_train]\n",
    "        words_test = [review_to_words(review) for review in data_test]\n",
    "        \n",
    "        # Write to cache file for future runs\n",
    "        if cache_file is not None:\n",
    "            cache_data = dict(words_train=words_train, words_test=words_test,\n",
    "                              labels_train=labels_train, labels_test=labels_test)\n",
    "            with open(os.path.join(cache_dir, cache_file), \"wb\") as f:\n",
    "                pickle.dump(cache_data, f)\n",
    "            print(\"Wrote preprocessed data to cache file:\", cache_file)\n",
    "    else:\n",
    "        # Unpack data loaded from cache file\n",
    "        words_train, words_test, labels_train, labels_test = (cache_data['words_train'],\n",
    "                cache_data['words_test'], cache_data['labels_train'], cache_data['labels_test'])\n",
    "    \n",
    "    return words_train, words_test, labels_train, labels_test"
   ]
  },
  {
   "cell_type": "code",
   "execution_count": 10,
   "metadata": {},
   "outputs": [
    {
     "name": "stdout",
     "output_type": "stream",
     "text": [
      "Wrote preprocessed data to cache file: preprocessed_data.pkl\n"
     ]
    }
   ],
   "source": [
    "# Preprocess data\n",
    "train_X, test_X, train_y, test_y = preprocess_data(train_X, test_X, train_y, test_y)"
   ]
  },
  {
   "cell_type": "markdown",
   "metadata": {},
   "source": [
    "### Extract Bag-of-Words features\n",
    "\n",
    "For the model we will be implementing, rather than using the reviews directly, we are going to transform each review into a Bag-of-Words feature representation. Keep in mind that 'in the wild' we will only have access to the training set so our transformer can only use the training set to construct a representation."
   ]
  },
  {
   "cell_type": "code",
   "execution_count": 11,
   "metadata": {},
   "outputs": [],
   "source": [
    "import numpy as np\n",
    "from sklearn.feature_extraction.text import CountVectorizer\n",
    "from sklearn.externals import joblib\n",
    "# joblib is an enhanced version of pickle that is more efficient for storing NumPy arrays\n",
    "\n",
    "def extract_BoW_features(words_train, words_test, vocabulary_size=5000,\n",
    "                         cache_dir=cache_dir, cache_file=\"bow_features.pkl\"):\n",
    "    \"\"\"Extract Bag-of-Words for a given set of documents, already preprocessed into words.\"\"\"\n",
    "    \n",
    "    # If cache_file is not None, try to read from it first\n",
    "    cache_data = None\n",
    "    if cache_file is not None:\n",
    "        try:\n",
    "            with open(os.path.join(cache_dir, cache_file), \"rb\") as f:\n",
    "                cache_data = joblib.load(f)\n",
    "            print(\"Read features from cache file:\", cache_file)\n",
    "        except:\n",
    "            pass  # unable to read from cache, but that's okay\n",
    "    \n",
    "    # If cache is missing, then do the heavy lifting\n",
    "    if cache_data is None:\n",
    "        # Fit a vectorizer to training documents and use it to transform them\n",
    "        # NOTE: Training documents have already been preprocessed and tokenized into words;\n",
    "        #       pass in dummy functions to skip those steps, e.g. preprocessor=lambda x: x\n",
    "        vectorizer = CountVectorizer(max_features=vocabulary_size)\n",
    "        features_train = vectorizer.fit_transform(words_train).toarray()\n",
    "\n",
    "        # Apply the same vectorizer to transform the test documents (ignore unknown words)\n",
    "        features_test = vectorizer.transform(words_test).toarray()\n",
    "        \n",
    "        # NOTE: Remember to convert the features using .toarray() for a compact representation\n",
    "        \n",
    "        # Write to cache file for future runs (store vocabulary as well)\n",
    "        if cache_file is not None:\n",
    "            vocabulary = vectorizer.vocabulary_\n",
    "            cache_data = dict(features_train=features_train, features_test=features_test,\n",
    "                             vocabulary=vocabulary)\n",
    "            with open(os.path.join(cache_dir, cache_file), \"wb\") as f:\n",
    "                joblib.dump(cache_data, f)\n",
    "            print(\"Wrote features to cache file:\", cache_file)\n",
    "    else:\n",
    "        # Unpack data loaded from cache file\n",
    "        features_train, features_test, vocabulary = (cache_data['features_train'],\n",
    "                cache_data['features_test'], cache_data['vocabulary'])\n",
    "    \n",
    "    # Return both the extracted features as well as the vocabulary\n",
    "    return features_train, features_test, vocabulary"
   ]
  },
  {
   "cell_type": "code",
   "execution_count": 12,
   "metadata": {},
   "outputs": [
    {
     "name": "stdout",
     "output_type": "stream",
     "text": [
      "Wrote features to cache file: bow_features.pkl\n"
     ]
    }
   ],
   "source": [
    "# Extract Bag of Words features for both training and test datasets\n",
    "train_X, test_X, vocabulary = extract_BoW_features(train_X, test_X)"
   ]
  },
  {
   "cell_type": "code",
   "execution_count": 13,
   "metadata": {},
   "outputs": [
    {
     "data": {
      "text/plain": [
       "5000"
      ]
     },
     "execution_count": 13,
     "metadata": {},
     "output_type": "execute_result"
    }
   ],
   "source": [
    "len(train_X[100])"
   ]
  },
  {
   "cell_type": "markdown",
   "metadata": {},
   "source": [
    "## Step 3: Upload data to S3\n",
    "\n",
    "Now that we have created the feature representation of our training (and testing) data, it is time to start setting up and using the XGBoost classifier provided by SageMaker.\n",
    "\n",
    "### Writing the datasets\n",
    "\n",
    "The XGBoost classifier that we will be using requires the dataset to be written to a file and stored using Amazon S3. To do this, we will start by splitting the training dataset into two parts, the data we will train the model with and a validation set. Then, we will write those datasets to a file locally and then upload the files to S3. In addition, we will write the test set to a file and upload that file to S3. This is so that we can use SageMakers Batch Transform functionality to test our model once we've fit it."
   ]
  },
  {
   "cell_type": "code",
   "execution_count": 14,
   "metadata": {},
   "outputs": [],
   "source": [
    "import pandas as pd\n",
    "\n",
    "# Earlier we shuffled the training dataset so to make things simple we can just assign\n",
    "# the first 10 000 reviews to the validation set and use the remaining reviews for training.\n",
    "val_X = pd.DataFrame(train_X[:10000])\n",
    "train_X = pd.DataFrame(train_X[10000:])\n",
    "\n",
    "val_y = pd.DataFrame(train_y[:10000])\n",
    "train_y = pd.DataFrame(train_y[10000:])"
   ]
  },
  {
   "cell_type": "markdown",
   "metadata": {},
   "source": [
    "The documentation for the XGBoost algorithm in SageMaker requires that the training and validation datasets should contain no headers or index and that the label should occur first for each sample. For more information about this and other algorithms, the SageMaker developer documentation can be found on __[Amazon's website.](https://docs.aws.amazon.com/sagemaker/latest/dg/)__"
   ]
  },
  {
   "cell_type": "code",
   "execution_count": 15,
   "metadata": {},
   "outputs": [],
   "source": [
    "# First we make sure that the local directory in which we'd like to store the training and validation csv files exists.\n",
    "data_dir = '../data/sentiment_web_app'\n",
    "if not os.path.exists(data_dir):\n",
    "    os.makedirs(data_dir)"
   ]
  },
  {
   "cell_type": "code",
   "execution_count": 16,
   "metadata": {},
   "outputs": [],
   "source": [
    "pd.DataFrame(test_X).to_csv(os.path.join(data_dir, 'test.csv'), header=False, index=False)\n",
    "\n",
    "pd.concat([val_y, val_X], axis=1).to_csv(os.path.join(data_dir, 'validation.csv'), header=False, index=False)\n",
    "pd.concat([train_y, train_X], axis=1).to_csv(os.path.join(data_dir, 'train.csv'), header=False, index=False)"
   ]
  },
  {
   "cell_type": "code",
   "execution_count": 17,
   "metadata": {},
   "outputs": [],
   "source": [
    "# To save a bit of memory we can set text_X, train_X, val_X, train_y and val_y to None.\n",
    "\n",
    "test_X = train_X = val_X = train_y = val_y = None"
   ]
  },
  {
   "cell_type": "markdown",
   "metadata": {},
   "source": [
    "### Uploading Training / Validation files to S3\n",
    "\n",
    "Amazon's S3 service allows us to store files that can be accessed by both the built-in training models such as the XGBoost model we will be using as well as custom models such as the one we will see a little later.For our purposes we will opt to use the high level approach to sagemaker functionality.\n",
    "\n",
    "Recall the method `upload_data()` which is a member of the object representing our current SageMaker session. What this method does is upload the data to the default bucket (which is created if it does not exist) into the path described by the key_prefix variable. To see this for yourself, once you have uploaded the data files, go to the S3 console and look to see where the files have been uploaded.\n",
    "\n",
    "For additional resources, see the __[SageMaker API documentation](http://sagemaker.readthedocs.io/en/latest/)__ and in addition the __[SageMaker Developer Guide.](https://docs.aws.amazon.com/sagemaker/latest/dg/)__"
   ]
  },
  {
   "cell_type": "code",
   "execution_count": 18,
   "metadata": {},
   "outputs": [],
   "source": [
    "import sagemaker\n",
    "\n",
    "session = sagemaker.Session() # Store the current SageMaker session\n",
    "\n",
    "# S3 prefix (which folder will we use)\n",
    "prefix = 'sentiment-web-app'\n",
    "\n",
    "test_location = session.upload_data(os.path.join(data_dir, 'test.csv'), key_prefix=prefix)\n",
    "val_location = session.upload_data(os.path.join(data_dir, 'validation.csv'), key_prefix=prefix)\n",
    "train_location = session.upload_data(os.path.join(data_dir, 'train.csv'), key_prefix=prefix)"
   ]
  },
  {
   "cell_type": "markdown",
   "metadata": {},
   "source": [
    "## Step 4: Creating the XGBoost model\n",
    "\n",
    "Now that the data has been uploaded it is time to create the XGBoost model. To begin with, we need to do some setup. At this point it is worth discussing what a model is in SageMaker. It is easiest to think of a model of comprising three different objects in the SageMaker ecosystem, which interact with one another.\n",
    "\n",
    "- Model Artifacts\n",
    "- Training Code (Container)\n",
    "- Inference Code (Container)\n",
    "\n",
    "The Model Artifacts are what you might think of as the actual model itself. For example, if you were building a neural network, the model artifacts would be the weights of the various layers. In our case, for an XGBoost model, the artifacts are the actual trees that are created during training.\n",
    "\n",
    "The other two objects, the training code and the inference code are then used to manipulate the training artifacts. More precisely, the training code uses the training data that is provided and creates the model artifacts, while the inference code uses the model artifacts to make predictions on new data.\n",
    "\n",
    "The way that SageMaker runs the training and inference code is by making use of Docker containers. For now, think of a container as being a way of packaging code up so that dependencies aren't an issue."
   ]
  },
  {
   "cell_type": "code",
   "execution_count": 19,
   "metadata": {},
   "outputs": [],
   "source": [
    "from sagemaker import get_execution_role\n",
    "\n",
    "# Our current execution role is required when creating the model as the training\n",
    "# and inference code will need to access the model artifacts.\n",
    "role = get_execution_role()"
   ]
  },
  {
   "cell_type": "code",
   "execution_count": 20,
   "metadata": {},
   "outputs": [
    {
     "name": "stderr",
     "output_type": "stream",
     "text": [
      "WARNING:root:There is a more up to date SageMaker XGBoost image. To use the newer image, please set 'repo_version'='0.90-1'. For example:\n",
      "\tget_image_uri(region, 'xgboost', '0.90-1').\n"
     ]
    }
   ],
   "source": [
    "# We need to retrieve the location of the container which is provided by Amazon for using XGBoost.\n",
    "# As a matter of convenience, the training and inference code both use the same container.\n",
    "from sagemaker.amazon.amazon_estimator import get_image_uri\n",
    "\n",
    "container = get_image_uri(session.boto_region_name, 'xgboost')"
   ]
  },
  {
   "cell_type": "code",
   "execution_count": 21,
   "metadata": {},
   "outputs": [],
   "source": [
    "# First we create a SageMaker estimator object for our model.\n",
    "xgb = sagemaker.estimator.Estimator(container, # The location of the container we wish to use\n",
    "                                    role,                                    # What is our current IAM Role\n",
    "                                    train_instance_count=1,                  # How many compute instances\n",
    "                                    train_instance_type='ml.m4.xlarge',      # What kind of compute instances\n",
    "                                    output_path='s3://{}/{}/output'.format(session.default_bucket(), prefix),\n",
    "                                    sagemaker_session=session)\n",
    "\n",
    "# And then set the algorithm specific parameters.\n",
    "xgb.set_hyperparameters(max_depth=5,\n",
    "                        eta=0.2,\n",
    "                        gamma=4,\n",
    "                        min_child_weight=6,\n",
    "                        subsample=0.8,\n",
    "                        silent=0,\n",
    "                        objective='binary:logistic',\n",
    "                        early_stopping_rounds=10,\n",
    "                        num_round=500)"
   ]
  },
  {
   "cell_type": "markdown",
   "metadata": {},
   "source": [
    "### Fit the XGBoost model\n",
    "\n",
    "Now that our model has been set up we simply need to attach the training and validation datasets and then ask SageMaker to set up the computation."
   ]
  },
  {
   "cell_type": "code",
   "execution_count": 22,
   "metadata": {},
   "outputs": [],
   "source": [
    "s3_input_train = sagemaker.s3_input(s3_data=train_location, content_type='csv')\n",
    "s3_input_validation = sagemaker.s3_input(s3_data=val_location, content_type='csv')"
   ]
  },
  {
   "cell_type": "code",
   "execution_count": 23,
   "metadata": {},
   "outputs": [
    {
     "name": "stdout",
     "output_type": "stream",
     "text": [
      "2019-12-23 12:19:28 Starting - Starting the training job...\n",
      "2019-12-23 12:19:29 Starting - Launching requested ML instances...\n",
      "2019-12-23 12:20:25 Starting - Preparing the instances for training......\n",
      "2019-12-23 12:21:24 Downloading - Downloading input data...\n",
      "2019-12-23 12:21:45 Training - Downloading the training image..\u001b[34mArguments: train\u001b[0m\n",
      "\u001b[34m[2019-12-23:12:22:09:INFO] Running standalone xgboost training.\u001b[0m\n",
      "\u001b[34m[2019-12-23:12:22:09:INFO] File size need to be processed in the node: 238.5mb. Available memory size in the node: 8520.36mb\u001b[0m\n",
      "\u001b[34m[2019-12-23:12:22:09:INFO] Determined delimiter of CSV input is ','\u001b[0m\n",
      "\u001b[34m[12:22:09] S3DistributionType set as FullyReplicated\u001b[0m\n",
      "\u001b[34m[12:22:11] 15000x5000 matrix with 75000000 entries loaded from /opt/ml/input/data/train?format=csv&label_column=0&delimiter=,\u001b[0m\n",
      "\u001b[34m[2019-12-23:12:22:11:INFO] Determined delimiter of CSV input is ','\u001b[0m\n",
      "\u001b[34m[12:22:11] S3DistributionType set as FullyReplicated\u001b[0m\n",
      "\u001b[34m[12:22:12] 10000x5000 matrix with 50000000 entries loaded from /opt/ml/input/data/validation?format=csv&label_column=0&delimiter=,\u001b[0m\n",
      "\u001b[34m[12:22:15] src/tree/updater_prune.cc:74: tree pruning end, 1 roots, 48 extra nodes, 2 pruned nodes, max_depth=5\u001b[0m\n",
      "\u001b[34m[0]#011train-error:0.298133#011validation-error:0.3202\u001b[0m\n",
      "\u001b[34mMultiple eval metrics have been passed: 'validation-error' will be used for early stopping.\n",
      "\u001b[0m\n",
      "\u001b[34mWill train until validation-error hasn't improved in 10 rounds.\u001b[0m\n",
      "\n",
      "2019-12-23 12:22:08 Training - Training image download completed. Training in progress.\u001b[34m[12:22:17] src/tree/updater_prune.cc:74: tree pruning end, 1 roots, 40 extra nodes, 8 pruned nodes, max_depth=5\u001b[0m\n",
      "\u001b[34m[1]#011train-error:0.284467#011validation-error:0.3083\u001b[0m\n",
      "\u001b[34m[12:22:18] src/tree/updater_prune.cc:74: tree pruning end, 1 roots, 44 extra nodes, 8 pruned nodes, max_depth=5\u001b[0m\n",
      "\u001b[34m[2]#011train-error:0.275333#011validation-error:0.3005\u001b[0m\n",
      "\u001b[34m[12:22:20] src/tree/updater_prune.cc:74: tree pruning end, 1 roots, 32 extra nodes, 10 pruned nodes, max_depth=5\u001b[0m\n",
      "\u001b[34m[3]#011train-error:0.273133#011validation-error:0.3014\u001b[0m\n",
      "\u001b[34m[12:22:21] src/tree/updater_prune.cc:74: tree pruning end, 1 roots, 32 extra nodes, 2 pruned nodes, max_depth=5\u001b[0m\n",
      "\u001b[34m[4]#011train-error:0.266733#011validation-error:0.2881\u001b[0m\n",
      "\u001b[34m[12:22:22] src/tree/updater_prune.cc:74: tree pruning end, 1 roots, 40 extra nodes, 6 pruned nodes, max_depth=5\u001b[0m\n",
      "\u001b[34m[5]#011train-error:0.257867#011validation-error:0.2803\u001b[0m\n",
      "\u001b[34m[12:22:23] src/tree/updater_prune.cc:74: tree pruning end, 1 roots, 30 extra nodes, 4 pruned nodes, max_depth=5\u001b[0m\n",
      "\u001b[34m[6]#011train-error:0.247333#011validation-error:0.2738\u001b[0m\n",
      "\u001b[34m[12:22:25] src/tree/updater_prune.cc:74: tree pruning end, 1 roots, 24 extra nodes, 10 pruned nodes, max_depth=5\u001b[0m\n",
      "\u001b[34m[7]#011train-error:0.240933#011validation-error:0.2688\u001b[0m\n",
      "\u001b[34m[12:22:26] src/tree/updater_prune.cc:74: tree pruning end, 1 roots, 34 extra nodes, 6 pruned nodes, max_depth=5\u001b[0m\n",
      "\u001b[34m[8]#011train-error:0.2308#011validation-error:0.2624\u001b[0m\n",
      "\u001b[34m[12:22:27] src/tree/updater_prune.cc:74: tree pruning end, 1 roots, 38 extra nodes, 4 pruned nodes, max_depth=5\u001b[0m\n",
      "\u001b[34m[9]#011train-error:0.2242#011validation-error:0.2556\u001b[0m\n",
      "\u001b[34m[12:22:28] src/tree/updater_prune.cc:74: tree pruning end, 1 roots, 38 extra nodes, 4 pruned nodes, max_depth=5\u001b[0m\n",
      "\u001b[34m[10]#011train-error:0.2206#011validation-error:0.2495\u001b[0m\n",
      "\u001b[34m[12:22:30] src/tree/updater_prune.cc:74: tree pruning end, 1 roots, 34 extra nodes, 14 pruned nodes, max_depth=5\u001b[0m\n",
      "\u001b[34m[11]#011train-error:0.2158#011validation-error:0.249\u001b[0m\n",
      "\u001b[34m[12:22:31] src/tree/updater_prune.cc:74: tree pruning end, 1 roots, 26 extra nodes, 6 pruned nodes, max_depth=5\u001b[0m\n",
      "\u001b[34m[12]#011train-error:0.209267#011validation-error:0.2448\u001b[0m\n",
      "\u001b[34m[12:22:32] src/tree/updater_prune.cc:74: tree pruning end, 1 roots, 22 extra nodes, 12 pruned nodes, max_depth=5\u001b[0m\n",
      "\u001b[34m[13]#011train-error:0.2082#011validation-error:0.2421\u001b[0m\n",
      "\u001b[34m[12:22:34] src/tree/updater_prune.cc:74: tree pruning end, 1 roots, 32 extra nodes, 6 pruned nodes, max_depth=5\u001b[0m\n",
      "\u001b[34m[14]#011train-error:0.2056#011validation-error:0.2388\u001b[0m\n",
      "\u001b[34m[12:22:35] src/tree/updater_prune.cc:74: tree pruning end, 1 roots, 40 extra nodes, 2 pruned nodes, max_depth=5\u001b[0m\n",
      "\u001b[34m[15]#011train-error:0.200933#011validation-error:0.236\u001b[0m\n",
      "\u001b[34m[12:22:36] src/tree/updater_prune.cc:74: tree pruning end, 1 roots, 28 extra nodes, 8 pruned nodes, max_depth=5\u001b[0m\n",
      "\u001b[34m[16]#011train-error:0.199133#011validation-error:0.2329\u001b[0m\n",
      "\u001b[34m[12:22:37] src/tree/updater_prune.cc:74: tree pruning end, 1 roots, 20 extra nodes, 16 pruned nodes, max_depth=5\u001b[0m\n",
      "\u001b[34m[17]#011train-error:0.1964#011validation-error:0.2282\u001b[0m\n",
      "\u001b[34m[12:22:39] src/tree/updater_prune.cc:74: tree pruning end, 1 roots, 34 extra nodes, 6 pruned nodes, max_depth=5\u001b[0m\n",
      "\u001b[34m[18]#011train-error:0.1922#011validation-error:0.2238\u001b[0m\n",
      "\u001b[34m[12:22:40] src/tree/updater_prune.cc:74: tree pruning end, 1 roots, 32 extra nodes, 8 pruned nodes, max_depth=5\u001b[0m\n",
      "\u001b[34m[19]#011train-error:0.189133#011validation-error:0.2215\u001b[0m\n",
      "\u001b[34m[12:22:41] src/tree/updater_prune.cc:74: tree pruning end, 1 roots, 34 extra nodes, 10 pruned nodes, max_depth=5\u001b[0m\n",
      "\u001b[34m[20]#011train-error:0.1856#011validation-error:0.2217\u001b[0m\n",
      "\u001b[34m[12:22:43] src/tree/updater_prune.cc:74: tree pruning end, 1 roots, 32 extra nodes, 12 pruned nodes, max_depth=5\u001b[0m\n",
      "\u001b[34m[21]#011train-error:0.183467#011validation-error:0.2185\u001b[0m\n",
      "\u001b[34m[12:22:44] src/tree/updater_prune.cc:74: tree pruning end, 1 roots, 32 extra nodes, 12 pruned nodes, max_depth=5\u001b[0m\n",
      "\u001b[34m[22]#011train-error:0.1802#011validation-error:0.219\u001b[0m\n",
      "\u001b[34m[12:22:45] src/tree/updater_prune.cc:74: tree pruning end, 1 roots, 32 extra nodes, 2 pruned nodes, max_depth=5\u001b[0m\n",
      "\u001b[34m[23]#011train-error:0.179067#011validation-error:0.215\u001b[0m\n",
      "\u001b[34m[12:22:47] src/tree/updater_prune.cc:74: tree pruning end, 1 roots, 22 extra nodes, 18 pruned nodes, max_depth=5\u001b[0m\n",
      "\u001b[34m[24]#011train-error:0.176467#011validation-error:0.2134\u001b[0m\n",
      "\u001b[34m[12:22:48] src/tree/updater_prune.cc:74: tree pruning end, 1 roots, 24 extra nodes, 8 pruned nodes, max_depth=5\u001b[0m\n",
      "\u001b[34m[25]#011train-error:0.173333#011validation-error:0.2106\u001b[0m\n",
      "\u001b[34m[12:22:49] src/tree/updater_prune.cc:74: tree pruning end, 1 roots, 38 extra nodes, 8 pruned nodes, max_depth=5\u001b[0m\n",
      "\u001b[34m[26]#011train-error:0.1716#011validation-error:0.2094\u001b[0m\n",
      "\u001b[34m[12:22:50] src/tree/updater_prune.cc:74: tree pruning end, 1 roots, 24 extra nodes, 0 pruned nodes, max_depth=5\u001b[0m\n",
      "\u001b[34m[27]#011train-error:0.169467#011validation-error:0.2081\u001b[0m\n",
      "\u001b[34m[12:22:52] src/tree/updater_prune.cc:74: tree pruning end, 1 roots, 22 extra nodes, 10 pruned nodes, max_depth=5\u001b[0m\n",
      "\u001b[34m[28]#011train-error:0.165467#011validation-error:0.2073\u001b[0m\n",
      "\u001b[34m[12:22:53] src/tree/updater_prune.cc:74: tree pruning end, 1 roots, 30 extra nodes, 8 pruned nodes, max_depth=5\u001b[0m\n",
      "\u001b[34m[29]#011train-error:0.1648#011validation-error:0.2069\u001b[0m\n",
      "\u001b[34m[12:22:54] src/tree/updater_prune.cc:74: tree pruning end, 1 roots, 20 extra nodes, 8 pruned nodes, max_depth=5\u001b[0m\n",
      "\u001b[34m[30]#011train-error:0.162#011validation-error:0.2062\u001b[0m\n",
      "\u001b[34m[12:22:55] src/tree/updater_prune.cc:74: tree pruning end, 1 roots, 30 extra nodes, 4 pruned nodes, max_depth=5\u001b[0m\n",
      "\u001b[34m[31]#011train-error:0.159267#011validation-error:0.2054\u001b[0m\n",
      "\u001b[34m[12:22:57] src/tree/updater_prune.cc:74: tree pruning end, 1 roots, 20 extra nodes, 6 pruned nodes, max_depth=5\u001b[0m\n",
      "\u001b[34m[32]#011train-error:0.1576#011validation-error:0.2048\u001b[0m\n",
      "\u001b[34m[12:22:58] src/tree/updater_prune.cc:74: tree pruning end, 1 roots, 32 extra nodes, 4 pruned nodes, max_depth=5\u001b[0m\n",
      "\u001b[34m[33]#011train-error:0.155933#011validation-error:0.2031\u001b[0m\n",
      "\u001b[34m[12:22:59] src/tree/updater_prune.cc:74: tree pruning end, 1 roots, 20 extra nodes, 10 pruned nodes, max_depth=5\u001b[0m\n",
      "\u001b[34m[34]#011train-error:0.154533#011validation-error:0.2025\u001b[0m\n",
      "\u001b[34m[12:23:00] src/tree/updater_prune.cc:74: tree pruning end, 1 roots, 38 extra nodes, 4 pruned nodes, max_depth=5\u001b[0m\n",
      "\u001b[34m[35]#011train-error:0.1524#011validation-error:0.2009\u001b[0m\n",
      "\u001b[34m[12:23:02] src/tree/updater_prune.cc:74: tree pruning end, 1 roots, 16 extra nodes, 12 pruned nodes, max_depth=5\u001b[0m\n",
      "\u001b[34m[36]#011train-error:0.152067#011validation-error:0.1994\u001b[0m\n",
      "\u001b[34m[12:23:03] src/tree/updater_prune.cc:74: tree pruning end, 1 roots, 28 extra nodes, 6 pruned nodes, max_depth=5\u001b[0m\n",
      "\u001b[34m[37]#011train-error:0.149933#011validation-error:0.1973\u001b[0m\n",
      "\u001b[34m[12:23:04] src/tree/updater_prune.cc:74: tree pruning end, 1 roots, 24 extra nodes, 6 pruned nodes, max_depth=5\u001b[0m\n",
      "\u001b[34m[38]#011train-error:0.148067#011validation-error:0.197\u001b[0m\n",
      "\u001b[34m[12:23:06] src/tree/updater_prune.cc:74: tree pruning end, 1 roots, 12 extra nodes, 8 pruned nodes, max_depth=5\u001b[0m\n",
      "\u001b[34m[39]#011train-error:0.147267#011validation-error:0.1964\u001b[0m\n",
      "\u001b[34m[12:23:07] src/tree/updater_prune.cc:74: tree pruning end, 1 roots, 38 extra nodes, 8 pruned nodes, max_depth=5\u001b[0m\n",
      "\u001b[34m[40]#011train-error:0.144467#011validation-error:0.1949\u001b[0m\n"
     ]
    },
    {
     "name": "stdout",
     "output_type": "stream",
     "text": [
      "\u001b[34m[12:23:08] src/tree/updater_prune.cc:74: tree pruning end, 1 roots, 36 extra nodes, 8 pruned nodes, max_depth=5\u001b[0m\n",
      "\u001b[34m[41]#011train-error:0.142733#011validation-error:0.1932\u001b[0m\n",
      "\u001b[34m[12:23:09] src/tree/updater_prune.cc:74: tree pruning end, 1 roots, 18 extra nodes, 10 pruned nodes, max_depth=5\u001b[0m\n",
      "\u001b[34m[42]#011train-error:0.141067#011validation-error:0.1933\u001b[0m\n",
      "\u001b[34m[12:23:11] src/tree/updater_prune.cc:74: tree pruning end, 1 roots, 26 extra nodes, 8 pruned nodes, max_depth=5\u001b[0m\n",
      "\u001b[34m[43]#011train-error:0.141#011validation-error:0.1928\u001b[0m\n",
      "\u001b[34m[12:23:12] src/tree/updater_prune.cc:74: tree pruning end, 1 roots, 22 extra nodes, 6 pruned nodes, max_depth=5\u001b[0m\n",
      "\u001b[34m[44]#011train-error:0.1408#011validation-error:0.1927\u001b[0m\n",
      "\u001b[34m[12:23:13] src/tree/updater_prune.cc:74: tree pruning end, 1 roots, 22 extra nodes, 12 pruned nodes, max_depth=5\u001b[0m\n",
      "\u001b[34m[45]#011train-error:0.1394#011validation-error:0.1913\u001b[0m\n",
      "\u001b[34m[12:23:14] src/tree/updater_prune.cc:74: tree pruning end, 1 roots, 22 extra nodes, 6 pruned nodes, max_depth=5\u001b[0m\n",
      "\u001b[34m[46]#011train-error:0.139267#011validation-error:0.1911\u001b[0m\n",
      "\u001b[34m[12:23:16] src/tree/updater_prune.cc:74: tree pruning end, 1 roots, 28 extra nodes, 16 pruned nodes, max_depth=5\u001b[0m\n",
      "\u001b[34m[47]#011train-error:0.136533#011validation-error:0.1885\u001b[0m\n",
      "\u001b[34m[12:23:17] src/tree/updater_prune.cc:74: tree pruning end, 1 roots, 18 extra nodes, 6 pruned nodes, max_depth=5\u001b[0m\n",
      "\u001b[34m[48]#011train-error:0.135067#011validation-error:0.1876\u001b[0m\n",
      "\u001b[34m[12:23:18] src/tree/updater_prune.cc:74: tree pruning end, 1 roots, 18 extra nodes, 6 pruned nodes, max_depth=5\u001b[0m\n",
      "\u001b[34m[49]#011train-error:0.133667#011validation-error:0.188\u001b[0m\n",
      "\u001b[34m[12:23:20] src/tree/updater_prune.cc:74: tree pruning end, 1 roots, 16 extra nodes, 10 pruned nodes, max_depth=5\u001b[0m\n",
      "\u001b[34m[50]#011train-error:0.134133#011validation-error:0.1874\u001b[0m\n",
      "\u001b[34m[12:23:21] src/tree/updater_prune.cc:74: tree pruning end, 1 roots, 16 extra nodes, 4 pruned nodes, max_depth=5\u001b[0m\n",
      "\u001b[34m[51]#011train-error:0.132267#011validation-error:0.1868\u001b[0m\n",
      "\u001b[34m[12:23:22] src/tree/updater_prune.cc:74: tree pruning end, 1 roots, 18 extra nodes, 4 pruned nodes, max_depth=5\u001b[0m\n",
      "\u001b[34m[52]#011train-error:0.131533#011validation-error:0.1851\u001b[0m\n",
      "\u001b[34m[12:23:23] src/tree/updater_prune.cc:74: tree pruning end, 1 roots, 22 extra nodes, 14 pruned nodes, max_depth=5\u001b[0m\n",
      "\u001b[34m[53]#011train-error:0.1304#011validation-error:0.1832\u001b[0m\n",
      "\u001b[34m[12:23:25] src/tree/updater_prune.cc:74: tree pruning end, 1 roots, 24 extra nodes, 16 pruned nodes, max_depth=5\u001b[0m\n",
      "\u001b[34m[54]#011train-error:0.129933#011validation-error:0.1839\u001b[0m\n",
      "\u001b[34m[12:23:26] src/tree/updater_prune.cc:74: tree pruning end, 1 roots, 36 extra nodes, 6 pruned nodes, max_depth=5\u001b[0m\n",
      "\u001b[34m[55]#011train-error:0.127533#011validation-error:0.1834\u001b[0m\n",
      "\u001b[34m[12:23:27] src/tree/updater_prune.cc:74: tree pruning end, 1 roots, 18 extra nodes, 8 pruned nodes, max_depth=5\u001b[0m\n",
      "\u001b[34m[56]#011train-error:0.127867#011validation-error:0.1833\u001b[0m\n",
      "\u001b[34m[12:23:28] src/tree/updater_prune.cc:74: tree pruning end, 1 roots, 24 extra nodes, 6 pruned nodes, max_depth=5\u001b[0m\n",
      "\u001b[34m[57]#011train-error:0.127067#011validation-error:0.1817\u001b[0m\n",
      "\u001b[34m[12:23:30] src/tree/updater_prune.cc:74: tree pruning end, 1 roots, 22 extra nodes, 10 pruned nodes, max_depth=5\u001b[0m\n",
      "\u001b[34m[58]#011train-error:0.126333#011validation-error:0.1807\u001b[0m\n",
      "\u001b[34m[12:23:31] src/tree/updater_prune.cc:74: tree pruning end, 1 roots, 12 extra nodes, 6 pruned nodes, max_depth=5\u001b[0m\n",
      "\u001b[34m[59]#011train-error:0.1256#011validation-error:0.181\u001b[0m\n",
      "\u001b[34m[12:23:32] src/tree/updater_prune.cc:74: tree pruning end, 1 roots, 16 extra nodes, 10 pruned nodes, max_depth=5\u001b[0m\n",
      "\u001b[34m[60]#011train-error:0.123667#011validation-error:0.1803\u001b[0m\n",
      "\u001b[34m[12:23:34] src/tree/updater_prune.cc:74: tree pruning end, 1 roots, 26 extra nodes, 8 pruned nodes, max_depth=5\u001b[0m\n",
      "\u001b[34m[61]#011train-error:0.123#011validation-error:0.1791\u001b[0m\n",
      "\u001b[34m[12:23:35] src/tree/updater_prune.cc:74: tree pruning end, 1 roots, 14 extra nodes, 4 pruned nodes, max_depth=5\u001b[0m\n",
      "\u001b[34m[62]#011train-error:0.122733#011validation-error:0.1779\u001b[0m\n",
      "\u001b[34m[12:23:36] src/tree/updater_prune.cc:74: tree pruning end, 1 roots, 18 extra nodes, 12 pruned nodes, max_depth=5\u001b[0m\n",
      "\u001b[34m[63]#011train-error:0.121467#011validation-error:0.1769\u001b[0m\n",
      "\u001b[34m[12:23:37] src/tree/updater_prune.cc:74: tree pruning end, 1 roots, 18 extra nodes, 2 pruned nodes, max_depth=5\u001b[0m\n",
      "\u001b[34m[64]#011train-error:0.122267#011validation-error:0.1757\u001b[0m\n",
      "\u001b[34m[12:23:39] src/tree/updater_prune.cc:74: tree pruning end, 1 roots, 22 extra nodes, 10 pruned nodes, max_depth=5\u001b[0m\n",
      "\u001b[34m[65]#011train-error:0.120933#011validation-error:0.174\u001b[0m\n",
      "\u001b[34m[12:23:40] src/tree/updater_prune.cc:74: tree pruning end, 1 roots, 22 extra nodes, 16 pruned nodes, max_depth=5\u001b[0m\n",
      "\u001b[34m[66]#011train-error:0.120467#011validation-error:0.1725\u001b[0m\n",
      "\u001b[34m[12:23:41] src/tree/updater_prune.cc:74: tree pruning end, 1 roots, 28 extra nodes, 4 pruned nodes, max_depth=5\u001b[0m\n",
      "\u001b[34m[67]#011train-error:0.119#011validation-error:0.1718\u001b[0m\n",
      "\u001b[34m[12:23:42] src/tree/updater_prune.cc:74: tree pruning end, 1 roots, 38 extra nodes, 4 pruned nodes, max_depth=5\u001b[0m\n",
      "\u001b[34m[68]#011train-error:0.118267#011validation-error:0.1723\u001b[0m\n",
      "\u001b[34m[12:23:44] src/tree/updater_prune.cc:74: tree pruning end, 1 roots, 16 extra nodes, 6 pruned nodes, max_depth=5\u001b[0m\n",
      "\u001b[34m[69]#011train-error:0.117933#011validation-error:0.1728\u001b[0m\n",
      "\u001b[34m[12:23:45] src/tree/updater_prune.cc:74: tree pruning end, 1 roots, 24 extra nodes, 8 pruned nodes, max_depth=5\u001b[0m\n",
      "\u001b[34m[70]#011train-error:0.116533#011validation-error:0.1725\u001b[0m\n",
      "\u001b[34m[12:23:46] src/tree/updater_prune.cc:74: tree pruning end, 1 roots, 20 extra nodes, 10 pruned nodes, max_depth=5\u001b[0m\n",
      "\u001b[34m[71]#011train-error:0.1152#011validation-error:0.1724\u001b[0m\n",
      "\u001b[34m[12:23:47] src/tree/updater_prune.cc:74: tree pruning end, 1 roots, 26 extra nodes, 6 pruned nodes, max_depth=5\u001b[0m\n",
      "\u001b[34m[72]#011train-error:0.115133#011validation-error:0.1719\u001b[0m\n",
      "\u001b[34m[12:23:49] src/tree/updater_prune.cc:74: tree pruning end, 1 roots, 12 extra nodes, 2 pruned nodes, max_depth=5\u001b[0m\n",
      "\u001b[34m[73]#011train-error:0.114733#011validation-error:0.1717\u001b[0m\n",
      "\u001b[34m[12:23:50] src/tree/updater_prune.cc:74: tree pruning end, 1 roots, 28 extra nodes, 12 pruned nodes, max_depth=5\u001b[0m\n",
      "\u001b[34m[74]#011train-error:0.114467#011validation-error:0.1716\u001b[0m\n",
      "\u001b[34m[12:23:51] src/tree/updater_prune.cc:74: tree pruning end, 1 roots, 26 extra nodes, 2 pruned nodes, max_depth=5\u001b[0m\n",
      "\u001b[34m[75]#011train-error:0.1128#011validation-error:0.1702\u001b[0m\n",
      "\u001b[34m[12:23:52] src/tree/updater_prune.cc:74: tree pruning end, 1 roots, 20 extra nodes, 12 pruned nodes, max_depth=5\u001b[0m\n",
      "\u001b[34m[76]#011train-error:0.112667#011validation-error:0.1685\u001b[0m\n",
      "\u001b[34m[12:23:54] src/tree/updater_prune.cc:74: tree pruning end, 1 roots, 16 extra nodes, 12 pruned nodes, max_depth=5\u001b[0m\n",
      "\u001b[34m[77]#011train-error:0.1126#011validation-error:0.1677\u001b[0m\n",
      "\u001b[34m[12:23:55] src/tree/updater_prune.cc:74: tree pruning end, 1 roots, 14 extra nodes, 12 pruned nodes, max_depth=5\u001b[0m\n",
      "\u001b[34m[78]#011train-error:0.112533#011validation-error:0.1673\u001b[0m\n",
      "\u001b[34m[12:23:56] src/tree/updater_prune.cc:74: tree pruning end, 1 roots, 10 extra nodes, 8 pruned nodes, max_depth=5\u001b[0m\n",
      "\u001b[34m[79]#011train-error:0.1114#011validation-error:0.1672\u001b[0m\n",
      "\u001b[34m[12:23:58] src/tree/updater_prune.cc:74: tree pruning end, 1 roots, 12 extra nodes, 8 pruned nodes, max_depth=5\u001b[0m\n",
      "\u001b[34m[80]#011train-error:0.1106#011validation-error:0.167\u001b[0m\n",
      "\u001b[34m[12:23:59] src/tree/updater_prune.cc:74: tree pruning end, 1 roots, 18 extra nodes, 4 pruned nodes, max_depth=5\u001b[0m\n",
      "\u001b[34m[81]#011train-error:0.1098#011validation-error:0.167\u001b[0m\n",
      "\u001b[34m[12:24:00] src/tree/updater_prune.cc:74: tree pruning end, 1 roots, 26 extra nodes, 14 pruned nodes, max_depth=5\u001b[0m\n",
      "\u001b[34m[82]#011train-error:0.1094#011validation-error:0.1665\u001b[0m\n",
      "\u001b[34m[12:24:01] src/tree/updater_prune.cc:74: tree pruning end, 1 roots, 12 extra nodes, 2 pruned nodes, max_depth=5\u001b[0m\n",
      "\u001b[34m[83]#011train-error:0.109#011validation-error:0.1669\u001b[0m\n",
      "\u001b[34m[12:24:03] src/tree/updater_prune.cc:74: tree pruning end, 1 roots, 36 extra nodes, 8 pruned nodes, max_depth=5\u001b[0m\n",
      "\u001b[34m[84]#011train-error:0.1092#011validation-error:0.1664\u001b[0m\n",
      "\u001b[34m[12:24:04] src/tree/updater_prune.cc:74: tree pruning end, 1 roots, 20 extra nodes, 2 pruned nodes, max_depth=5\u001b[0m\n",
      "\u001b[34m[85]#011train-error:0.108733#011validation-error:0.1666\u001b[0m\n",
      "\u001b[34m[12:24:05] src/tree/updater_prune.cc:74: tree pruning end, 1 roots, 24 extra nodes, 6 pruned nodes, max_depth=5\u001b[0m\n",
      "\u001b[34m[86]#011train-error:0.1078#011validation-error:0.1653\u001b[0m\n",
      "\u001b[34m[12:24:06] src/tree/updater_prune.cc:74: tree pruning end, 1 roots, 20 extra nodes, 16 pruned nodes, max_depth=5\u001b[0m\n",
      "\u001b[34m[87]#011train-error:0.107067#011validation-error:0.1649\u001b[0m\n",
      "\u001b[34m[12:24:08] src/tree/updater_prune.cc:74: tree pruning end, 1 roots, 16 extra nodes, 12 pruned nodes, max_depth=5\u001b[0m\n",
      "\u001b[34m[88]#011train-error:0.106467#011validation-error:0.1642\u001b[0m\n",
      "\u001b[34m[12:24:09] src/tree/updater_prune.cc:74: tree pruning end, 1 roots, 16 extra nodes, 8 pruned nodes, max_depth=5\u001b[0m\n",
      "\u001b[34m[89]#011train-error:0.105133#011validation-error:0.1634\u001b[0m\n",
      "\u001b[34m[12:24:10] src/tree/updater_prune.cc:74: tree pruning end, 1 roots, 22 extra nodes, 12 pruned nodes, max_depth=5\u001b[0m\n",
      "\u001b[34m[90]#011train-error:0.104467#011validation-error:0.1637\u001b[0m\n",
      "\u001b[34m[12:24:12] src/tree/updater_prune.cc:74: tree pruning end, 1 roots, 12 extra nodes, 10 pruned nodes, max_depth=5\u001b[0m\n",
      "\u001b[34m[91]#011train-error:0.1038#011validation-error:0.1633\u001b[0m\n",
      "\u001b[34m[12:24:13] src/tree/updater_prune.cc:74: tree pruning end, 1 roots, 16 extra nodes, 12 pruned nodes, max_depth=5\u001b[0m\n",
      "\u001b[34m[92]#011train-error:0.103867#011validation-error:0.1637\u001b[0m\n",
      "\u001b[34m[12:24:14] src/tree/updater_prune.cc:74: tree pruning end, 1 roots, 14 extra nodes, 4 pruned nodes, max_depth=5\u001b[0m\n",
      "\u001b[34m[93]#011train-error:0.103933#011validation-error:0.1633\u001b[0m\n",
      "\u001b[34m[12:24:15] src/tree/updater_prune.cc:74: tree pruning end, 1 roots, 30 extra nodes, 8 pruned nodes, max_depth=5\u001b[0m\n",
      "\u001b[34m[94]#011train-error:0.102067#011validation-error:0.1649\u001b[0m\n",
      "\u001b[34m[12:24:17] src/tree/updater_prune.cc:74: tree pruning end, 1 roots, 14 extra nodes, 10 pruned nodes, max_depth=5\u001b[0m\n",
      "\u001b[34m[95]#011train-error:0.102733#011validation-error:0.1643\u001b[0m\n",
      "\u001b[34m[12:24:18] src/tree/updater_prune.cc:74: tree pruning end, 1 roots, 20 extra nodes, 6 pruned nodes, max_depth=5\u001b[0m\n",
      "\u001b[34m[96]#011train-error:0.1024#011validation-error:0.1643\u001b[0m\n"
     ]
    },
    {
     "name": "stdout",
     "output_type": "stream",
     "text": [
      "\u001b[34m[12:24:19] src/tree/updater_prune.cc:74: tree pruning end, 1 roots, 14 extra nodes, 8 pruned nodes, max_depth=5\u001b[0m\n",
      "\u001b[34m[97]#011train-error:0.1018#011validation-error:0.1635\u001b[0m\n",
      "\u001b[34m[12:24:20] src/tree/updater_prune.cc:74: tree pruning end, 1 roots, 20 extra nodes, 12 pruned nodes, max_depth=5\u001b[0m\n",
      "\u001b[34m[98]#011train-error:0.101467#011validation-error:0.1622\u001b[0m\n",
      "\u001b[34m[12:24:22] src/tree/updater_prune.cc:74: tree pruning end, 1 roots, 22 extra nodes, 10 pruned nodes, max_depth=5\u001b[0m\n",
      "\u001b[34m[99]#011train-error:0.099933#011validation-error:0.1622\u001b[0m\n",
      "\u001b[34m[12:24:23] src/tree/updater_prune.cc:74: tree pruning end, 1 roots, 14 extra nodes, 2 pruned nodes, max_depth=5\u001b[0m\n",
      "\u001b[34m[100]#011train-error:0.099867#011validation-error:0.1609\u001b[0m\n",
      "\u001b[34m[12:24:24] src/tree/updater_prune.cc:74: tree pruning end, 1 roots, 28 extra nodes, 8 pruned nodes, max_depth=5\u001b[0m\n",
      "\u001b[34m[101]#011train-error:0.098533#011validation-error:0.1613\u001b[0m\n",
      "\u001b[34m[12:24:26] src/tree/updater_prune.cc:74: tree pruning end, 1 roots, 18 extra nodes, 18 pruned nodes, max_depth=5\u001b[0m\n",
      "\u001b[34m[102]#011train-error:0.097933#011validation-error:0.1614\u001b[0m\n",
      "\u001b[34m[12:24:27] src/tree/updater_prune.cc:74: tree pruning end, 1 roots, 12 extra nodes, 6 pruned nodes, max_depth=5\u001b[0m\n",
      "\u001b[34m[103]#011train-error:0.0978#011validation-error:0.1609\u001b[0m\n",
      "\u001b[34m[12:24:28] src/tree/updater_prune.cc:74: tree pruning end, 1 roots, 14 extra nodes, 6 pruned nodes, max_depth=5\u001b[0m\n",
      "\u001b[34m[104]#011train-error:0.098133#011validation-error:0.161\u001b[0m\n",
      "\u001b[34m[12:24:29] src/tree/updater_prune.cc:74: tree pruning end, 1 roots, 10 extra nodes, 6 pruned nodes, max_depth=5\u001b[0m\n",
      "\u001b[34m[105]#011train-error:0.098067#011validation-error:0.1604\u001b[0m\n",
      "\u001b[34m[12:24:31] src/tree/updater_prune.cc:74: tree pruning end, 1 roots, 16 extra nodes, 8 pruned nodes, max_depth=5\u001b[0m\n",
      "\u001b[34m[106]#011train-error:0.096867#011validation-error:0.1598\u001b[0m\n",
      "\u001b[34m[12:24:32] src/tree/updater_prune.cc:74: tree pruning end, 1 roots, 18 extra nodes, 14 pruned nodes, max_depth=5\u001b[0m\n",
      "\u001b[34m[107]#011train-error:0.0964#011validation-error:0.1583\u001b[0m\n",
      "\u001b[34m[12:24:33] src/tree/updater_prune.cc:74: tree pruning end, 1 roots, 24 extra nodes, 10 pruned nodes, max_depth=5\u001b[0m\n",
      "\u001b[34m[108]#011train-error:0.0966#011validation-error:0.1568\u001b[0m\n",
      "\u001b[34m[12:24:34] src/tree/updater_prune.cc:74: tree pruning end, 1 roots, 14 extra nodes, 2 pruned nodes, max_depth=5\u001b[0m\n",
      "\u001b[34m[109]#011train-error:0.095933#011validation-error:0.1566\u001b[0m\n",
      "\u001b[34m[12:24:36] src/tree/updater_prune.cc:74: tree pruning end, 1 roots, 20 extra nodes, 12 pruned nodes, max_depth=5\u001b[0m\n",
      "\u001b[34m[110]#011train-error:0.095733#011validation-error:0.1565\u001b[0m\n",
      "\u001b[34m[12:24:37] src/tree/updater_prune.cc:74: tree pruning end, 1 roots, 16 extra nodes, 8 pruned nodes, max_depth=5\u001b[0m\n",
      "\u001b[34m[111]#011train-error:0.095533#011validation-error:0.1574\u001b[0m\n",
      "\u001b[34m[12:24:38] src/tree/updater_prune.cc:74: tree pruning end, 1 roots, 20 extra nodes, 4 pruned nodes, max_depth=5\u001b[0m\n",
      "\u001b[34m[112]#011train-error:0.095#011validation-error:0.1564\u001b[0m\n",
      "\u001b[34m[12:24:39] src/tree/updater_prune.cc:74: tree pruning end, 1 roots, 16 extra nodes, 8 pruned nodes, max_depth=5\u001b[0m\n",
      "\u001b[34m[113]#011train-error:0.095333#011validation-error:0.1569\u001b[0m\n",
      "\u001b[34m[12:24:41] src/tree/updater_prune.cc:74: tree pruning end, 1 roots, 18 extra nodes, 14 pruned nodes, max_depth=5\u001b[0m\n",
      "\u001b[34m[114]#011train-error:0.094533#011validation-error:0.1566\u001b[0m\n",
      "\u001b[34m[12:24:42] src/tree/updater_prune.cc:74: tree pruning end, 1 roots, 14 extra nodes, 10 pruned nodes, max_depth=5\u001b[0m\n",
      "\u001b[34m[115]#011train-error:0.094533#011validation-error:0.1562\u001b[0m\n",
      "\u001b[34m[12:24:43] src/tree/updater_prune.cc:74: tree pruning end, 1 roots, 14 extra nodes, 6 pruned nodes, max_depth=5\u001b[0m\n",
      "\u001b[34m[116]#011train-error:0.094067#011validation-error:0.1555\u001b[0m\n",
      "\u001b[34m[12:24:44] src/tree/updater_prune.cc:74: tree pruning end, 1 roots, 24 extra nodes, 10 pruned nodes, max_depth=5\u001b[0m\n",
      "\u001b[34m[117]#011train-error:0.093867#011validation-error:0.1568\u001b[0m\n",
      "\u001b[34m[12:24:46] src/tree/updater_prune.cc:74: tree pruning end, 1 roots, 24 extra nodes, 2 pruned nodes, max_depth=5\u001b[0m\n",
      "\u001b[34m[118]#011train-error:0.092267#011validation-error:0.1569\u001b[0m\n",
      "\u001b[34m[12:24:47] src/tree/updater_prune.cc:74: tree pruning end, 1 roots, 14 extra nodes, 14 pruned nodes, max_depth=5\u001b[0m\n",
      "\u001b[34m[119]#011train-error:0.0918#011validation-error:0.157\u001b[0m\n",
      "\u001b[34m[12:24:48] src/tree/updater_prune.cc:74: tree pruning end, 1 roots, 12 extra nodes, 6 pruned nodes, max_depth=5\u001b[0m\n",
      "\u001b[34m[120]#011train-error:0.091333#011validation-error:0.1562\u001b[0m\n",
      "\u001b[34m[12:24:50] src/tree/updater_prune.cc:74: tree pruning end, 1 roots, 26 extra nodes, 18 pruned nodes, max_depth=5\u001b[0m\n",
      "\u001b[34m[121]#011train-error:0.090267#011validation-error:0.1558\u001b[0m\n",
      "\u001b[34m[12:24:51] src/tree/updater_prune.cc:74: tree pruning end, 1 roots, 12 extra nodes, 10 pruned nodes, max_depth=5\u001b[0m\n",
      "\u001b[34m[122]#011train-error:0.0906#011validation-error:0.1551\u001b[0m\n",
      "\u001b[34m[12:24:52] src/tree/updater_prune.cc:74: tree pruning end, 1 roots, 16 extra nodes, 10 pruned nodes, max_depth=5\u001b[0m\n",
      "\u001b[34m[123]#011train-error:0.090267#011validation-error:0.1547\u001b[0m\n",
      "\u001b[34m[12:24:54] src/tree/updater_prune.cc:74: tree pruning end, 1 roots, 10 extra nodes, 10 pruned nodes, max_depth=5\u001b[0m\n",
      "\u001b[34m[124]#011train-error:0.0902#011validation-error:0.1548\u001b[0m\n",
      "\u001b[34m[12:24:55] src/tree/updater_prune.cc:74: tree pruning end, 1 roots, 12 extra nodes, 0 pruned nodes, max_depth=5\u001b[0m\n",
      "\u001b[34m[125]#011train-error:0.09#011validation-error:0.1543\u001b[0m\n",
      "\u001b[34m[12:24:56] src/tree/updater_prune.cc:74: tree pruning end, 1 roots, 18 extra nodes, 12 pruned nodes, max_depth=5\u001b[0m\n",
      "\u001b[34m[126]#011train-error:0.0894#011validation-error:0.1549\u001b[0m\n",
      "\u001b[34m[12:24:57] src/tree/updater_prune.cc:74: tree pruning end, 1 roots, 12 extra nodes, 10 pruned nodes, max_depth=5\u001b[0m\n",
      "\u001b[34m[127]#011train-error:0.089467#011validation-error:0.1555\u001b[0m\n",
      "\u001b[34m[12:24:59] src/tree/updater_prune.cc:74: tree pruning end, 1 roots, 12 extra nodes, 0 pruned nodes, max_depth=5\u001b[0m\n",
      "\u001b[34m[128]#011train-error:0.088933#011validation-error:0.1552\u001b[0m\n",
      "\u001b[34m[12:25:00] src/tree/updater_prune.cc:74: tree pruning end, 1 roots, 14 extra nodes, 10 pruned nodes, max_depth=5\u001b[0m\n",
      "\u001b[34m[129]#011train-error:0.088333#011validation-error:0.1548\u001b[0m\n",
      "\u001b[34m[12:25:01] src/tree/updater_prune.cc:74: tree pruning end, 1 roots, 10 extra nodes, 6 pruned nodes, max_depth=5\u001b[0m\n",
      "\u001b[34m[130]#011train-error:0.088#011validation-error:0.1539\u001b[0m\n",
      "\u001b[34m[12:25:02] src/tree/updater_prune.cc:74: tree pruning end, 1 roots, 26 extra nodes, 20 pruned nodes, max_depth=5\u001b[0m\n",
      "\u001b[34m[131]#011train-error:0.0874#011validation-error:0.1523\u001b[0m\n",
      "\u001b[34m[12:25:04] src/tree/updater_prune.cc:74: tree pruning end, 1 roots, 16 extra nodes, 6 pruned nodes, max_depth=5\u001b[0m\n",
      "\u001b[34m[132]#011train-error:0.087333#011validation-error:0.1519\u001b[0m\n",
      "\u001b[34m[12:25:05] src/tree/updater_prune.cc:74: tree pruning end, 1 roots, 20 extra nodes, 10 pruned nodes, max_depth=5\u001b[0m\n",
      "\u001b[34m[133]#011train-error:0.086733#011validation-error:0.1526\u001b[0m\n",
      "\u001b[34m[12:25:06] src/tree/updater_prune.cc:74: tree pruning end, 1 roots, 24 extra nodes, 16 pruned nodes, max_depth=5\u001b[0m\n",
      "\u001b[34m[134]#011train-error:0.0866#011validation-error:0.1518\u001b[0m\n",
      "\u001b[34m[12:25:07] src/tree/updater_prune.cc:74: tree pruning end, 1 roots, 16 extra nodes, 4 pruned nodes, max_depth=5\u001b[0m\n",
      "\u001b[34m[135]#011train-error:0.086133#011validation-error:0.1522\u001b[0m\n",
      "\u001b[34m[12:25:09] src/tree/updater_prune.cc:74: tree pruning end, 1 roots, 14 extra nodes, 8 pruned nodes, max_depth=5\u001b[0m\n",
      "\u001b[34m[136]#011train-error:0.0858#011validation-error:0.1521\u001b[0m\n",
      "\u001b[34m[12:25:10] src/tree/updater_prune.cc:74: tree pruning end, 1 roots, 22 extra nodes, 8 pruned nodes, max_depth=5\u001b[0m\n",
      "\u001b[34m[137]#011train-error:0.085467#011validation-error:0.1518\u001b[0m\n",
      "\u001b[34m[12:25:11] src/tree/updater_prune.cc:74: tree pruning end, 1 roots, 16 extra nodes, 2 pruned nodes, max_depth=5\u001b[0m\n",
      "\u001b[34m[138]#011train-error:0.084867#011validation-error:0.1514\u001b[0m\n",
      "\u001b[34m[12:25:13] src/tree/updater_prune.cc:74: tree pruning end, 1 roots, 18 extra nodes, 12 pruned nodes, max_depth=5\u001b[0m\n",
      "\u001b[34m[139]#011train-error:0.083733#011validation-error:0.1514\u001b[0m\n",
      "\u001b[34m[12:25:14] src/tree/updater_prune.cc:74: tree pruning end, 1 roots, 16 extra nodes, 12 pruned nodes, max_depth=5\u001b[0m\n",
      "\u001b[34m[140]#011train-error:0.083467#011validation-error:0.1525\u001b[0m\n"
     ]
    },
    {
     "name": "stdout",
     "output_type": "stream",
     "text": [
      "\u001b[34m[12:25:15] src/tree/updater_prune.cc:74: tree pruning end, 1 roots, 28 extra nodes, 12 pruned nodes, max_depth=5\u001b[0m\n",
      "\u001b[34m[141]#011train-error:0.082667#011validation-error:0.1507\u001b[0m\n",
      "\u001b[34m[12:25:16] src/tree/updater_prune.cc:74: tree pruning end, 1 roots, 24 extra nodes, 8 pruned nodes, max_depth=5\u001b[0m\n",
      "\u001b[34m[142]#011train-error:0.081333#011validation-error:0.152\u001b[0m\n",
      "\u001b[34m[12:25:18] src/tree/updater_prune.cc:74: tree pruning end, 1 roots, 16 extra nodes, 8 pruned nodes, max_depth=5\u001b[0m\n",
      "\u001b[34m[143]#011train-error:0.080933#011validation-error:0.1508\u001b[0m\n",
      "\u001b[34m[12:25:19] src/tree/updater_prune.cc:74: tree pruning end, 1 roots, 18 extra nodes, 8 pruned nodes, max_depth=5\u001b[0m\n",
      "\u001b[34m[144]#011train-error:0.0808#011validation-error:0.1505\u001b[0m\n",
      "\u001b[34m[12:25:20] src/tree/updater_prune.cc:74: tree pruning end, 1 roots, 22 extra nodes, 14 pruned nodes, max_depth=5\u001b[0m\n",
      "\u001b[34m[145]#011train-error:0.0802#011validation-error:0.1509\u001b[0m\n",
      "\u001b[34m[12:25:21] src/tree/updater_prune.cc:74: tree pruning end, 1 roots, 18 extra nodes, 10 pruned nodes, max_depth=5\u001b[0m\n",
      "\u001b[34m[146]#011train-error:0.079933#011validation-error:0.1509\u001b[0m\n",
      "\u001b[34m[12:25:23] src/tree/updater_prune.cc:74: tree pruning end, 1 roots, 20 extra nodes, 8 pruned nodes, max_depth=5\u001b[0m\n",
      "\u001b[34m[147]#011train-error:0.079467#011validation-error:0.1504\u001b[0m\n",
      "\u001b[34m[12:25:24] src/tree/updater_prune.cc:74: tree pruning end, 1 roots, 10 extra nodes, 2 pruned nodes, max_depth=5\u001b[0m\n",
      "\u001b[34m[148]#011train-error:0.0798#011validation-error:0.1505\u001b[0m\n",
      "\u001b[34m[12:25:25] src/tree/updater_prune.cc:74: tree pruning end, 1 roots, 32 extra nodes, 6 pruned nodes, max_depth=5\u001b[0m\n",
      "\u001b[34m[149]#011train-error:0.0788#011validation-error:0.1503\u001b[0m\n",
      "\u001b[34m[12:25:26] src/tree/updater_prune.cc:74: tree pruning end, 1 roots, 14 extra nodes, 8 pruned nodes, max_depth=5\u001b[0m\n",
      "\u001b[34m[150]#011train-error:0.078733#011validation-error:0.15\u001b[0m\n",
      "\u001b[34m[12:25:28] src/tree/updater_prune.cc:74: tree pruning end, 1 roots, 12 extra nodes, 10 pruned nodes, max_depth=5\u001b[0m\n",
      "\u001b[34m[151]#011train-error:0.0782#011validation-error:0.1501\u001b[0m\n",
      "\u001b[34m[12:25:29] src/tree/updater_prune.cc:74: tree pruning end, 1 roots, 16 extra nodes, 10 pruned nodes, max_depth=5\u001b[0m\n",
      "\u001b[34m[152]#011train-error:0.078333#011validation-error:0.1495\u001b[0m\n",
      "\u001b[34m[12:25:30] src/tree/updater_prune.cc:74: tree pruning end, 1 roots, 10 extra nodes, 6 pruned nodes, max_depth=5\u001b[0m\n",
      "\u001b[34m[153]#011train-error:0.078467#011validation-error:0.149\u001b[0m\n",
      "\u001b[34m[12:25:32] src/tree/updater_prune.cc:74: tree pruning end, 1 roots, 14 extra nodes, 10 pruned nodes, max_depth=5\u001b[0m\n",
      "\u001b[34m[154]#011train-error:0.078133#011validation-error:0.1483\u001b[0m\n",
      "\u001b[34m[12:25:33] src/tree/updater_prune.cc:74: tree pruning end, 1 roots, 14 extra nodes, 10 pruned nodes, max_depth=5\u001b[0m\n",
      "\u001b[34m[155]#011train-error:0.077667#011validation-error:0.148\u001b[0m\n",
      "\u001b[34m[12:25:34] src/tree/updater_prune.cc:74: tree pruning end, 1 roots, 10 extra nodes, 20 pruned nodes, max_depth=5\u001b[0m\n",
      "\u001b[34m[156]#011train-error:0.077#011validation-error:0.1479\u001b[0m\n",
      "\u001b[34m[12:25:35] src/tree/updater_prune.cc:74: tree pruning end, 1 roots, 10 extra nodes, 0 pruned nodes, max_depth=5\u001b[0m\n",
      "\u001b[34m[157]#011train-error:0.077#011validation-error:0.1485\u001b[0m\n",
      "\u001b[34m[12:25:37] src/tree/updater_prune.cc:74: tree pruning end, 1 roots, 12 extra nodes, 18 pruned nodes, max_depth=5\u001b[0m\n",
      "\u001b[34m[158]#011train-error:0.077267#011validation-error:0.1484\u001b[0m\n",
      "\u001b[34m[12:25:38] src/tree/updater_prune.cc:74: tree pruning end, 1 roots, 14 extra nodes, 12 pruned nodes, max_depth=5\u001b[0m\n",
      "\u001b[34m[159]#011train-error:0.0768#011validation-error:0.1482\u001b[0m\n",
      "\u001b[34m[12:25:39] src/tree/updater_prune.cc:74: tree pruning end, 1 roots, 10 extra nodes, 12 pruned nodes, max_depth=5\u001b[0m\n",
      "\u001b[34m[160]#011train-error:0.077133#011validation-error:0.1483\u001b[0m\n",
      "\u001b[34m[12:25:41] src/tree/updater_prune.cc:74: tree pruning end, 1 roots, 14 extra nodes, 10 pruned nodes, max_depth=5\u001b[0m\n",
      "\u001b[34m[161]#011train-error:0.077467#011validation-error:0.1485\u001b[0m\n",
      "\u001b[34m[12:25:42] src/tree/updater_prune.cc:74: tree pruning end, 1 roots, 16 extra nodes, 0 pruned nodes, max_depth=5\u001b[0m\n",
      "\u001b[34m[162]#011train-error:0.077267#011validation-error:0.1485\u001b[0m\n",
      "\u001b[34m[12:25:43] src/tree/updater_prune.cc:74: tree pruning end, 1 roots, 28 extra nodes, 16 pruned nodes, max_depth=5\u001b[0m\n",
      "\u001b[34m[163]#011train-error:0.076333#011validation-error:0.1482\u001b[0m\n",
      "\u001b[34m[12:25:44] src/tree/updater_prune.cc:74: tree pruning end, 1 roots, 12 extra nodes, 2 pruned nodes, max_depth=5\u001b[0m\n",
      "\u001b[34m[164]#011train-error:0.076133#011validation-error:0.1477\u001b[0m\n",
      "\u001b[34m[12:25:46] src/tree/updater_prune.cc:74: tree pruning end, 1 roots, 12 extra nodes, 0 pruned nodes, max_depth=5\u001b[0m\n",
      "\u001b[34m[165]#011train-error:0.076067#011validation-error:0.1479\u001b[0m\n",
      "\u001b[34m[12:25:47] src/tree/updater_prune.cc:74: tree pruning end, 1 roots, 16 extra nodes, 12 pruned nodes, max_depth=5\u001b[0m\n",
      "\u001b[34m[166]#011train-error:0.075#011validation-error:0.1477\u001b[0m\n",
      "\u001b[34m[12:25:48] src/tree/updater_prune.cc:74: tree pruning end, 1 roots, 16 extra nodes, 4 pruned nodes, max_depth=5\u001b[0m\n",
      "\u001b[34m[167]#011train-error:0.0752#011validation-error:0.1469\u001b[0m\n",
      "\u001b[34m[12:25:49] src/tree/updater_prune.cc:74: tree pruning end, 1 roots, 20 extra nodes, 6 pruned nodes, max_depth=5\u001b[0m\n",
      "\u001b[34m[168]#011train-error:0.074733#011validation-error:0.1471\u001b[0m\n",
      "\u001b[34m[12:25:51] src/tree/updater_prune.cc:74: tree pruning end, 1 roots, 10 extra nodes, 20 pruned nodes, max_depth=5\u001b[0m\n",
      "\u001b[34m[169]#011train-error:0.074733#011validation-error:0.147\u001b[0m\n",
      "\u001b[34m[12:25:52] src/tree/updater_prune.cc:74: tree pruning end, 1 roots, 10 extra nodes, 0 pruned nodes, max_depth=5\u001b[0m\n",
      "\u001b[34m[170]#011train-error:0.0744#011validation-error:0.1474\u001b[0m\n",
      "\u001b[34m[12:25:53] src/tree/updater_prune.cc:74: tree pruning end, 1 roots, 20 extra nodes, 14 pruned nodes, max_depth=5\u001b[0m\n",
      "\u001b[34m[171]#011train-error:0.0744#011validation-error:0.1474\u001b[0m\n",
      "\u001b[34m[12:25:54] src/tree/updater_prune.cc:74: tree pruning end, 1 roots, 16 extra nodes, 16 pruned nodes, max_depth=5\u001b[0m\n",
      "\u001b[34m[172]#011train-error:0.074#011validation-error:0.1467\u001b[0m\n",
      "\u001b[34m[12:25:56] src/tree/updater_prune.cc:74: tree pruning end, 1 roots, 12 extra nodes, 0 pruned nodes, max_depth=5\u001b[0m\n",
      "\u001b[34m[173]#011train-error:0.0738#011validation-error:0.1462\u001b[0m\n",
      "\u001b[34m[12:25:57] src/tree/updater_prune.cc:74: tree pruning end, 1 roots, 20 extra nodes, 12 pruned nodes, max_depth=5\u001b[0m\n",
      "\u001b[34m[174]#011train-error:0.0738#011validation-error:0.1462\u001b[0m\n",
      "\u001b[34m[12:25:58] src/tree/updater_prune.cc:74: tree pruning end, 1 roots, 10 extra nodes, 6 pruned nodes, max_depth=5\u001b[0m\n",
      "\u001b[34m[175]#011train-error:0.073867#011validation-error:0.1459\u001b[0m\n",
      "\u001b[34m[12:26:00] src/tree/updater_prune.cc:74: tree pruning end, 1 roots, 14 extra nodes, 4 pruned nodes, max_depth=5\u001b[0m\n",
      "\u001b[34m[176]#011train-error:0.073267#011validation-error:0.1462\u001b[0m\n",
      "\u001b[34m[12:26:01] src/tree/updater_prune.cc:74: tree pruning end, 1 roots, 14 extra nodes, 12 pruned nodes, max_depth=5\u001b[0m\n",
      "\u001b[34m[177]#011train-error:0.073733#011validation-error:0.1456\u001b[0m\n",
      "\u001b[34m[12:26:02] src/tree/updater_prune.cc:74: tree pruning end, 1 roots, 14 extra nodes, 10 pruned nodes, max_depth=5\u001b[0m\n",
      "\u001b[34m[178]#011train-error:0.073133#011validation-error:0.1461\u001b[0m\n",
      "\u001b[34m[12:26:03] src/tree/updater_prune.cc:74: tree pruning end, 1 roots, 10 extra nodes, 6 pruned nodes, max_depth=5\u001b[0m\n",
      "\u001b[34m[179]#011train-error:0.0736#011validation-error:0.1462\u001b[0m\n",
      "\u001b[34m[12:26:05] src/tree/updater_prune.cc:74: tree pruning end, 1 roots, 20 extra nodes, 4 pruned nodes, max_depth=5\u001b[0m\n",
      "\u001b[34m[180]#011train-error:0.073333#011validation-error:0.1458\u001b[0m\n",
      "\u001b[34m[12:26:06] src/tree/updater_prune.cc:74: tree pruning end, 1 roots, 22 extra nodes, 4 pruned nodes, max_depth=5\u001b[0m\n",
      "\u001b[34m[181]#011train-error:0.071933#011validation-error:0.1464\u001b[0m\n",
      "\u001b[34m[12:26:07] src/tree/updater_prune.cc:74: tree pruning end, 1 roots, 12 extra nodes, 4 pruned nodes, max_depth=5\u001b[0m\n",
      "\u001b[34m[182]#011train-error:0.071933#011validation-error:0.1464\u001b[0m\n",
      "\u001b[34m[12:26:08] src/tree/updater_prune.cc:74: tree pruning end, 1 roots, 16 extra nodes, 6 pruned nodes, max_depth=5\u001b[0m\n",
      "\u001b[34m[183]#011train-error:0.071667#011validation-error:0.1461\u001b[0m\n",
      "\u001b[34m[12:26:10] src/tree/updater_prune.cc:74: tree pruning end, 1 roots, 14 extra nodes, 14 pruned nodes, max_depth=5\u001b[0m\n",
      "\u001b[34m[184]#011train-error:0.071733#011validation-error:0.1469\u001b[0m\n",
      "\u001b[34m[12:26:11] src/tree/updater_prune.cc:74: tree pruning end, 1 roots, 12 extra nodes, 0 pruned nodes, max_depth=5\u001b[0m\n",
      "\u001b[34m[185]#011train-error:0.071533#011validation-error:0.1467\u001b[0m\n",
      "\u001b[34m[12:26:12] src/tree/updater_prune.cc:74: tree pruning end, 1 roots, 12 extra nodes, 16 pruned nodes, max_depth=5\u001b[0m\n",
      "\u001b[34m[186]#011train-error:0.0712#011validation-error:0.1466\u001b[0m\n",
      "\u001b[34m[12:26:13] src/tree/updater_prune.cc:74: tree pruning end, 1 roots, 10 extra nodes, 6 pruned nodes, max_depth=5\u001b[0m\n",
      "\u001b[34m[187]#011train-error:0.071067#011validation-error:0.1467\u001b[0m\n",
      "\u001b[34mStopping. Best iteration:\u001b[0m\n",
      "\u001b[34m[177]#011train-error:0.073733#011validation-error:0.1456\n",
      "\u001b[0m\n"
     ]
    },
    {
     "name": "stdout",
     "output_type": "stream",
     "text": [
      "\n",
      "2019-12-23 12:27:19 Uploading - Uploading generated training model\n",
      "2019-12-23 12:27:19 Completed - Training job completed\n",
      "Training seconds: 355\n",
      "Billable seconds: 355\n"
     ]
    }
   ],
   "source": [
    "xgb.fit({'train': s3_input_train, 'validation': s3_input_validation})"
   ]
  },
  {
   "cell_type": "markdown",
   "metadata": {},
   "source": [
    "## Step 5: Testing the model\n",
    "\n",
    "Now that we've fit our XGBoost model, it's time to see how well it performs. To do this we will use SageMakers Batch Transform functionality. Batch Transform is a convenient way to perform inference on a large dataset in a way that is not realtime. That is, we don't necessarily need to use our model's results immediately and instead we can perform inference on a large number of samples. An example of this in industry might be performing an end of month report. This method of inference can also be useful to us as it means that we can perform inference on our entire test set. \n",
    "\n",
    "To perform a Batch Transformation we need to first create a transformer objects from our trained estimator object."
   ]
  },
  {
   "cell_type": "code",
   "execution_count": 24,
   "metadata": {},
   "outputs": [],
   "source": [
    "xgb_transformer = xgb.transformer(instance_count = 1, instance_type = 'ml.m4.xlarge')"
   ]
  },
  {
   "cell_type": "markdown",
   "metadata": {},
   "source": [
    "Next we actually perform the transform job. When doing so we need to make sure to specify the type of data we are sending so that it is serialized correctly in the background. In our case we are providing our model with csv data so we specify `text/csv`. Also, if the test data that we have provided is too large to process all at once then we need to specify how the data file should be split up. Since each line is a single entry in our data set we tell SageMaker that it can split the input on each line."
   ]
  },
  {
   "cell_type": "code",
   "execution_count": 25,
   "metadata": {},
   "outputs": [],
   "source": [
    "xgb_transformer.transform(test_location, content_type='text/csv', split_type='Line')"
   ]
  },
  {
   "cell_type": "markdown",
   "metadata": {},
   "source": [
    "Currently the transform job is running but it is doing so in the background. Since we wish to wait until the transform job is done and we would like a bit of feedback we can run the `wait()` method."
   ]
  },
  {
   "cell_type": "code",
   "execution_count": 26,
   "metadata": {},
   "outputs": [
    {
     "name": "stdout",
     "output_type": "stream",
     "text": [
      "....................\u001b[34mArguments: serve\u001b[0m\n",
      "\u001b[34m[2019-12-23 12:30:50 +0000] [1] [INFO] Starting gunicorn 19.7.1\u001b[0m\n",
      "\u001b[34m[2019-12-23 12:30:50 +0000] [1] [INFO] Listening at: http://0.0.0.0:8080 (1)\u001b[0m\n",
      "\u001b[34m[2019-12-23 12:30:50 +0000] [1] [INFO] Using worker: gevent\u001b[0m\n",
      "\u001b[34m[2019-12-23 12:30:50 +0000] [39] [INFO] Booting worker with pid: 39\u001b[0m\n",
      "\u001b[34m[2019-12-23 12:30:50 +0000] [40] [INFO] Booting worker with pid: 40\u001b[0m\n",
      "\u001b[34m[2019-12-23 12:30:50 +0000] [41] [INFO] Booting worker with pid: 41\u001b[0m\n",
      "\u001b[34m[2019-12-23:12:30:50:INFO] Model loaded successfully for worker : 39\u001b[0m\n",
      "\u001b[34m[2019-12-23 12:30:50 +0000] [42] [INFO] Booting worker with pid: 42\u001b[0m\n",
      "\u001b[34m[2019-12-23:12:30:50:INFO] Model loaded successfully for worker : 41\u001b[0m\n",
      "\u001b[34m[2019-12-23:12:30:50:INFO] Model loaded successfully for worker : 40\u001b[0m\n",
      "\u001b[34m[2019-12-23:12:30:50:INFO] Model loaded successfully for worker : 42\u001b[0m\n",
      "\u001b[32m2019-12-23T12:31:13.594:[sagemaker logs]: MaxConcurrentTransforms=4, MaxPayloadInMB=6, BatchStrategy=MULTI_RECORD\u001b[0m\n",
      "\u001b[34m[2019-12-23:12:31:16:INFO] Sniff delimiter as ','\u001b[0m\n",
      "\u001b[34m[2019-12-23:12:31:16:INFO] Determined delimiter of CSV input is ','\u001b[0m\n",
      "\u001b[34m[2019-12-23:12:31:16:INFO] Sniff delimiter as ','\u001b[0m\n",
      "\u001b[35m[2019-12-23:12:31:16:INFO] Sniff delimiter as ','\u001b[0m\n",
      "\u001b[35m[2019-12-23:12:31:16:INFO] Determined delimiter of CSV input is ','\u001b[0m\n",
      "\u001b[35m[2019-12-23:12:31:16:INFO] Sniff delimiter as ','\u001b[0m\n",
      "\u001b[34m[2019-12-23:12:31:16:INFO] Determined delimiter of CSV input is ','\u001b[0m\n",
      "\u001b[34m[2019-12-23:12:31:16:INFO] Sniff delimiter as ','\u001b[0m\n",
      "\u001b[34m[2019-12-23:12:31:16:INFO] Determined delimiter of CSV input is ','\u001b[0m\n",
      "\u001b[34m[2019-12-23:12:31:16:INFO] Sniff delimiter as ','\u001b[0m\n",
      "\u001b[34m[2019-12-23:12:31:16:INFO] Determined delimiter of CSV input is ','\u001b[0m\n",
      "\u001b[35m[2019-12-23:12:31:16:INFO] Determined delimiter of CSV input is ','\u001b[0m\n",
      "\u001b[35m[2019-12-23:12:31:16:INFO] Sniff delimiter as ','\u001b[0m\n",
      "\u001b[35m[2019-12-23:12:31:16:INFO] Determined delimiter of CSV input is ','\u001b[0m\n",
      "\u001b[35m[2019-12-23:12:31:16:INFO] Sniff delimiter as ','\u001b[0m\n",
      "\u001b[35m[2019-12-23:12:31:16:INFO] Determined delimiter of CSV input is ','\u001b[0m\n",
      "\u001b[34m[2019-12-23:12:31:18:INFO] Sniff delimiter as ','\u001b[0m\n",
      "\u001b[34m[2019-12-23:12:31:18:INFO] Determined delimiter of CSV input is ','\u001b[0m\n",
      "\u001b[35m[2019-12-23:12:31:18:INFO] Sniff delimiter as ','\u001b[0m\n",
      "\u001b[35m[2019-12-23:12:31:18:INFO] Determined delimiter of CSV input is ','\u001b[0m\n",
      "\u001b[34m[2019-12-23:12:31:19:INFO] Sniff delimiter as ','\u001b[0m\n",
      "\u001b[34m[2019-12-23:12:31:19:INFO] Determined delimiter of CSV input is ','\u001b[0m\n",
      "\u001b[34m[2019-12-23:12:31:19:INFO] Sniff delimiter as ','\u001b[0m\n",
      "\u001b[34m[2019-12-23:12:31:19:INFO] Determined delimiter of CSV input is ','\u001b[0m\n",
      "\u001b[35m[2019-12-23:12:31:19:INFO] Sniff delimiter as ','\u001b[0m\n",
      "\u001b[35m[2019-12-23:12:31:19:INFO] Determined delimiter of CSV input is ','\u001b[0m\n",
      "\u001b[35m[2019-12-23:12:31:19:INFO] Sniff delimiter as ','\u001b[0m\n",
      "\u001b[35m[2019-12-23:12:31:19:INFO] Determined delimiter of CSV input is ','\u001b[0m\n",
      "\u001b[34m[2019-12-23:12:31:19:INFO] Sniff delimiter as ','\u001b[0m\n",
      "\u001b[34m[2019-12-23:12:31:19:INFO] Determined delimiter of CSV input is ','\u001b[0m\n",
      "\u001b[35m[2019-12-23:12:31:19:INFO] Sniff delimiter as ','\u001b[0m\n",
      "\u001b[35m[2019-12-23:12:31:19:INFO] Determined delimiter of CSV input is ','\u001b[0m\n",
      "\u001b[34m[2019-12-23:12:31:21:INFO] Sniff delimiter as ','\u001b[0m\n",
      "\u001b[34m[2019-12-23:12:31:21:INFO] Determined delimiter of CSV input is ','\u001b[0m\n",
      "\u001b[34m[2019-12-23:12:31:21:INFO] Sniff delimiter as ','\u001b[0m\n",
      "\u001b[34m[2019-12-23:12:31:21:INFO] Determined delimiter of CSV input is ','\u001b[0m\n",
      "\u001b[34m[2019-12-23:12:31:21:INFO] Sniff delimiter as ','\u001b[0m\n",
      "\u001b[34m[2019-12-23:12:31:21:INFO] Determined delimiter of CSV input is ','\u001b[0m\n",
      "\u001b[35m[2019-12-23:12:31:21:INFO] Sniff delimiter as ','\u001b[0m\n",
      "\u001b[35m[2019-12-23:12:31:21:INFO] Determined delimiter of CSV input is ','\u001b[0m\n",
      "\u001b[35m[2019-12-23:12:31:21:INFO] Sniff delimiter as ','\u001b[0m\n",
      "\u001b[35m[2019-12-23:12:31:21:INFO] Determined delimiter of CSV input is ','\u001b[0m\n",
      "\u001b[35m[2019-12-23:12:31:21:INFO] Sniff delimiter as ','\u001b[0m\n",
      "\u001b[35m[2019-12-23:12:31:21:INFO] Determined delimiter of CSV input is ','\u001b[0m\n",
      "\u001b[34m[2019-12-23:12:31:23:INFO] Sniff delimiter as ','\u001b[0m\n",
      "\u001b[34m[2019-12-23:12:31:23:INFO] Determined delimiter of CSV input is ','\u001b[0m\n",
      "\u001b[34m[2019-12-23:12:31:23:INFO] Sniff delimiter as ','\u001b[0m\n",
      "\u001b[34m[2019-12-23:12:31:23:INFO] Determined delimiter of CSV input is ','\u001b[0m\n",
      "\u001b[34m[2019-12-23:12:31:23:INFO] Sniff delimiter as ','\u001b[0m\n",
      "\u001b[34m[2019-12-23:12:31:23:INFO] Determined delimiter of CSV input is ','\u001b[0m\n",
      "\u001b[34m[2019-12-23:12:31:24:INFO] Sniff delimiter as ','\u001b[0m\n",
      "\u001b[34m[2019-12-23:12:31:24:INFO] Determined delimiter of CSV input is ','\u001b[0m\n",
      "\u001b[35m[2019-12-23:12:31:23:INFO] Sniff delimiter as ','\u001b[0m\n",
      "\u001b[35m[2019-12-23:12:31:23:INFO] Determined delimiter of CSV input is ','\u001b[0m\n",
      "\u001b[35m[2019-12-23:12:31:23:INFO] Sniff delimiter as ','\u001b[0m\n",
      "\u001b[35m[2019-12-23:12:31:23:INFO] Determined delimiter of CSV input is ','\u001b[0m\n",
      "\u001b[35m[2019-12-23:12:31:23:INFO] Sniff delimiter as ','\u001b[0m\n",
      "\u001b[35m[2019-12-23:12:31:23:INFO] Determined delimiter of CSV input is ','\u001b[0m\n",
      "\u001b[35m[2019-12-23:12:31:24:INFO] Sniff delimiter as ','\u001b[0m\n",
      "\u001b[35m[2019-12-23:12:31:24:INFO] Determined delimiter of CSV input is ','\u001b[0m\n",
      "\u001b[34m[2019-12-23:12:31:25:INFO] Sniff delimiter as ','\u001b[0m\n",
      "\u001b[34m[2019-12-23:12:31:25:INFO] Determined delimiter of CSV input is ','\u001b[0m\n",
      "\u001b[34m[2019-12-23:12:31:26:INFO] Sniff delimiter as ','\u001b[0m\n",
      "\u001b[34m[2019-12-23:12:31:26:INFO] Determined delimiter of CSV input is ','\u001b[0m\n",
      "\u001b[35m[2019-12-23:12:31:25:INFO] Sniff delimiter as ','\u001b[0m\n",
      "\u001b[35m[2019-12-23:12:31:25:INFO] Determined delimiter of CSV input is ','\u001b[0m\n",
      "\u001b[35m[2019-12-23:12:31:26:INFO] Sniff delimiter as ','\u001b[0m\n",
      "\u001b[35m[2019-12-23:12:31:26:INFO] Determined delimiter of CSV input is ','\u001b[0m\n",
      "\u001b[34m[2019-12-23:12:31:26:INFO] Sniff delimiter as ','\u001b[0m\n",
      "\u001b[34m[2019-12-23:12:31:26:INFO] Determined delimiter of CSV input is ','\u001b[0m\n",
      "\u001b[34m[2019-12-23:12:31:26:INFO] Sniff delimiter as ','\u001b[0m\n",
      "\u001b[34m[2019-12-23:12:31:26:INFO] Determined delimiter of CSV input is ','\u001b[0m\n",
      "\u001b[35m[2019-12-23:12:31:26:INFO] Sniff delimiter as ','\u001b[0m\n",
      "\u001b[35m[2019-12-23:12:31:26:INFO] Determined delimiter of CSV input is ','\u001b[0m\n",
      "\u001b[35m[2019-12-23:12:31:26:INFO] Sniff delimiter as ','\u001b[0m\n",
      "\u001b[35m[2019-12-23:12:31:26:INFO] Determined delimiter of CSV input is ','\u001b[0m\n",
      "\u001b[34m[2019-12-23:12:31:28:INFO] Sniff delimiter as ','\u001b[0m\n",
      "\u001b[34m[2019-12-23:12:31:28:INFO] Determined delimiter of CSV input is ','\u001b[0m\n",
      "\u001b[34m[2019-12-23:12:31:28:INFO] Sniff delimiter as ','\u001b[0m\n",
      "\u001b[34m[2019-12-23:12:31:28:INFO] Determined delimiter of CSV input is ','\u001b[0m\n",
      "\u001b[34m[2019-12-23:12:31:28:INFO] Sniff delimiter as ','\u001b[0m\n",
      "\u001b[34m[2019-12-23:12:31:28:INFO] Determined delimiter of CSV input is ','\u001b[0m\n",
      "\u001b[34m[2019-12-23:12:31:28:INFO] Sniff delimiter as ','\u001b[0m\n",
      "\u001b[34m[2019-12-23:12:31:28:INFO] Determined delimiter of CSV input is ','\u001b[0m\n",
      "\u001b[35m[2019-12-23:12:31:28:INFO] Sniff delimiter as ','\u001b[0m\n",
      "\u001b[35m[2019-12-23:12:31:28:INFO] Determined delimiter of CSV input is ','\u001b[0m\n",
      "\u001b[35m[2019-12-23:12:31:28:INFO] Sniff delimiter as ','\u001b[0m\n",
      "\u001b[35m[2019-12-23:12:31:28:INFO] Determined delimiter of CSV input is ','\u001b[0m\n",
      "\u001b[35m[2019-12-23:12:31:28:INFO] Sniff delimiter as ','\u001b[0m\n",
      "\u001b[35m[2019-12-23:12:31:28:INFO] Determined delimiter of CSV input is ','\u001b[0m\n",
      "\u001b[35m[2019-12-23:12:31:28:INFO] Sniff delimiter as ','\u001b[0m\n",
      "\u001b[35m[2019-12-23:12:31:28:INFO] Determined delimiter of CSV input is ','\u001b[0m\n",
      "\u001b[34m[2019-12-23:12:31:30:INFO] Sniff delimiter as ','\u001b[0m\n",
      "\u001b[34m[2019-12-23:12:31:30:INFO] Determined delimiter of CSV input is ','\u001b[0m\n",
      "\u001b[34m[2019-12-23:12:31:30:INFO] Sniff delimiter as ','\u001b[0m\n",
      "\u001b[34m[2019-12-23:12:31:30:INFO] Determined delimiter of CSV input is ','\u001b[0m\n",
      "\u001b[34m[2019-12-23:12:31:31:INFO] Sniff delimiter as ','\u001b[0m\n",
      "\u001b[34m[2019-12-23:12:31:31:INFO] Determined delimiter of CSV input is ','\u001b[0m\n",
      "\u001b[35m[2019-12-23:12:31:30:INFO] Sniff delimiter as ','\u001b[0m\n",
      "\u001b[35m[2019-12-23:12:31:30:INFO] Determined delimiter of CSV input is ','\u001b[0m\n",
      "\u001b[35m[2019-12-23:12:31:30:INFO] Sniff delimiter as ','\u001b[0m\n",
      "\u001b[35m[2019-12-23:12:31:30:INFO] Determined delimiter of CSV input is ','\u001b[0m\n",
      "\u001b[35m[2019-12-23:12:31:31:INFO] Sniff delimiter as ','\u001b[0m\n",
      "\u001b[35m[2019-12-23:12:31:31:INFO] Determined delimiter of CSV input is ','\u001b[0m\n",
      "\n",
      "\u001b[34m[2019-12-23:12:31:33:INFO] Sniff delimiter as ','\u001b[0m\n",
      "\u001b[34m[2019-12-23:12:31:33:INFO] Determined delimiter of CSV input is ','\u001b[0m\n",
      "\u001b[34m[2019-12-23:12:31:33:INFO] Sniff delimiter as ','\u001b[0m\n",
      "\u001b[34m[2019-12-23:12:31:33:INFO] Determined delimiter of CSV input is ','\u001b[0m\n",
      "\u001b[35m[2019-12-23:12:31:33:INFO] Sniff delimiter as ','\u001b[0m\n",
      "\u001b[35m[2019-12-23:12:31:33:INFO] Determined delimiter of CSV input is ','\u001b[0m\n",
      "\u001b[35m[2019-12-23:12:31:33:INFO] Sniff delimiter as ','\u001b[0m\n",
      "\u001b[35m[2019-12-23:12:31:33:INFO] Determined delimiter of CSV input is ','\u001b[0m\n",
      "\u001b[34m[2019-12-23:12:31:35:INFO] Sniff delimiter as ','\u001b[0m\n",
      "\u001b[34m[2019-12-23:12:31:35:INFO] Determined delimiter of CSV input is ','\u001b[0m\n",
      "\u001b[34m[2019-12-23:12:31:35:INFO] Sniff delimiter as ','\u001b[0m\n",
      "\u001b[34m[2019-12-23:12:31:35:INFO] Determined delimiter of CSV input is ','\u001b[0m\n",
      "\u001b[34m[2019-12-23:12:31:35:INFO] Sniff delimiter as ','\u001b[0m\n",
      "\u001b[34m[2019-12-23:12:31:35:INFO] Determined delimiter of CSV input is ','\u001b[0m\n",
      "\u001b[34m[2019-12-23:12:31:36:INFO] Sniff delimiter as ','\u001b[0m\n",
      "\u001b[34m[2019-12-23:12:31:36:INFO] Determined delimiter of CSV input is ','\u001b[0m\n",
      "\u001b[35m[2019-12-23:12:31:35:INFO] Sniff delimiter as ','\u001b[0m\n",
      "\u001b[35m[2019-12-23:12:31:35:INFO] Determined delimiter of CSV input is ','\u001b[0m\n",
      "\u001b[35m[2019-12-23:12:31:35:INFO] Sniff delimiter as ','\u001b[0m\n",
      "\u001b[35m[2019-12-23:12:31:35:INFO] Determined delimiter of CSV input is ','\u001b[0m\n",
      "\u001b[35m[2019-12-23:12:31:35:INFO] Sniff delimiter as ','\u001b[0m\n",
      "\u001b[35m[2019-12-23:12:31:35:INFO] Determined delimiter of CSV input is ','\u001b[0m\n",
      "\u001b[35m[2019-12-23:12:31:36:INFO] Sniff delimiter as ','\u001b[0m\n",
      "\u001b[35m[2019-12-23:12:31:36:INFO] Determined delimiter of CSV input is ','\u001b[0m\n",
      "\u001b[34m[2019-12-23:12:31:37:INFO] Sniff delimiter as ','\u001b[0m\n",
      "\u001b[34m[2019-12-23:12:31:37:INFO] Determined delimiter of CSV input is ','\u001b[0m\n",
      "\u001b[34m[2019-12-23:12:31:38:INFO] Sniff delimiter as ','\u001b[0m\n",
      "\u001b[34m[2019-12-23:12:31:38:INFO] Determined delimiter of CSV input is ','\u001b[0m\n",
      "\u001b[34m[2019-12-23:12:31:38:INFO] Sniff delimiter as ','\u001b[0m\n",
      "\u001b[34m[2019-12-23:12:31:38:INFO] Determined delimiter of CSV input is ','\u001b[0m\n",
      "\u001b[35m[2019-12-23:12:31:37:INFO] Sniff delimiter as ','\u001b[0m\n",
      "\u001b[35m[2019-12-23:12:31:37:INFO] Determined delimiter of CSV input is ','\u001b[0m\n",
      "\u001b[35m[2019-12-23:12:31:38:INFO] Sniff delimiter as ','\u001b[0m\n",
      "\u001b[35m[2019-12-23:12:31:38:INFO] Determined delimiter of CSV input is ','\u001b[0m\n",
      "\u001b[35m[2019-12-23:12:31:38:INFO] Sniff delimiter as ','\u001b[0m\n",
      "\u001b[35m[2019-12-23:12:31:38:INFO] Determined delimiter of CSV input is ','\u001b[0m\n",
      "\u001b[34m[2019-12-23:12:31:38:INFO] Sniff delimiter as ','\u001b[0m\n",
      "\u001b[34m[2019-12-23:12:31:38:INFO] Determined delimiter of CSV input is ','\u001b[0m\n",
      "\u001b[35m[2019-12-23:12:31:38:INFO] Sniff delimiter as ','\u001b[0m\n",
      "\u001b[35m[2019-12-23:12:31:38:INFO] Determined delimiter of CSV input is ','\u001b[0m\n"
     ]
    }
   ],
   "source": [
    "xgb_transformer.wait()"
   ]
  },
  {
   "cell_type": "markdown",
   "metadata": {},
   "source": [
    "Now the transform job has executed and the result, the estimated sentiment of each review, has been saved on S3. Since we would rather work on this file locally we can perform a bit of notebook magic to copy the file to the `data_dir`."
   ]
  },
  {
   "cell_type": "code",
   "execution_count": 27,
   "metadata": {},
   "outputs": [
    {
     "name": "stdout",
     "output_type": "stream",
     "text": [
      "Completed 256.0 KiB/370.4 KiB (2.5 MiB/s) with 1 file(s) remaining\r",
      "Completed 370.4 KiB/370.4 KiB (3.6 MiB/s) with 1 file(s) remaining\r",
      "download: s3://sagemaker-eu-west-1-873674308518/xgboost-2019-12-23-12-27-43-719/test.csv.out to ../data/sentiment_web_app/test.csv.out\r\n"
     ]
    }
   ],
   "source": [
    "!aws s3 cp --recursive $xgb_transformer.output_path $data_dir"
   ]
  },
  {
   "cell_type": "markdown",
   "metadata": {},
   "source": [
    "The last step is now to read in the output from our model, convert the output to something a little more usable, in this case we want the sentiment to be either `1` (positive) or `0` (negative), and then compare to the ground truth labels."
   ]
  },
  {
   "cell_type": "code",
   "execution_count": 28,
   "metadata": {},
   "outputs": [],
   "source": [
    "predictions = pd.read_csv(os.path.join(data_dir, 'test.csv.out'), header=None)\n",
    "predictions = [round(num) for num in predictions.squeeze().values]"
   ]
  },
  {
   "cell_type": "code",
   "execution_count": 29,
   "metadata": {},
   "outputs": [
    {
     "data": {
      "text/plain": [
       "0.86152"
      ]
     },
     "execution_count": 29,
     "metadata": {},
     "output_type": "execute_result"
    }
   ],
   "source": [
    "from sklearn.metrics import accuracy_score\n",
    "accuracy_score(test_y, predictions)"
   ]
  },
  {
   "cell_type": "markdown",
   "metadata": {},
   "source": [
    "## Step 6: Deploying the model\n",
    "\n",
    "Once we construct and fit our model, SageMaker stores the resulting model artifacts and we can use those to deploy an endpoint (inference code). To see this, look in the SageMaker console and you should see that a model has been created along with a link to the S3 location where the model artifacts have been stored.\n",
    "\n",
    "Deploying an endpoint is a lot like training the model with a few important differences. The first is that a deployed model doesn't change the model artifacts, so as you send it various testing instances the model won't change. Another difference is that since we aren't performing a fixed computation, as we were in the training step or while performing a batch transform, the compute instance that gets started stays running until we tell it to stop. This is important to note as if we forget and leave it running we will be charged the entire time. In other words **If you are no longer using a deployed endpoint, shut it down!**"
   ]
  },
  {
   "cell_type": "code",
   "execution_count": 30,
   "metadata": {},
   "outputs": [
    {
     "name": "stderr",
     "output_type": "stream",
     "text": [
      "WARNING:sagemaker:Using already existing model: xgboost-2019-12-23-12-19-28-156\n"
     ]
    },
    {
     "name": "stdout",
     "output_type": "stream",
     "text": [
      "--------------------------------------------------------------------------------------------------!"
     ]
    }
   ],
   "source": [
    "xgb_predictor = xgb.deploy(initial_instance_count = 1, instance_type = 'ml.m4.xlarge')"
   ]
  },
  {
   "cell_type": "markdown",
   "metadata": {},
   "source": [
    "### Testing the model (again)\n",
    "\n",
    "Now that we have deployed our endpoint, we can send the testing data to it and get back the inference results. We already did this earlier using the batch transform functionality of SageMaker, however, we will test our model again using the newly deployed endpoint so that we can make sure that it works properly and to get a bit of a feel for how the endpoint works.\n",
    "\n",
    "When using the created endpoint it is important to know that we are limited in the amount of information we can send in each call so we need to break the testing data up into chunks and then send each chunk. Also, we need to serialize our data before we send it to the endpoint to ensure that our data is transmitted properly. Fortunately, SageMaker can do the serialization part for us provided we tell it the format of our data."
   ]
  },
  {
   "cell_type": "code",
   "execution_count": 31,
   "metadata": {},
   "outputs": [],
   "source": [
    "from sagemaker.predictor import csv_serializer\n",
    "\n",
    "# We need to tell the endpoint what format the data we are sending is in so that SageMaker can perform the serialization.\n",
    "xgb_predictor.content_type = 'text/csv'\n",
    "xgb_predictor.serializer = csv_serializer"
   ]
  },
  {
   "cell_type": "code",
   "execution_count": 32,
   "metadata": {},
   "outputs": [],
   "source": [
    "# We split the data into chunks and send each chunk seperately, accumulating the results.\n",
    "\n",
    "def predict(data, rows=512):\n",
    "    split_array = np.array_split(data, int(data.shape[0] / float(rows) + 1))\n",
    "    predictions = ''\n",
    "    for array in split_array:\n",
    "        predictions = ','.join([predictions, xgb_predictor.predict(array).decode('utf-8')])\n",
    "    \n",
    "    return np.fromstring(predictions[1:], sep=',')  # return as np.array "
   ]
  },
  {
   "cell_type": "code",
   "execution_count": 33,
   "metadata": {},
   "outputs": [],
   "source": [
    "test_X = pd.read_csv(os.path.join(data_dir, 'test.csv'), header=None).values\n",
    "\n",
    "predictions = predict(test_X)\n",
    "predictions = [round(num) for num in predictions]"
   ]
  },
  {
   "cell_type": "markdown",
   "metadata": {},
   "source": [
    "Lastly, we check to see what the accuracy of our model is."
   ]
  },
  {
   "cell_type": "code",
   "execution_count": 34,
   "metadata": {},
   "outputs": [
    {
     "data": {
      "text/plain": [
       "0.86152"
      ]
     },
     "execution_count": 34,
     "metadata": {},
     "output_type": "execute_result"
    }
   ],
   "source": [
    "from sklearn.metrics import accuracy_score\n",
    "accuracy_score(test_y, predictions)"
   ]
  },
  {
   "cell_type": "markdown",
   "metadata": {},
   "source": [
    "And the results here should agree with the model testing that we did earlier using the batch transform job.\n",
    "\n",
    "### Cleaning up\n",
    "\n",
    "Now that we've determined that deploying our model works as expected, we are going to shut it down. Remember that the longer the endpoint is left running, the greater the cost and since we have a bit more work to do before we are able to use our endpoint with our simple web app, we should shut everything down."
   ]
  },
  {
   "cell_type": "code",
   "execution_count": 35,
   "metadata": {},
   "outputs": [],
   "source": [
    "xgb_predictor.delete_endpoint()"
   ]
  },
  {
   "cell_type": "markdown",
   "metadata": {},
   "source": [
    "## Step 7: Putting our model to work\n",
    "\n",
    "As we've mentioned a few times now, our goal is to have our model deployed and then access it using a very simple web app. The intent is for this web app to take some user submitted data (a review), send it off to our endpoint (the model) and then display the result.\n",
    "\n",
    "However, there is a small catch. Currently the only way we can access the endpoint to send it data is using the SageMaker API. We can, if we wish, expose the actual URL that our model's endpoint is receiving data from, however, if we just send it data ourselves we will not get anything in return. This is because the endpoint created by SageMaker requires the entity accessing it have the correct permissions. So, we would need to somehow authenticate our web app with AWS.\n",
    "\n",
    "Having a website that authenticates to AWS seems a bit beyond the scope of this lesson so we will opt for an alternative approach. Namely, **we will create a new endpoint which does not require authentication and which acts as a proxy for the SageMaker endpoint.**\n",
    "\n",
    "As an additional constraint, we will try to avoid doing any data processing in the web app itself. Remember that when we constructed and tested our model we started with a movie review, then we simplified it by removing any html formatting and punctuation, then we constructed a bag of words embedding and the resulting vector is what we sent to our model. All of this needs to be done to our user input as well.\n",
    "\n",
    "Fortunately we can do all of this data processing in the backend, **using Amazon's Lambda service.**\n",
    "\n",
    "<img src=\"Web App Diagram.svg\">\n",
    "\n",
    "The diagram above gives an overview of how the various services will work together. On the far right is the model which we trained above and which will be deployed using SageMaker. On the far left is our web app that collects a user's movie review, sends it off and expects a positive or negative sentiment in return.\n",
    "\n",
    "In the middle is where some of the magic happens. We will construct a Lambda function, which you can think of as a straightforward Python function that can be executed whenever a specified event occurs. This Python function will do the data processing we need to perform on a user submitted review. In addition, we will give this function permission to send and recieve data from a SageMaker endpoint.\n",
    "\n",
    "Lastly, **the method we will use to execute the Lambda function is a new endpoint that we will create using API Gateway.** This endpoint will be a url that listens for data to be sent to it. Once it gets some data it will pass that data on to the Lambda function and then return whatever the Lambda function returns. Essentially it will act as an interface that lets our web app communicate with the Lambda function.\n",
    "\n",
    "### Processing a single review\n",
    "\n",
    "For now, suppose we are given a movie review by our user in the form of a string, like so:"
   ]
  },
  {
   "cell_type": "code",
   "execution_count": 36,
   "metadata": {},
   "outputs": [],
   "source": [
    "test_review = \"Nothing but a disgusting materialistic pageant of glistening abed remote control greed zombies, totally devoid of any heart or heat. A romantic comedy that has zero romantic chemestry and zero laughs!\""
   ]
  },
  {
   "cell_type": "markdown",
   "metadata": {},
   "source": [
    "How do we go from this string to the bag of words feature vector that is expected by our model?\n",
    "\n",
    "If we recall at the beginning of this notebook, the first step is to remove any unnecessary characters using the `review_to_words` method. Remember that we intentionally did this in a very simplistic way. This is because we are going to have to copy this method to our (eventual) Lambda function (we will go into more detail later) and this means it needs to be rather simplistic."
   ]
  },
  {
   "cell_type": "code",
   "execution_count": 37,
   "metadata": {},
   "outputs": [
    {
     "name": "stdout",
     "output_type": "stream",
     "text": [
      "nothing but a disgusting materialistic pageant of glistening abed remote control greed zombies totally devoid of any heart or heat a romantic comedy that has zero romantic chemestry and zero laughs\n"
     ]
    }
   ],
   "source": [
    "test_words = review_to_words(test_review)\n",
    "print(test_words)"
   ]
  },
  {
   "cell_type": "markdown",
   "metadata": {},
   "source": [
    "Next, we need to construct a bag of words embedding of the `test_words` string. To do this, remember that a bag of words embedding uses a `vocabulary` consisting of the most frequently appearing words in a set of documents. Then, for each word in the vocabulary we record the number of times that word appears in `test_words`. We constructed the `vocabulary` earlier using the training set for our problem so encoding `test_words` is relatively straightforward."
   ]
  },
  {
   "cell_type": "code",
   "execution_count": 38,
   "metadata": {},
   "outputs": [],
   "source": [
    "def bow_encoding(words, vocabulary):\n",
    "    bow = [0] * len(vocabulary) # Start by setting the count for each word in the vocabulary to zero.\n",
    "    for word in words.split():  # For each word in the string\n",
    "        if word in vocabulary:  # If the word is one that occurs in the vocabulary, increase its count.\n",
    "            bow[vocabulary[word]] += 1\n",
    "    return bow"
   ]
  },
  {
   "cell_type": "code",
   "execution_count": 39,
   "metadata": {},
   "outputs": [
    {
     "name": "stdout",
     "output_type": "stream",
     "text": [
      "[0, 0, 0, 0, 0, 0, 0, 0, 0, 0, 0, 0, 0, 0, 0, 0, 0, 0, 0, 0, 0, 0, 0, 0, 0, 0, 0, 0, 0, 0, 0, 0, 0, 0, 0, 0, 0, 0, 0, 0, 0, 0, 0, 0, 0, 0, 0, 0, 0, 0, 0, 0, 0, 0, 0, 0, 0, 0, 0, 0, 0, 0, 0, 0, 0, 0, 0, 0, 0, 0, 0, 0, 0, 0, 0, 0, 0, 0, 0, 0, 0, 0, 0, 0, 0, 0, 0, 0, 0, 0, 0, 0, 0, 0, 0, 0, 0, 0, 0, 0, 0, 0, 0, 0, 0, 0, 0, 0, 0, 0, 0, 0, 0, 0, 0, 0, 0, 0, 0, 0, 0, 0, 0, 0, 0, 0, 0, 0, 0, 0, 0, 0, 0, 0, 0, 0, 0, 0, 0, 0, 0, 0, 0, 0, 0, 0, 0, 0, 0, 0, 0, 0, 0, 0, 0, 0, 0, 0, 0, 0, 0, 0, 0, 0, 0, 0, 0, 0, 0, 0, 0, 0, 0, 0, 0, 0, 0, 0, 0, 0, 0, 0, 0, 0, 0, 0, 0, 0, 0, 0, 0, 0, 0, 0, 0, 0, 0, 0, 0, 0, 0, 0, 0, 0, 0, 0, 0, 0, 0, 0, 0, 0, 0, 0, 0, 0, 0, 0, 0, 0, 0, 0, 0, 0, 0, 0, 1, 0, 0, 0, 0, 0, 0, 0, 0, 0, 0, 0, 0, 0, 0, 0, 0, 0, 0, 0, 0, 0, 0, 0, 0, 0, 0, 0, 0, 0, 1, 0, 0, 0, 0, 0, 0, 0, 0, 0, 0, 0, 0, 0, 0, 0, 0, 0, 0, 0, 0, 0, 0, 0, 0, 0, 0, 0, 0, 0, 0, 0, 0, 0, 0, 0, 0, 0, 0, 0, 0, 0, 0, 0, 0, 0, 0, 0, 0, 0, 0, 0, 0, 0, 0, 0, 0, 0, 0, 0, 0, 0, 0, 0, 0, 0, 0, 0, 0, 0, 0, 0, 0, 0, 0, 0, 0, 0, 0, 0, 0, 0, 0, 0, 0, 0, 0, 0, 0, 0, 0, 0, 0, 0, 0, 0, 0, 0, 0, 0, 0, 0, 0, 0, 0, 0, 0, 0, 0, 0, 0, 0, 0, 0, 0, 0, 0, 0, 0, 0, 0, 0, 0, 0, 0, 0, 0, 0, 0, 0, 0, 0, 0, 0, 0, 0, 0, 0, 0, 0, 0, 0, 0, 0, 0, 0, 0, 0, 0, 0, 0, 0, 0, 0, 0, 0, 0, 0, 0, 0, 0, 0, 0, 0, 0, 0, 0, 0, 0, 0, 0, 0, 0, 0, 0, 0, 0, 0, 0, 0, 0, 0, 0, 0, 0, 0, 0, 0, 0, 0, 0, 0, 0, 0, 0, 0, 0, 0, 0, 0, 0, 0, 0, 0, 0, 0, 0, 0, 0, 0, 0, 0, 0, 0, 0, 0, 0, 0, 0, 0, 0, 0, 0, 0, 0, 0, 0, 0, 0, 0, 0, 0, 0, 0, 0, 0, 0, 0, 0, 0, 0, 0, 0, 0, 0, 0, 0, 0, 0, 0, 0, 0, 0, 0, 0, 0, 0, 0, 0, 0, 0, 0, 0, 0, 0, 0, 0, 0, 0, 0, 0, 0, 0, 0, 0, 0, 0, 0, 0, 0, 0, 0, 0, 0, 0, 0, 0, 0, 0, 0, 0, 0, 0, 0, 0, 0, 0, 0, 0, 0, 0, 0, 0, 0, 0, 0, 0, 0, 0, 0, 0, 0, 0, 0, 0, 0, 0, 0, 0, 0, 0, 0, 0, 0, 0, 0, 0, 0, 0, 0, 0, 0, 0, 0, 0, 0, 0, 0, 0, 0, 0, 0, 0, 0, 0, 0, 0, 0, 0, 0, 0, 0, 0, 0, 0, 0, 0, 0, 0, 0, 0, 0, 0, 0, 0, 0, 0, 0, 0, 0, 0, 0, 0, 0, 0, 0, 0, 0, 0, 0, 1, 0, 0, 0, 0, 0, 0, 0, 0, 0, 0, 0, 0, 0, 0, 0, 0, 0, 0, 0, 0, 0, 0, 0, 0, 0, 0, 0, 0, 0, 0, 0, 0, 0, 0, 0, 0, 0, 0, 0, 0, 0, 0, 0, 0, 0, 0, 0, 0, 0, 0, 0, 0, 0, 0, 0, 0, 0, 0, 0, 0, 0, 0, 0, 0, 0, 0, 0, 0, 0, 0, 0, 0, 0, 0, 0, 0, 0, 0, 0, 0, 0, 0, 0, 0, 0, 0, 0, 0, 0, 0, 0, 0, 0, 0, 0, 0, 0, 0, 0, 0, 0, 0, 0, 0, 0, 0, 0, 0, 0, 0, 0, 0, 0, 0, 0, 0, 0, 0, 0, 0, 0, 0, 0, 0, 0, 0, 0, 0, 0, 0, 0, 0, 0, 0, 0, 0, 0, 0, 0, 0, 0, 0, 0, 0, 0, 0, 0, 0, 0, 0, 0, 0, 0, 0, 0, 0, 0, 0, 0, 0, 0, 0, 0, 0, 0, 0, 0, 0, 0, 0, 0, 0, 0, 0, 0, 0, 0, 0, 0, 0, 0, 0, 0, 0, 0, 0, 0, 0, 0, 0, 0, 0, 0, 0, 0, 0, 0, 0, 0, 0, 0, 0, 0, 0, 0, 0, 0, 0, 0, 0, 0, 0, 0, 0, 0, 0, 0, 0, 0, 0, 0, 0, 0, 0, 0, 0, 0, 0, 0, 0, 0, 0, 0, 0, 0, 0, 0, 0, 0, 0, 0, 0, 0, 0, 0, 0, 0, 0, 0, 0, 0, 0, 0, 1, 0, 0, 0, 0, 0, 0, 0, 0, 0, 0, 0, 0, 0, 0, 0, 0, 0, 0, 0, 0, 0, 0, 0, 0, 0, 0, 0, 0, 0, 0, 0, 0, 0, 0, 0, 0, 0, 0, 0, 0, 0, 0, 0, 0, 0, 0, 0, 0, 0, 0, 0, 0, 0, 0, 0, 0, 0, 0, 0, 0, 0, 0, 0, 0, 0, 0, 0, 0, 0, 0, 0, 0, 0, 0, 0, 0, 0, 0, 0, 0, 0, 0, 0, 0, 0, 0, 1, 0, 0, 0, 0, 0, 0, 0, 0, 0, 0, 0, 0, 0, 0, 0, 0, 0, 0, 0, 0, 0, 0, 0, 0, 0, 0, 0, 0, 0, 0, 0, 0, 0, 0, 0, 0, 0, 0, 0, 0, 0, 0, 0, 0, 0, 0, 0, 0, 0, 0, 0, 0, 0, 0, 0, 0, 0, 0, 0, 0, 0, 0, 0, 0, 0, 0, 0, 0, 0, 0, 0, 0, 0, 0, 0, 0, 0, 0, 0, 0, 0, 0, 0, 0, 0, 0, 0, 0, 0, 0, 0, 0, 0, 0, 0, 0, 0, 0, 0, 0, 0, 0, 0, 0, 0, 0, 0, 0, 0, 0, 0, 0, 0, 0, 0, 0, 0, 0, 0, 0, 0, 0, 0, 0, 0, 0, 0, 0, 0, 0, 0, 0, 0, 0, 0, 0, 0, 0, 0, 0, 0, 0, 0, 0, 0, 0, 0, 0, 0, 0, 0, 0, 0, 0, 0, 0, 0, 0, 0, 0, 0, 0, 0, 0, 0, 0, 0, 0, 0, 0, 0, 0, 0, 0, 0, 0, 0, 0, 0, 0, 0, 0, 0, 0, 0, 0, 0, 0, 0, 0, 0, 0, 0, 0, 0, 0, 0, 0, 0, 0, 0, 0, 0, 0, 0, 0, 0, 0, 0, 0, 0, 0, 0, 0, 0, 0, 0, 0, 0, 0, 0, 0, 0, 0, 0, 0, 0, 0, 0, 0, 0, 0, 0, 0, 0, 0, 0, 0, 0, 0, 0, 0, 0, 0, 0, 0, 0, 0, 0, 0, 0, 0, 1, 0, 0, 0, 0, 0, 0, 0, 0, 0, 0, 0, 0, 0, 0, 0, 0, 0, 0, 0, 0, 0, 0, 0, 0, 0, 0, 0, 0, 0, 0, 0, 0, 0, 0, 0, 0, 0, 0, 0, 0, 0, 0, 0, 0, 0, 0, 0, 0, 0, 0, 0, 0, 0, 0, 0, 1, 0, 0, 0, 0, 0, 0, 0, 0, 0, 0, 0, 0, 0, 0, 0, 0, 0, 0, 0, 0, 0, 0, 0, 0, 0, 0, 0, 0, 0, 0, 0, 0, 0, 0, 0, 0, 0, 0, 0, 0, 0, 0, 0, 0, 0, 0, 0, 0, 0, 0, 0, 0, 0, 0, 0, 0, 0, 0, 0, 0, 0, 0, 0, 0, 0, 0, 0, 0, 0, 0, 0, 0, 0, 0, 0, 0, 0, 0, 0, 0, 0, 0, 0, 0, 0, 0, 0, 0, 0, 0, 0, 0, 0, 0, 0, 0, 0, 0, 0, 0, 0, 0, 0, 0, 0, 0, 0, 0, 0, 0, 0, 0, 0, 0, 0, 0, 0, 0, 0, 0, 0, 0, 0, 0, 0, 0, 0, 0, 0, 0, 0, 0, 0, 0, 0, 0, 0, 0, 0, 0, 0, 0, 0, 0, 0, 0, 0, 0, 0, 0, 0, 0, 0, 0, 0, 0, 0, 0, 0, 0, 0, 0, 0, 0, 0, 0, 0, 0, 0, 0, 0, 0, 0, 0, 0, 0, 0, 0, 0, 0, 0, 0, 0, 0, 0, 0, 0, 0, 0, 0, 0, 0, 0, 0, 0, 0, 0, 0, 0, 0, 0, 0, 0, 0, 0, 0, 0, 0, 0, 0, 0, 0, 0, 0, 0, 0, 0, 0, 0, 0, 0, 0, 0, 0, 0, 0, 0, 0, 0, 0, 0, 0, 0, 0, 0, 0, 0, 0, 0, 0, 0, 0, 0, 0, 0, 0, 0, 0, 0, 0, 0, 0, 0, 0, 0, 0, 0, 0, 0, 0, 0, 0, 0, 0, 0, 0, 0, 0, 0, 0, 0, 0, 0, 0, 0, 0, 0, 0, 0, 0, 0, 0, 0, 0, 0, 0, 0, 0, 0, 0, 0, 0, 0, 0, 0, 0, 0, 0, 0, 0, 0, 0, 0, 0, 0, 0, 0, 0, 0, 0, 0, 0, 0, 0, 0, 0, 0, 0, 0, 0, 0, 0, 0, 0, 0, 0, 0, 0, 0, 0, 0, 0, 0, 0, 0, 0, 0, 0, 0, 0, 0, 0, 0, 0, 0, 0, 0, 0, 0, 0, 0, 0, 0, 0, 0, 0, 0, 0, 0, 0, 0, 0, 0, 0, 0, 0, 0, 0, 0, 0, 0, 0, 0, 0, 0, 0, 0, 0, 0, 0, 0, 0, 0, 0, 0, 0, 0, 0, 0, 0, 0, 0, 0, 0, 0, 0, 0, 0, 0, 0, 0, 0, 0, 0, 0, 0, 0, 0, 0, 0, 0, 0, 0, 0, 0, 0, 0, 0, 0, 0, 0, 0, 0, 0, 0, 0, 0, 0, 0, 0, 0, 0, 0, 0, 0, 0, 0, 0, 0, 0, 0, 0, 0, 0, 0, 0, 0, 0, 0, 0, 0, 0, 0, 0, 0, 0, 0, 0, 0, 0, 0, 0, 0, 0, 0, 0, 0, 0, 0, 0, 0, 0, 0, 0, 0, 0, 0, 0, 0, 0, 0, 0, 0, 0, 0, 0, 0, 0, 0, 0, 0, 0, 0, 0, 0, 0, 0, 0, 0, 0, 0, 0, 0, 0, 0, 0, 0, 0, 0, 0, 0, 0, 0, 0, 0, 0, 0, 0, 0, 0, 0, 0, 0, 0, 0, 0, 0, 0, 0, 0, 0, 0, 0, 0, 0, 0, 0, 0, 0, 0, 0, 0, 0, 0, 0, 0, 0, 0, 0, 0, 0, 0, 0, 0, 0, 0, 0, 0, 0, 0, 0, 0, 0, 0, 0, 0, 0, 0, 0, 0, 0, 0, 0, 0, 0, 0, 0, 0, 0, 0, 0, 0, 0, 0, 0, 0, 0, 0, 0, 0, 0, 0, 0, 0, 0, 0, 0, 0, 0, 0, 0, 0, 0, 0, 0, 0, 0, 0, 0, 0, 0, 0, 0, 0, 0, 0, 0, 0, 0, 0, 0, 0, 0, 0, 0, 0, 0, 0, 0, 0, 0, 0, 0, 0, 0, 0, 0, 0, 0, 0, 0, 0, 0, 0, 0, 0, 0, 0, 0, 0, 0, 0, 0, 0, 0, 0, 0, 0, 0, 0, 0, 0, 0, 0, 0, 0, 0, 0, 0, 0, 0, 0, 0, 0, 0, 0, 0, 0, 0, 0, 0, 1, 0, 0, 0, 0, 0, 0, 0, 0, 0, 0, 0, 0, 0, 0, 0, 0, 0, 0, 0, 0, 0, 0, 0, 0, 0, 0, 0, 0, 0, 0, 0, 0, 0, 0, 0, 0, 0, 0, 0, 0, 0, 0, 0, 0, 0, 0, 0, 0, 0, 0, 0, 0, 0, 0, 0, 0, 0, 0, 0, 0, 0, 0, 0, 0, 0, 0, 0, 0, 0, 0, 0, 0, 0, 0, 1, 0, 0, 0, 0, 0, 0, 0, 0, 0, 0, 0, 0, 0, 0, 0, 0, 0, 0, 0, 0, 1, 0, 0, 1, 0, 0, 0, 0, 0, 0, 0, 0, 0, 0, 0, 0, 0, 0, 0, 0, 0, 0, 0, 0, 0, 0, 0, 0, 0, 0, 0, 0, 0, 0, 0, 0, 0, 0, 0, 0, 0, 0, 0, 0, 0, 0, 0, 0, 0, 0, 0, 0, 0, 0, 0, 0, 0, 0, 0, 0, 0, 0, 0, 0, 0, 0, 0, 0, 0, 0, 0, 0, 0, 0, 0, 0, 0, 0, 0, 0, 0, 0, 0, 0, 0, 0, 0, 0, 0, 0, 0, 0, 0, 0, 0, 0, 0, 0, 0, 0, 0, 0, 0, 0, 0, 0, 0, 0, 0, 0, 0, 0, 0, 0, 0, 0, 0, 0, 0, 0, 0, 0, 0, 0, 0, 0, 0, 0, 0, 0, 0, 0, 0, 0, 0, 0, 0, 0, 0, 0, 0, 0, 0, 0, 0, 0, 0, 0, 0, 0, 0, 0, 0, 0, 0, 0, 0, 0, 0, 0, 0, 0, 0, 0, 0, 0, 0, 0, 0, 0, 0, 0, 0, 0, 0, 0, 0, 0, 0, 0, 0, 0, 0, 0, 0, 0, 0, 0, 0, 0, 0, 0, 0, 0, 0, 0, 0, 0, 0, 0, 0, 0, 0, 0, 0, 0, 0, 0, 0, 0, 0, 0, 0, 0, 0, 0, 0, 0, 0, 0, 0, 0, 0, 0, 0, 0, 0, 0, 0, 0, 0, 0, 0, 0, 0, 0, 0, 0, 0, 0, 0, 0, 0, 0, 0, 0, 0, 0, 0, 0, 0, 0, 0, 0, 0, 0, 0, 0, 0, 0, 0, 0, 0, 0, 0, 0, 0, 0, 0, 0, 0, 0, 0, 0, 0, 0, 0, 0, 0, 0, 0, 0, 0, 0, 0, 0, 0, 0, 0, 0, 0, 0, 0, 0, 0, 0, 0, 0, 0, 0, 0, 0, 0, 0, 0, 0, 0, 0, 0, 0, 0, 0, 0, 0, 0, 0, 0, 0, 0, 0, 0, 0, 0, 0, 0, 0, 0, 0, 0, 0, 0, 0, 0, 0, 0, 0, 0, 0, 0, 0, 0, 0, 0, 0, 0, 0, 0, 0, 0, 0, 0, 0, 0, 0, 0, 0, 0, 0, 0, 0, 0, 0, 0, 0, 0, 0, 0, 0, 0, 0, 0, 0, 0, 0, 0, 0, 0, 0, 0, 0, 0, 0, 0, 0, 0, 0, 0, 0, 0, 0, 0, 0, 0, 0, 0, 0, 0, 0, 0, 0, 0, 0, 0, 0, 0, 0, 0, 0, 0, 0, 0, 0, 0, 0, 0, 0, 0, 0, 0, 0, 0, 0, 0, 0, 0, 0, 0, 0, 0, 0, 0, 0, 0, 0, 0, 0, 0, 0, 0, 0, 0, 0, 0, 0, 0, 0, 0, 0, 0, 0, 0, 0, 0, 0, 0, 0, 0, 0, 0, 0, 0, 0, 0, 0, 0, 0, 0, 0, 0, 0, 1, 0, 0, 0, 0, 0, 0, 0, 0, 0, 0, 0, 0, 0, 0, 0, 0, 0, 0, 0, 0, 0, 0, 0, 0, 0, 0, 0, 0, 0, 0, 0, 0, 0, 0, 0, 0, 0, 0, 0, 0, 0, 0, 0, 0, 0, 0, 0, 0, 0, 0, 0, 0, 0, 0, 0, 0, 0, 0, 0, 0, 0, 0, 0, 0, 0, 0, 0, 0, 0, 0, 0, 0, 0, 0, 0, 0, 0, 0, 0, 0, 0, 0, 0, 0, 0, 0, 0, 0, 0, 0, 0, 0, 0, 0, 0, 0, 0, 0, 0, 0, 0, 0, 0, 0, 0, 0, 0, 0, 0, 0, 0, 0, 0, 0, 0, 0, 0, 0, 0, 0, 0, 0, 0, 0, 0, 0, 0, 0, 0, 0, 0, 0, 0, 0, 0, 0, 0, 0, 0, 0, 0, 0, 0, 0, 0, 0, 0, 0, 0, 0, 0, 0, 0, 0, 0, 0, 0, 0, 0, 0, 0, 0, 0, 0, 0, 0, 0, 0, 0, 0, 0, 0, 0, 0, 0, 0, 0, 0, 0, 0, 0, 0, 0, 0, 0, 0, 0, 0, 0, 0, 0, 0, 0, 0, 0, 0, 0, 0, 0, 0, 0, 0, 0, 0, 0, 0, 0, 0, 0, 0, 0, 0, 0, 0, 0, 0, 0, 0, 0, 0, 0, 0, 0, 0, 0, 0, 0, 0, 0, 0, 0, 0, 0, 0, 0, 0, 0, 0, 0, 0, 0, 0, 0, 0, 0, 0, 0, 0, 0, 0, 0, 0, 0, 0, 0, 0, 0, 0, 0, 0, 0, 0, 0, 0, 0, 0, 0, 0, 0, 0, 0, 0, 0, 0, 0, 0, 0, 0, 0, 0, 0, 0, 0, 0, 0, 0, 0, 0, 0, 0, 0, 0, 0, 0, 0, 0, 0, 0, 0, 0, 0, 0, 0, 0, 0, 0, 0, 0, 0, 0, 0, 0, 0, 0, 0, 0, 0, 0, 0, 0, 0, 0, 0, 0, 0, 0, 0, 0, 0, 0, 0, 0, 0, 0, 0, 0, 0, 0, 0, 0, 0, 0, 0, 0, 0, 0, 0, 0, 0, 0, 0, 0, 0, 0, 0, 0, 0, 0, 0, 0, 0, 0, 0, 0, 0, 0, 0, 0, 0, 0, 0, 0, 0, 0, 0, 0, 0, 0, 0, 0, 0, 0, 0, 0, 0, 0, 0, 0, 0, 0, 0, 0, 0, 0, 0, 0, 0, 0, 0, 0, 0, 0, 0, 0, 0, 0, 0, 0, 0, 0, 0, 0, 0, 0, 0, 0, 0, 0, 0, 0, 0, 0, 0, 0, 0, 0, 0, 0, 0, 0, 0, 0, 0, 0, 0, 0, 0, 0, 0, 0, 0, 0, 0, 0, 0, 0, 0, 0, 0, 0, 0, 0, 0, 0, 0, 0, 0, 0, 0, 0, 0, 0, 0, 0, 0, 0, 0, 0, 0, 0, 0, 0, 0, 0, 0, 0, 0, 0, 0, 0, 0, 0, 0, 0, 0, 0, 0, 0, 0, 0, 0, 0, 0, 0, 0, 0, 0, 0, 0, 0, 0, 0, 0, 0, 0, 0, 0, 0, 0, 0, 0, 0, 1, 0, 0, 0, 0, 0, 0, 0, 0, 0, 0, 0, 0, 0, 0, 0, 0, 0, 0, 0, 0, 0, 0, 0, 0, 0, 0, 0, 0, 0, 0, 0, 0, 0, 0, 0, 2, 0, 0, 0, 0, 0, 0, 0, 0, 0, 0, 0, 0, 0, 0, 0, 0, 0, 0, 0, 0, 0, 0, 0, 0, 0, 0, 0, 0, 0, 0, 0, 0, 0, 0, 0, 0, 0, 0, 0, 0, 1, 0, 0, 0, 0, 0, 0, 0, 0, 0, 0, 0, 0, 0, 0, 0, 0, 0, 0, 0, 0, 0, 0, 0, 0, 0, 0, 0, 0, 0, 0, 0, 0, 0, 0, 0, 0, 0, 0, 0, 0, 0, 0, 0, 0, 0, 0, 0, 0, 0, 0, 0, 0, 0, 0, 0, 0, 0, 0, 0, 0, 0, 0, 0, 0, 0, 0, 0, 0, 0, 0, 0, 0, 0, 0, 0, 0, 0, 0, 0, 0, 0, 0, 0, 0, 0, 0, 0, 0, 0, 0, 0, 0, 0, 0, 0, 0, 0, 0, 0, 0, 0, 0, 0, 0, 0, 0, 0, 0, 0, 0, 0, 0, 0, 0, 0, 0, 0, 0, 0, 0, 0, 0, 0, 0, 0, 0, 0, 0, 0, 0, 0, 0, 0, 0, 0, 0, 0, 0, 0, 0, 0, 0, 0, 0, 0, 0, 0, 0, 0, 0, 0, 0, 0, 0, 0, 0, 0, 0, 0, 0, 0, 0, 0, 0, 0, 0, 0, 0, 0, 0, 0, 0, 0, 0, 0, 0, 0, 0, 0, 0, 0, 0, 0, 0, 0, 0, 0, 0, 0, 0, 0, 0, 0, 0, 0, 0, 0, 0, 0, 0, 0, 0, 0, 0, 0, 0, 0, 0, 0, 0, 0, 0, 0, 0, 0, 0, 0, 0, 0, 0, 0, 0, 0, 0, 0, 0, 0, 0, 0, 0, 0, 0, 0, 0, 0, 0, 0, 0, 0, 0, 0, 0, 0, 0, 0, 0, 0, 0, 0, 0, 0, 0, 0, 0, 0, 0, 0, 0, 0, 0, 0, 0, 0, 0, 0, 0, 0, 0, 0, 0, 0, 0, 0, 0, 0, 0, 0, 0, 0, 0, 0, 0, 0, 0, 0, 0, 0, 0, 0, 0, 0, 0, 0, 0, 0, 0, 0, 0, 0, 0, 0, 0, 0, 0, 0, 0, 0, 0, 0, 0, 0, 0, 0, 0, 0, 0, 0, 0, 0, 0, 0, 0, 0, 0, 0, 0, 0, 0, 0, 0, 0, 0, 0, 0, 0, 0, 0, 0, 0, 0, 0, 0, 0, 0, 0, 0, 0, 0, 0, 0, 0, 0, 0, 0, 0, 0, 0, 0, 0, 0, 0, 0, 0, 0, 0, 0, 0, 0, 0, 0, 0, 0, 0, 0, 0, 0, 0, 0, 0, 0, 0, 0, 0, 0, 0, 0, 0, 0, 0, 0, 0, 0, 0, 0, 0, 0, 0, 0, 0, 0, 0, 0, 0, 0, 0, 0, 0, 0, 0, 0, 0, 0, 0, 0, 0, 0, 0, 0, 0, 0, 0, 0, 0, 0, 0, 0, 0, 0, 0, 0, 0, 0, 0, 0, 0, 0, 0, 0, 0, 0, 0, 0, 0, 0, 0, 0, 0, 0, 0, 0, 0, 0, 0, 0, 0, 0, 0, 0, 0, 0, 0, 0, 0, 0, 0, 0, 0, 0, 0, 0, 0, 0, 0, 0, 0, 0, 0, 0, 0, 0, 0, 0, 0, 0, 0, 0, 0, 0, 0, 0, 0, 0, 0, 0, 0, 0, 0, 1, 0, 0, 0, 0, 0, 0, 0, 0, 0, 0, 0, 0, 0, 0, 0, 0, 0, 0, 0, 0, 0, 0, 0, 0, 0, 0, 0, 0, 0, 0, 0, 0, 0, 0, 0, 0, 0, 0, 0, 0, 0, 0, 0, 0, 0, 0, 0, 0, 0, 0, 0, 0, 0, 0, 0, 0, 0, 0, 0, 0, 0, 0, 0, 0, 0, 0, 0, 0, 0, 0, 0, 0, 0, 0, 0, 0, 0, 0, 0, 0, 0, 0, 0, 0, 0, 0, 0, 0, 0, 0, 0, 0, 0, 0, 0, 0, 0, 0, 0, 0, 0, 0, 0, 0, 0, 0, 0, 0, 0, 0, 2, 0, 0, 0, 0, 0, 0, 0, 0, 0, 0, 0, 0, 0, 0, 0, 0, 0, 0, 0, 0, 0, 0, 0, 0, 0, 0, 0, 0, 0, 0, 0, 0, 0, 0, 0, 0, 0, 0, 0, 0, 0, 0, 0, 0, 0, 0, 0, 0, 0, 0, 0, 0, 0, 0, 0, 0, 0, 0, 0, 0, 0, 0, 0, 0, 0, 0, 0, 0, 0, 0, 0, 0, 0, 0, 0, 0, 0, 0, 0, 0, 0, 0, 0, 0, 0, 0, 0, 0, 0, 0, 0, 0, 0, 0, 0, 0, 0, 0, 0, 0, 0, 0, 0, 0, 0, 0, 0, 0, 0, 0, 0, 0, 0, 0, 0, 0, 0, 0, 0, 0, 0, 0, 0, 0, 0, 0, 0, 0, 0, 0, 0, 0, 0, 0, 0, 0, 0, 0, 0, 0, 0, 0, 0, 0, 0, 0, 0, 0, 0, 0, 0, 0, 0, 0, 0, 0, 0, 0, 0, 0, 0, 0, 0, 0, 0, 0, 0, 0, 0, 0, 0, 0, 0, 0, 0, 0, 0, 0, 0, 0, 0, 0, 0, 0, 0, 0, 0, 0, 0, 0, 0, 0, 0, 0, 0, 0, 0, 0, 0, 0, 0, 0, 0, 0, 0, 0, 0, 0, 0, 0, 0, 0, 0, 0, 0, 0, 0, 0, 0, 0, 0, 0, 0, 0, 0, 0, 0, 0, 0, 0, 0, 0, 0, 0, 0, 0, 0, 0, 0, 0, 0, 0, 0, 0, 0, 0, 0, 0, 0, 0, 0, 0, 0, 0, 0, 0, 0, 0, 0, 0, 0, 0, 0, 0, 0, 0, 0, 0, 0, 0, 0, 0, 0, 0, 0, 0, 0, 0, 0, 0, 0, 0, 0, 0, 0, 0, 0, 0, 0, 0, 0, 0, 0, 0, 0, 0, 0, 0, 0, 0, 0, 0, 0, 0, 0, 0, 0, 0, 0, 0, 0, 0, 0, 0, 0, 0, 0, 0, 0, 0, 0, 0, 0, 0, 0, 0, 0, 0, 0, 0, 0, 0, 0, 0, 0, 0, 0, 0, 0, 0, 0, 0, 0, 0, 0, 0, 0, 0, 0, 0, 0, 0, 0, 0, 0, 0, 0, 0, 0, 0, 0, 0, 0, 0, 0, 0, 0, 0, 0, 0, 0, 0, 0, 0, 0, 0, 0, 0, 0, 0, 0, 0, 0, 0, 0, 0, 0, 0, 0, 0, 0, 0, 0, 0, 0, 0, 0, 0, 0, 0, 0, 0, 0, 0, 0, 0, 0, 0, 0, 0, 0, 0, 0, 0, 0, 0, 0, 0, 0, 0, 0, 0, 0, 0, 0, 0, 0, 0, 0, 0, 0, 0, 0, 0, 0, 0, 0, 0, 0, 0, 0, 0, 0, 0, 0, 0, 0, 0, 0, 0, 0, 0, 0, 0, 0, 0, 0, 0, 0, 0, 0, 0, 0, 0, 0, 0, 0, 0, 0, 0, 0, 0, 0, 0, 0, 0, 0, 0, 0, 0, 0, 0, 0, 0, 0, 0, 0, 0, 0, 0, 0, 0, 0, 0, 0, 0, 0, 0, 0, 0, 0, 0, 0, 0, 0, 0, 0, 0, 0, 0, 0, 0, 0, 0, 0, 0, 0, 0, 0, 0, 0, 0, 0, 0, 0, 0, 0, 0, 0, 0, 0, 0, 0, 0, 0, 0, 0, 0, 0, 0, 0, 0, 0, 0, 0, 0, 0, 0, 0, 0, 0, 0, 0, 0, 0, 0, 0, 0, 0, 0, 0, 0, 0, 0, 0, 0, 0, 0, 0, 0, 0, 0, 0, 0, 0, 0, 0, 0, 0, 0, 0, 0, 0, 0, 0, 0, 0, 0, 0, 0, 0, 0, 0, 0, 0, 0, 0, 0, 0, 0, 0, 0, 0, 0, 0, 0, 0, 0, 0, 0, 0, 0, 0, 0, 0, 0, 0, 0, 0, 0, 0, 0, 0, 0, 0, 0, 0, 0, 0, 0, 0, 0, 0, 0, 0, 0, 0, 0, 0, 0, 0, 0, 0, 0, 0, 0, 0, 0, 0, 0, 0, 0, 0, 0, 0, 0, 0, 0, 0, 0, 0, 0, 0, 0, 0, 0, 0, 0, 0, 0, 0, 0, 0, 0, 0, 0, 0, 0, 0, 0, 0, 0, 0, 0, 0, 0, 0, 0, 0, 0, 1, 0, 0, 0, 0, 0, 0, 0, 0, 0, 0, 0, 0, 0, 0, 0, 0, 0, 0, 0, 0, 0, 0, 0, 0, 0, 0, 0, 0, 0, 0, 0, 0, 0, 0, 0, 0, 0, 0, 0, 0, 0, 0, 0, 0, 0, 0, 0, 0, 0, 0, 0, 0, 0, 0, 0, 0, 0, 0, 0, 0, 0, 0, 0, 0, 0, 0, 0, 0, 0, 0, 0, 0, 0, 0, 0, 0, 0, 0, 0, 0, 0, 0, 0, 0, 0, 0, 0, 0, 0, 0, 0, 0, 0, 0, 0, 0, 0, 0, 0, 0, 0, 0, 0, 0, 0, 0, 0, 1, 0, 0, 0, 0, 0, 0, 0, 0, 0, 0, 0, 0, 0, 0, 0, 0, 0, 0, 0, 0, 0, 0, 0, 0, 0, 0, 0, 0, 0, 0, 0, 0, 0, 0, 0, 0, 0, 0, 0, 0, 0, 0, 0, 0, 0, 0, 0, 0, 0, 0, 0, 0, 0, 0, 0, 0, 0, 0, 0, 0, 0, 0, 0, 0, 0, 0, 0, 0, 0, 0, 0, 0, 0, 0, 0, 0, 0, 0, 0, 0, 0, 0, 0, 0, 0, 0, 0, 0, 0, 0, 0, 0, 0, 0, 0, 0, 0, 0, 0, 0, 0, 0, 0, 0, 0, 0, 0, 0, 0, 0, 0, 0, 0, 0, 0, 0, 0, 0, 0, 0, 0, 0, 0, 0, 0, 0, 0, 0, 0, 0, 0, 0, 0, 0, 0, 0, 0, 0, 0, 0, 0, 0, 0, 0, 0, 0, 0, 0, 0, 0, 0, 0, 0, 0, 0, 0, 0, 0, 0, 0, 0, 0, 0, 0, 0, 0, 0, 0, 0, 0, 0, 0, 0, 0, 0, 0, 0, 0, 0, 0, 0, 0, 0, 0, 0, 0, 0, 0, 0, 0, 0, 0, 0, 0, 0, 0, 0, 0, 0, 0, 0, 0, 0, 0, 0, 0, 0, 0, 0, 0, 0, 0, 0, 0, 0, 0, 0, 0, 0, 0, 0, 0, 0, 0, 0, 0, 0, 0, 0, 0, 0, 0, 0, 0, 0, 0, 0, 0, 0, 0, 0, 0, 0, 0, 0, 0, 0, 0, 0, 0, 0, 0, 0, 0, 0, 0, 0, 0, 0, 0, 0, 0, 0, 0, 0, 0, 0, 0, 0, 0, 0, 0, 0, 0, 0, 0, 0, 0, 0, 0, 0, 0, 0, 0, 0, 0, 0, 0, 0, 0, 0, 0, 0, 0, 0, 0, 0, 0, 0, 0, 0, 0, 0, 0, 0, 0, 0, 0, 0, 0, 0, 0, 0, 0, 0, 0, 0, 0, 0, 0, 0, 0, 0, 0, 0, 0, 0, 0, 0, 0, 0, 0, 0, 0, 0, 0, 0, 0, 0, 0, 0, 0, 0, 0, 0, 0, 0, 0, 0, 0, 0, 0, 0, 0, 0, 0, 0, 0, 0, 0, 0, 0, 0, 0, 0, 0, 0, 0, 0, 0, 0, 0, 0, 0, 0, 0, 0, 0, 0, 0, 0, 0, 0, 0, 0, 0, 0, 0, 0, 0, 0, 0, 0, 0, 0, 0, 0, 0, 0, 0, 0, 0, 0, 0, 0, 0, 0, 0, 0, 0, 0, 0, 0, 0, 0, 0, 0, 0, 0, 0, 0, 0, 0, 0, 0, 0, 0, 0, 0, 0, 0, 0, 0, 0, 0, 0, 0, 0, 0, 0, 0, 0, 0, 0, 0, 0, 0, 0, 0, 0, 0, 0, 0, 0, 0, 0, 0, 0, 0, 0, 0, 0, 0, 2, 0, 1, 0]\n"
     ]
    }
   ],
   "source": [
    "test_bow = bow_encoding(test_words, vocabulary)\n",
    "print(test_bow)"
   ]
  },
  {
   "cell_type": "code",
   "execution_count": 40,
   "metadata": {},
   "outputs": [
    {
     "data": {
      "text/plain": [
       "5000"
      ]
     },
     "execution_count": 40,
     "metadata": {},
     "output_type": "execute_result"
    }
   ],
   "source": [
    "len(test_bow)"
   ]
  },
  {
   "cell_type": "markdown",
   "metadata": {},
   "source": [
    "So now we know how to construct a bag of words encoding of a user provided review, how to we send it to our endpoint? First, we need to start the endpoint back up."
   ]
  },
  {
   "cell_type": "code",
   "execution_count": 48,
   "metadata": {},
   "outputs": [
    {
     "name": "stderr",
     "output_type": "stream",
     "text": [
      "WARNING:sagemaker:Using already existing model: xgboost-2019-12-23-12-19-28-156\n"
     ]
    },
    {
     "name": "stdout",
     "output_type": "stream",
     "text": [
      "--------------------------------------------------------------------------------------------------!"
     ]
    }
   ],
   "source": [
    "xgb_predictor = xgb.deploy(initial_instance_count = 1, instance_type = 'ml.m4.xlarge')"
   ]
  },
  {
   "cell_type": "markdown",
   "metadata": {},
   "source": [
    "At this point we could just do the same thing that we did earlier when we tested our deployed model and send `test_bow` to our endpoint using the `xgb_predictor` object. However, when we eventually construct our Lambda function we won't have access to this object, so how do we call a SageMaker endpoint?\n",
    "\n",
    "It turns out that Python functions that are used in Lambda have access to another Amazon library called `boto3`. This library provides an API for working with Amazon services, including SageMaker. To start with, we need to get a handle to the SageMaker runtime."
   ]
  },
  {
   "cell_type": "code",
   "execution_count": 49,
   "metadata": {},
   "outputs": [],
   "source": [
    "import boto3\n",
    "runtime = boto3.Session().client('sagemaker-runtime')"
   ]
  },
  {
   "cell_type": "markdown",
   "metadata": {},
   "source": [
    "And now that we have access to the SageMaker runtime, we can ask it to make use of (invoke) an endpoint that has already been created. However, we need to provide SageMaker with the name of the deployed endpoint. To find this out we can print it out using the `xgb_predictor` object."
   ]
  },
  {
   "cell_type": "code",
   "execution_count": 50,
   "metadata": {},
   "outputs": [
    {
     "data": {
      "text/plain": [
       "'xgboost-2019-12-23-12-19-28-156'"
      ]
     },
     "execution_count": 50,
     "metadata": {},
     "output_type": "execute_result"
    }
   ],
   "source": [
    "xgb_predictor.endpoint"
   ]
  },
  {
   "cell_type": "markdown",
   "metadata": {},
   "source": [
    "Using the SageMaker runtime and the name of our endpoint, we can invoke the endpoint and send it the `test_bow` data. But it has to be serialized first (into csv format)."
   ]
  },
  {
   "cell_type": "code",
   "execution_count": 51,
   "metadata": {},
   "outputs": [],
   "source": [
    "test_bow_serialized = ','.join([str(val) for val in test_bow]).encode('utf-8')\n",
    "\n",
    "response = runtime.invoke_endpoint(EndpointName = xgb_predictor.endpoint,\n",
    "                                       ContentType = 'text/csv',                    \n",
    "                                       Body = test_bow_serialized)"
   ]
  },
  {
   "cell_type": "markdown",
   "metadata": {},
   "source": [
    "So why did we get an error?\n",
    "\n",
    "Because we tried to send the endpoint a list of integers but it expected us to send data of type `text/csv`. So, we need to convert it."
   ]
  },
  {
   "cell_type": "code",
   "execution_count": null,
   "metadata": {},
   "outputs": [],
   "source": [
    "response = runtime.invoke_endpoint(EndpointName = xgb_predictor.endpoint, # The name of the endpoint we created\n",
    "                                       ContentType = 'text/csv',                     # The data format that is expected\n",
    "                                       Body = ','.join([str(val) for val in test_bow]).encode('utf-8'))"
   ]
  },
  {
   "cell_type": "code",
   "execution_count": 52,
   "metadata": {},
   "outputs": [
    {
     "name": "stdout",
     "output_type": "stream",
     "text": [
      "{'ResponseMetadata': {'RequestId': 'a0b29710-8912-4a92-854b-025f88006ca4', 'HTTPStatusCode': 200, 'HTTPHeaders': {'x-amzn-requestid': 'a0b29710-8912-4a92-854b-025f88006ca4', 'x-amzn-invoked-production-variant': 'AllTraffic', 'date': 'Mon, 23 Dec 2019 12:57:05 GMT', 'content-type': 'text/csv; charset=utf-8', 'content-length': '14'}, 'RetryAttempts': 0}, 'ContentType': 'text/csv; charset=utf-8', 'InvokedProductionVariant': 'AllTraffic', 'Body': <botocore.response.StreamingBody object at 0x7f615fc8b278>}\n"
     ]
    }
   ],
   "source": [
    "print(response)"
   ]
  },
  {
   "cell_type": "markdown",
   "metadata": {},
   "source": [
    "As we can see, the response from our model is a somewhat complicated looking dict that contains a bunch of information. The bit that we are most interested in is `'Body'` object which is a streaming object that we need to `read` in order to make use of."
   ]
  },
  {
   "cell_type": "code",
   "execution_count": 53,
   "metadata": {},
   "outputs": [
    {
     "name": "stdout",
     "output_type": "stream",
     "text": [
      "0.461314737797\n"
     ]
    }
   ],
   "source": [
    "response = response['Body'].read().decode('utf-8')\n",
    "print(response)"
   ]
  },
  {
   "cell_type": "markdown",
   "metadata": {},
   "source": [
    "Now that we know how to process the incoming user data we can start setting up the infrastructure to make our simple web app work. To do this we will make use of two different services. **Amazon's Lambda and API Gateway services.**\n",
    "\n",
    "Lambda is a service which allows someone to write some relatively simple code and have it executed whenever a chosen trigger occurs. For example, you may want to update a database whenever new data is uploaded to a folder stored on S3.\n",
    "\n",
    "API Gateway is a service that allows you to create HTTP endpoints (url addresses) which are connected to other AWS services. One of the benefits to this is that you get to decide what credentials, if any, are required to access these endpoints.\n",
    "\n",
    "In our case we are going to set up an HTTP endpoint through API Gateway which is open to the public. Then, whenever anyone sends data to our public endpoint we will trigger a Lambda function which will send the input (in our case a review) to our model's endpoint and then return the result."
   ]
  },
  {
   "cell_type": "markdown",
   "metadata": {},
   "source": [
    "### Setting up a Lambda function\n",
    "\n",
    "The first thing we are going to do is set up a Lambda function. This Lambda function will be executed whenever our public API has data sent to it. When it is executed it will receive the data, perform any sort of processing that is required, send the data (the review) to the SageMaker endpoint we've created and then return the result.\n",
    "\n",
    "#### Part A: Create an IAM Role for the Lambda function\n",
    "\n",
    "Since we want the Lambda function to call a SageMaker endpoint, we need to make sure that it has permission to do so. To do this, we will construct a role that we can later give the Lambda function.\n",
    "\n",
    "- Using the AWS Console, navigate to the **IAM** page and click on **Roles**. Then, click on **Create role**. Make sure that the **AWS service** is the type of trusted entity selected and choose **Lambda** as the service that will use this role, then click **Next: Permissions**.\n",
    "\n",
    "- In the search box type `sagemaker` and select the check box next to the **AmazonSageMakerFullAccess** policy. Then, click on **Next: Review**.\n",
    "\n",
    "- Lastly, give this role a name. Make sure you use a name that you will remember later on, for example `LambdaSageMakerRole`. Then, click on **Create role**.\n",
    "\n",
    "#### Part B: Create a Lambda function\n",
    "\n",
    "Now it is time to actually create the Lambda function. Remember from earlier that in order to process the user provided input and send it to our endpoint we need to gather two pieces of information:\n",
    "\n",
    " - The name of the endpoint, and\n",
    " - the vocabulary object.\n",
    "\n",
    "We will copy these pieces of information to our Lambda function after we create it.\n",
    "\n",
    "- To start, using the AWS Console, navigate to the AWS Lambda page and click on **Create a function**. When you get to the next page, make sure that **Author from scratch** is selected. Now, name your Lambda function, using a name that you will remember later on, for example `sentiment_analysis_xgboost_func`. \n",
    "- Make sure that the **Python 3.6** runtime is selected and then choose the role that you created in the previous part. Then, click on **Create Function**.\n",
    "\n",
    "On the next page you will see some information about the Lambda function you've just created. If you scroll down you should see an editor in which you can write the code that will be executed when your Lambda function is triggered. Collecting the code we wrote above to process a single review and adding it to the provided example `lambda_handler` we arrive at the following.\n",
    "\n",
    "```python\n",
    "import boto3\n",
    "import re\n",
    "\n",
    "REPLACE_NO_SPACE = re.compile(\"(\\.)|(\\;)|(\\:)|(\\!)|(\\')|(\\?)|(\\,)|(\\\")|(\\()|(\\))|(\\[)|(\\])\")\n",
    "REPLACE_WITH_SPACE = re.compile(\"(<br\\s*/><br\\s*/>)|(\\-)|(\\/)\")\n",
    "\n",
    "def review_to_words(review):\n",
    "    words = REPLACE_NO_SPACE.sub(\"\", review.lower())\n",
    "    words = REPLACE_WITH_SPACE.sub(\" \", words)\n",
    "    return words\n",
    "    \n",
    "def bow_encoding(words, vocabulary):\n",
    "    bow = [0] * len(vocabulary) \n",
    "    for word in words.split():  \n",
    "        if word in vocabulary:  \n",
    "            bow[vocabulary[word]] += 1\n",
    "    return bow\n",
    "\n",
    "\n",
    "def lambda_handler(event, context):\n",
    "    \n",
    "    vocab = \"*** ACTUAL VOCABULARY GOES HERE ***\"\n",
    "    \n",
    "    words = review_to_words(event['body'])\n",
    "    bow = bow_encoding(words, vocab)\n",
    "\n",
    "    # The SageMaker runtime is what allows us to invoke the endpoint that we've created.\n",
    "    runtime = boto3.Session().client('sagemaker-runtime')\n",
    "\n",
    "    # Now we use the SageMaker runtime to invoke our endpoint, sending the review \n",
    "    response = runtime.invoke_endpoint(EndpointName = '***ENDPOINT NAME HERE***',\n",
    "                                       ContentType = 'text/csv',\n",
    "                                       Body = ','.join([str(val) for val in bow]).encode('utf-8'))\n",
    "\n",
    "    # The response is an HTTP response whose body contains the result of our inference\n",
    "    result = response['Body'].read().decode('utf-8')\n",
    "    \n",
    "    # Round the result so that our web app only gets '1' or '0' as a response.\n",
    "    result = round(float(result))\n",
    "\n",
    "    return {\n",
    "        'statusCode' : 200,\n",
    "        'headers' : { 'Content-Type' : 'text/plain', 'Access-Control-Allow-Origin' : '*' },\n",
    "        'body' : str(result)\n",
    "    }\n",
    "```"
   ]
  },
  {
   "cell_type": "markdown",
   "metadata": {},
   "source": [
    "Once you have copy and pasted the code above into the Lambda code editor, replace the `**ENDPOINT NAME HERE**` portion with the name of the endpoint that we deployed earlier. You can determine the name of the endpoint using the code cell below."
   ]
  },
  {
   "cell_type": "code",
   "execution_count": 54,
   "metadata": {},
   "outputs": [
    {
     "data": {
      "text/plain": [
       "'xgboost-2019-12-23-12-19-28-156'"
      ]
     },
     "execution_count": 54,
     "metadata": {},
     "output_type": "execute_result"
    }
   ],
   "source": [
    "xgb_predictor.endpoint"
   ]
  },
  {
   "cell_type": "markdown",
   "metadata": {},
   "source": [
    "In addition, you will need to copy the vocabulary dict to the appropriate place in the code at the beginning of the `lambda_handler` method. The cell below prints out the vocabulary dict in a way that is easy to copy and paste."
   ]
  },
  {
   "cell_type": "code",
   "execution_count": 55,
   "metadata": {},
   "outputs": [
    {
     "name": "stdout",
     "output_type": "stream",
     "text": [
      "{'the': 4426, 'first': 1736, 'war': 4792, 'to': 4507, 'be': 418, '100': 1, 'dan': 1102, 'line': 2610, 'says': 3801, 'it': 2366, 'all': 187, 'this': 4457, 'is': 2360, 'hard': 2033, 'describe': 1194, 'film': 1716, 'comedy': 890, 'satire': 3788, 'action': 100, 'reminded': 3619, 'once': 3106, 'or': 3124, 'twice': 4613, 'of': 3083, 'dr': 1340, 'especially': 1520, 'so': 4046, 'in': 2257, 'scenes': 3811, 'featuring': 1681, 'ben': 463, 'who': 4871, 'did': 1241, 'remarkable': 3613, 'job': 2405, 'think': 4452, 'had': 2003, 'no': 3020, 'particular': 3194, 'expectations': 1576, 'though': 4461, 'am': 204, 'big': 478, 'john': 2409, 'cusack': 1088, 'fan': 1648, 'just': 2437, 'let': 2579, 'movie': 2926, 'over': 3148, 'me': 2778, 'and': 226, 'as': 311, 'result': 3660, 'was': 4805, 'quite': 3495, 'entertained': 1498, 'political': 3324, 'painfully': 3172, 'accurate': 90, 'us': 4690, 'military': 2844, 'business': 633, 'complex': 923, 'sub': 4252, 'plots': 3310, 'were': 4848, 'somewhat': 4068, 'predictable': 3367, 'but': 636, 'final': 1722, 'story': 4207, 'lines': 2612, 'made': 2697, 'them': 4432, 'worthwhile': 4955, 'can': 665, 'understand': 4643, 'why': 4878, 'not': 3040, 'terribly': 4408, 'popular': 3333, 'for': 1784, 'rest': 3657, 'world': 4946, 'tale': 4353, 'probably': 3407, 'best': 469, 'television': 4394, 'show': 3953, 'ive': 2372, 'ever': 1538, 'seen': 3865, 'saw': 3798, 'on': 3105, 'central': 735, 'several': 3905, 'years': 4979, 'ago': 154, 'at': 331, 'time': 4495, 'unaware': 4632, 'that': 4424, 'been': 438, 'edited': 1420, 'shown': 3959, 'out': 3141, 'order': 3126, 'having': 2054, 'watched': 4813, 'three': 4469, 'series': 3890, 'thank': 4421, 'you': 4986, 'internet': 2327, 'your': 4991, 'glad': 1916, 'sort': 4077, 'picked': 3266, 'chose': 804, 'their': 4431, 'way': 4820, 'through': 4477, 'one': 3107, 'two': 4620, 'make': 2713, 'tried': 4584, 'get': 1899, 'friends': 1837, 'family': 1645, 'watch': 4811, 'nobody': 3022, 'really': 3556, 'seemed': 3862, 'like': 2599, 'need': 2987, 'new': 3003, 'my': 2951, 'own': 3158, 'could': 1007, 'even': 1533, 'when': 4862, 'felt': 1692, 'bit': 488, 'still': 4188, 'compelled': 915, 'continue': 969, 'watching': 4815, 'after': 143, 'discovered': 1280, 'little': 2624, 'britain': 588, 'immediately': 2242, 'recognized': 3570, 'from': 1840, 'influenced': 2287, 'fat': 1663, 'also': 199, 'love': 2669, 'idea': 2213, 'writers': 4969, 'act': 97, 'entire': 1502, 'done': 1322, 'here': 2086, 'has': 2043, 'nothing': 3047, 'matt': 2768, 'indeed': 2271, 'comedic': 888, 'piece': 3272, 'genius': 1887, 'serial': 3889, 'murder': 2939, 'name': 2960, 'its': 2370, 'found': 1811, 'wonderful': 4928, 'unique': 4662, 'tv': 4610, 'art': 304, 'location': 2635, 'shots': 3950, 'very': 4723, 'scene': 3809, 'themselves': 4435, 'are': 285, 'chilling': 794, 'seem': 3861, 'town': 4541, 'never': 3001, 'leave': 2555, 'favorite': 1671, 'character': 758, 'would': 4957, 'have': 2052, 'each': 1395, 'portrayed': 3342, 'charm': 767, 'least': 2554, 'until': 4680, 'he': 2056, 're': 3535, 'clever': 841, 'wholly': 4874, 'unexpected': 4650, 'episodes': 1508, 'row': 3744, 'drives': 1367, 'continuity': 972, 'said': 3774, 'before': 440, 'becomes': 434, 'compelling': 916, 'while': 4868, 'cant': 671, 'stop': 4201, 'those': 4460, 'with': 4911, 'weak': 4824, 'kids': 2467, 'unless': 4669, 'youve': 4995, 'got': 1944, 'always': 203, 'loved': 2670, 'british': 589, 'particularly': 3195, 'comedies': 889, 'hill': 2108, 'red': 3576, 'keeping': 2450, 'up': 4683, 'appearances': 275, 'absolutely': 72, 'fabulous': 1615, 'office': 3091, 'unlike': 4670, 'any': 256, 'completely': 922, 'between': 475, 'whats': 4860, 'funny': 1852, 'sick': 3963, 'twisted': 4618, 'come': 886, 'close': 853, 'level': 2584, 'entertainment': 1500, 'broadcast': 591, 'sad': 3767, 'lame': 2510, 'barely': 399, 'stand': 4143, 'kind': 2476, 'our': 3139, 'cable': 644, 'channels': 754, 'dont': 1324, 'guts': 1999, 'versions': 4721, 'gem': 1877, 'loss': 2659, 'thankfully': 4422, 'there': 4438, 'shows': 3960, 'across': 96, 'medium': 2792, 'every': 1539, 'decade': 1144, 'basic': 406, 'making': 2718, 'tiny': 4500, 'steps': 4177, 'last': 2521, 'few': 1700, 'more': 2904, 'graphic': 1958, 'sexual': 3908, 'content': 966, 'drug': 1373, 'use': 4692, 'adult': 125, 'language': 2516, 'they': 4442, 'away': 369, 'adults': 126, 'about': 67, 'showing': 3958, 'real': 3547, 'life': 2592, 'behavior': 446, 'instead': 2307, 'obsession': 3070, 'blowing': 515, 'things': 4451, 'same': 3778, 'format': 1799, 'past': 3207, '35': 45, 'started': 4157, 'waste': 4808, 'lots': 2662, 'wasted': 4809, 'know': 2489, 'according': 88, 'jim': 2402, 'air': 164, '10': 0, 'anyway': 261, 'dvd': 1391, 'do': 1302, 'what': 4858, 'must': 2950, 'then': 4436, 'well': 4843, 'anything': 260, 'saving': 3797, 'spring': 4134, 'friend': 1835, 'next': 3007, 'visits': 4756, 'hell': 2077, 'if': 2222, 'chain': 741, 'him': 2110, 'paint': 3173, 'note': 3044, 'greater': 1965, 'seems': 3864, 'fall': 1637, 'characters': 760, 'laugh': 2529, 'track': 4544, 'gone': 1935, 'bloody': 513, 'theme': 4433, 'band': 391, 'less': 2575, 'takes': 4351, 'place': 3282, 'outside': 3146, 'thrown': 4481, 'by': 642, 'end': 1468, 'quiet': 3492, 'these': 4441, 'four': 1812, 'guys': 2001, 'created': 1037, 'something': 4066, 'brilliant': 583, 'demented': 1176, 'will': 4886, 'want': 4788, 'again': 146, 'amazing': 209, 'seconds': 3848, 'screen': 3829, 'go': 1924, 'cheap': 774, 'sight': 3969, 'gag': 1861, 'horrifying': 2167, 'single': 3996, 'actors': 104, 'facial': 1619, 'expression': 1602, 'meet': 2793, 'writer': 4968, 'performers': 3232, 'id': 2212, 'try': 4600, 'top': 4525, 'say': 3799, 'help': 2079, 'theyd': 4443, 'slap': 4018, 'ask': 316, 'sign': 3970, 'mark': 2739, 'liked': 2600, 'most': 2909, 'ms': 2931, 'davis': 1126, 'poor': 3328, 'attempt': 340, 'an': 223, 'accent': 78, 'her': 2085, 'stiff': 4187, 'acting': 99, 'makes': 2716, 'otherwise': 3137, 'seriously': 3892, 'other': 3135, 'modern': 2882, 'actor': 103, 'played': 3297, 'role': 3726, 'style': 4249, 'laughed': 2532, 'off': 3084, 'she': 3923, 'now': 3054, 'bergman': 466, 'playing': 3300, 'part': 3193, 'wife': 4884, 'enjoyed': 1486, 'much': 2934, 'guess': 1989, 'bette': 471, 'thought': 4462, 'plays': 3301, 'herself': 2092, 'matter': 2769, 'shes': 3930, 'possible': 3350, 'exception': 1557, 'im': 2232, 'sure': 4308, 'many': 2732, 'reviewers': 3678, 'explain': 1586, 'careful': 688, 'hope': 2155, 'civil': 826, 'detail': 1217, 'how': 2181, 'totally': 4532, 'wrong': 4973, 'ill': 2228, 'movies': 2927, 'because': 432, 'stories': 4205, 'writing': 4971, 'supporting': 4304, 'thinking': 4453, 'different': 1248, 'actresses': 106, 'better': 472, 'another': 250, 'example': 1553, 'curse': 1086, 'east': 1407, 'asian': 314, 'cinema': 816, 'separate': 3883, 'rolled': 3729, 'into': 2332, 'obviously': 3072, 'mentions': 2813, 'second': 3846, 'development': 1225, 'deep': 1154, 'plot': 3309, 'featured': 1679, 'such': 4268, 'short': 3946, 'enjoying': 1487, 'stopped': 4202, 'didnt': 1242, 'appeared': 276, 'middle': 2833, 'replaced': 3634, 'inane': 2258, 'unbelievable': 4634, 'focus': 1766, 'around': 297, 'girl': 1909, 'apartment': 265, 'wow': 4962, 'look': 2646, 'forward': 1808, 'day': 1129, 'given': 1913, 'decent': 1147, 'script': 3834, 'work': 4940, 'finally': 1724, 'came': 656, 'frankly': 1823, 'afraid': 140, 'bad': 382, 'might': 2835, 'disappointing': 1274, 'menace': 2806, 'than': 4420, 'wasnt': 4807, 'memorable': 2802, 'satisfying': 3791, '11': 2, 'old': 3100, 'star': 4150, 'wars': 4804, 'remember': 3616, 'sitting': 4007, 'theater': 4427, 'opening': 3114, 'credits': 1050, 'experience': 1580, 'forget': 1793, 'timeless': 4496, 'bored': 541, 'farm': 1656, 'boy': 557, 'knows': 2493, 'meant': 2784, 'princess': 3397, 'evil': 1548, 'being': 448, 'wise': 4903, 'wizard': 4919, 'various': 4715, 'comic': 893, 'relief': 3605, 'space': 4090, 'opera': 3116, 'setting': 3900, 'thats': 4425, 'lucas': 2680, 'using': 4698, 'formula': 1802, 'works': 4945, 'his': 2118, 'credit': 1049, 'gave': 1875, 'twists': 4619, 'special': 4097, 'empire': 1464, 'became': 431, 'fairy': 1632, 'darkness': 1117, 'picture': 3269, 'we': 4823, 'learned': 2551, 'great': 1964, 'villain': 4744, 'father': 1666, 'coming': 896, 'course': 1019, 'convinced': 984, 'neither': 2996, 'till': 4493, 'showed': 3956, 'screenplay': 3831, 'back': 378, 'knowing': 2490, 'light': 2595, 'see': 3855, 'which': 4867, 'brings': 587, 'problem': 3408, 'revenge': 3675, 'entertaining': 1499, 'tremendous': 4579, 'effects': 1431, 'plenty': 3307, 'some': 4061, 'good': 1937, 'fighting': 1709, 'lives': 2628, 'dies': 1245, 'telling': 4396, 'oh': 3096, 'certainly': 738, 'save': 3794, 'director': 1264, 'overcome': 3151, 'forced': 1787, 'realize': 3552, 'george': 1893, 'man': 2721, 'managed': 2723, 'direct': 1258, 'worst': 4952, 'performances': 3229, 'careers': 687, 'fine': 1729, 'jackson': 2375, 'spoilers': 4124, 'ahead': 159, 'hes': 2093, 'already': 197, 'happened': 2027, 'films': 1721, 'incredible': 2269, 'too': 4522, 'sheer': 3925, 'background': 380, 'child': 789, 'product': 3418, 'miracle': 2860, 'birth': 486, 'chosen': 805, 'gets': 1900, 'remotely': 3623, 'explained': 1587, 'closest': 857, 'explanation': 1590, 'maybe': 2776, 'okay': 3099, 'mistake': 2871, 'turns': 4609, 'creator': 1043, 'hey': 2095, 'willing': 4889, 'disbelief': 1277, 'kid': 2464, 'moody': 2899, 'young': 4989, 'somehow': 4063, 'become': 433, 'greatest': 1966, 'villains': 4745, 'cinematic': 818, 'history': 2121, 'tragedy': 4551, 'guy': 2000, 'falls': 1640, 'grace': 1950, 'only': 3110, 'achieve': 92, 'redemption': 3578, 'tell': 4395, 'does': 1308, 'happen': 2026, 'dream': 1354, 'die': 1243, 'civilization': 827, 'treats': 4575, 'treat': 4572, 'occur': 3076, 'dark': 1115, 'check': 777, 'cause': 723, 'futuristic': 1857, 'society': 4050, 'thing': 4450, 'kill': 2468, 'children': 792, 'root': 3737, 'theyve': 4446, 'chasing': 772, 'tells': 4397, 'secret': 3849, 'expect': 1575, 'moved': 2922, 'anyone': 259, 'care': 684, 'saved': 3795, 'wanted': 4789, 'stupid': 4247, 'doctor': 1304, 'himself': 2111, 'incredibly': 2270, 'high': 2100, 'technology': 4385, 'advanced': 128, 'offers': 3090, 'conclusion': 936, 'lost': 2660, 'live': 2625, 'sleeping': 4025, 'present': 3374, 'luke': 2687, 'happens': 2029, 'both': 547, 'yet': 4984, 'mind': 2849, 'belong': 459, 'constructed': 959, 'believed': 455, 'built': 618, 'planet': 3289, 'strange': 4211, 'recall': 3562, 'simply': 3986, 'went': 4847, 'along': 195, 'introduced': 2337, 'sadly': 3769, 'began': 441, 'control': 977, 'incomprehensible': 2267, 'sense': 3877, 'none': 3028, 'ties': 4490, 'originally': 3131, 'told': 4513, 'looks': 2649, 'give': 1912, 'rating': 3529, 'reminds': 3620, 'fun': 1848, 'entirely': 1503, 'forgettable': 1794, 'forever': 1792, 'soon': 4074, 'havent': 2053, 'cringe': 1059, 'actually': 109, 'paying': 3217, 'drunk': 1375, 'considering': 952, 'year': 4978, 'where': 4864, 'mexican': 2826, 'prostitute': 3440, 'should': 3951, 'followed': 1773, 'aside': 315, 'everyone': 1542, 'avoided': 364, 'camera': 659, 'crew': 1053, 'since': 3990, 'wants': 4791, 'remembered': 3617, 'threw': 4470, 'loser': 2655, 'overall': 3150, 'trip': 4588, 'itself': 2371, 'crazy': 1035, 'people': 3221, 'cast': 710, 'stephen': 4176, 'deals': 1137, 'mother': 2911, 'raising': 3509, 'goes': 1930, 'lot': 2661, 'bring': 585, 'daughter': 1121, 'jenny': 2393, 'wonderfully': 4929, 'suggest': 4280, 'pick': 3265, 'copy': 994, 'roger': 3724, 'stars': 4155, 'deserved': 1200, 'isnt': 2362, 'although': 201, 'compare': 911, 'american': 213, 'sports': 4130, 'team': 4378, 'players': 3299, 'succeed': 4262, 'game': 1864, 'beyond': 476, 'case': 707, 'football': 1783, 'beginning': 443, 'street': 4216, 'thugs': 4484, 'find': 1726, 'nice': 3008, 'struggle': 4234, 'training': 4558, 'surprised': 4313, 'start': 4156, 'pants': 3182, 'korean': 2495, 'convincing': 985, 'feel': 1684, 'bought': 552, 'decided': 1149, 'principal': 3398, 'robot': 3717, 'personality': 3242, 'change': 749, 'whole': 4873, 'times': 4497, 'voices': 4763, 'match': 2762, 'talking': 4360, 'lips': 2615, 'move': 2921, 'trying': 4601, 'poignant': 3315, 'unwatchable': 4682, 'key': 2458, 'robin': 3715, 'williams': 4888, 'down': 1335, 'ashamed': 312, 'rather': 3528, 'ranks': 3519, 'pieces': 3273, 'bottom': 551, 'food': 1778, 'flick': 1754, 'tongue': 4518, 'cheek': 779, 'dead': 1132, 'alive': 186, 'simon': 3982, 'spots': 4132, 'straight': 4210, 'often': 3095, 'premise': 3370, 'small': 4033, 'community': 908, 'abandoned': 62, 'near': 2979, 'meat': 2787, 'eating': 1413, 'monsters': 2893, 'albeit': 173, 'slowly': 4032, 'under': 4639, 'boot': 538, 'health': 2060, 'inspector': 2299, 'michael': 2829, 'fight': 1707, 'sheriff': 3929, 'mayor': 2777, 'climax': 849, 'unintentional': 4658, 'head': 2057, 'screenwriter': 3833, 'scenario': 3808, 'destroying': 1215, 'ground': 1979, 'play': 3296, 'gore': 1941, 'elements': 1443, 'dialogue': 1234, 'worked': 4941, 'liners': 2611, 'eccentric': 1414, 'cult': 1077, 'violence': 4747, 'wont': 4932, 'chest': 784, 'grand': 1953, 'explosion': 1596, 'italian': 2367, 'restaurant': 3658, 'blood': 512, 'horror': 2168, 'enjoy': 1484, 'full': 1846, 'clean': 838, 'stinker': 4191, 'delivers': 1172, 'suggests': 4282, 'kim': 2475, 'terry': 4415, 'adequate': 120, 'hold': 2129, 'face': 1616, 'scream': 3826, 'teenagers': 4391, 'horrible': 2163, 'used': 4693, 'bruce': 602, 'jeffrey': 2391, 'nudity': 3059, 'teens': 4392, 'bed': 436, 'poorly': 3329, 'girls': 1911, 'bedroom': 437, 'male': 2719, 'female': 1693, 'almost': 193, 'unreal': 4676, 'ending': 1471, 'worth': 4953, 'zero': 4996, 'tension': 4404, 'kills': 2474, 'speak': 4094, 'surprise': 4312, 'suppose': 4305, '80': 58, 'minutes': 2859, 'longer': 2645, 'apparently': 270, 'cut': 1089, 'version': 4720, 'bay': 416, 'camp': 662, 'unhappy': 4656, 'survival': 4320, 'disc': 1278, 'collection': 874, 'features': 1680, 'explains': 1589, 'hurt': 2202, 'later': 2525, 'doesnt': 1309, 'else': 1448, 'whatever': 4859, 'caught': 722, 'fast': 1661, 'ok': 3098, 'future': 1856, 'minute': 2858, 'likely': 2601, 'sorry': 4076, 'paid': 3169, 'closer': 856, 'attention': 345, 'huh': 2187, 'badly': 383, 'confusion': 943, 'jobs': 2406, 'related': 3594, 'fields': 1705, 'mention': 2810, 'died': 1244, 'original': 3129, 'experiment': 1583, 'private': 3404, 'industry': 2280, 'together': 4511, 'company': 910, 'god': 1926, 'theres': 4440, 'substance': 4258, 'technically': 4382, 'disease': 1285, 'reaction': 3541, 'dying': 1393, 'victim': 4729, 'jump': 2429, 'situation': 4008, 'without': 4913, 'store': 4204, 'producers': 3416, 'enough': 1491, 'money': 2888, 'proper': 3436, 'left': 2561, 'deadly': 1133, 'unknown': 4668, 'kept': 2456, 'going': 1931, 'technique': 4383, 'open': 3112, 'turn': 4605, 'thrill': 4471, 'ride': 3692, 'provoking': 3452, 'stone': 4197, 'pulls': 3464, 'drop': 1369, 'gorgeous': 1942, 'author': 359, 'catherine': 719, 'instinct': 2308, 'san': 3780, 'francisco': 1819, 'sequel': 3885, 'london': 2641, 'cities': 823, 'known': 2492, 'excitement': 1562, 'perfect': 3224, 'someone': 4064, 'take': 4349, 'david': 1124, 'smooth': 4041, 'psychiatrist': 3455, 'glass': 1917, 'roy': 3745, 'refreshing': 3586, 'harry': 2039, 'cars': 702, 'clothes': 860, 'sex': 3907, 'drama': 1346, 'throughout': 4478, 'climactic': 848, 'boring': 543, 'saying': 3800, 'production': 3419, 'values': 4710, 'low': 2676, 'filmed': 1717, 'shot': 3949, 'hair': 2005, 'sit': 4003, 'spot': 4131, 'terrible': 4407, 'lighting': 2596, 'plain': 3286, 'hear': 2061, 'judge': 2424, 'executed': 1565, 'independent': 2272, 'budget': 610, 'standards': 4145, 'awful': 372, 'adaptation': 113, 'novel': 3052, 'natural': 2973, 'right': 3696, 'looked': 2647, 'bollywood': 530, 'quality': 3484, 'artists': 309, 'performing': 3233, 'depicted': 1183, 'exactly': 1551, 'during': 1387, 'trust': 4598, 'ones': 3108, 'religion': 3607, 'tear': 4379, 'melodrama': 2797, 'canadian': 667, 'margaret': 2735, 'angel': 231, 'ellen': 1446, 'proud': 3444, 'woman': 4921, 'wishes': 4906, 'remain': 3609, 'placed': 3283, 'home': 2142, 'meaning': 2780, 'son': 4070, 'canada': 666, 'set': 3898, 'fictional': 1703, 'conventional': 979, 'interpretation': 2328, 'book': 535, 'required': 3641, 'reading': 3544, 'school': 3813, 'english': 1483, 'classes': 834, 'half': 2007, 'century': 736, 'title': 4504, 'comes': 891, 'mothers': 2912, 'grave': 1962, 'serves': 3895, 'express': 1600, 'emotion': 1458, 'lifetime': 2594, 'humor': 2192, 'likable': 2598, 'fully': 1847, 'ego': 1435, 'driven': 1365, 'self': 3869, 'wealthy': 4827, 'alcoholic': 177, 'husband': 2204, 'sons': 4073, 'days': 1130, 'pride': 3391, 'demon': 1177, 'led': 2558, 'fear': 1676, 'alone': 194, 'free': 1827, 'carried': 698, 'within': 4912, 'spread': 4133, 'touched': 4534, 'spend': 4105, 'failed': 1626, 'relationships': 3598, 'flashbacks': 1747, 'voice': 4761, 'narration': 2965, 'begins': 444, 'dance': 1103, 'aunt': 355, 'meets': 2795, 'previously': 3388, 'married': 2744, 'cole': 873, 'whose': 4877, 'reputation': 3640, 'native': 2972, 'population': 3335, 'exceptional': 1558, 'feature': 1678, 'despite': 1211, 'relationship': 3597, 'cold': 872, 'attend': 344, 'wedding': 4836, 'starts': 4159, 'marriage': 2743, 'foot': 1781, 'leaving': 2557, 'couple': 1016, 'poverty': 3357, 'social': 4049, 'activities': 102, 'prevent': 3385, 'upper': 4685, 'baker': 385, 'kevin': 2457, 'unable': 4631, 'joy': 2422, 'held': 2074, 'mine': 2853, 'morning': 2906, 'break': 569, 'hearts': 2066, 'truth': 4599, 'desert': 1198, 'further': 1853, 'leaves': 2556, 'eventually': 1537, 'returns': 3668, 'runs': 3757, 'house': 2178, 'ocean': 3079, 'childhood': 790, 'escape': 1517, 'named': 2961, 'leo': 2571, 'interest': 2323, 'responsibility': 3655, 'mistakes': 2873, 'emotional': 1459, 'stops': 4203, 'develops': 1226, 'point': 3316, 'outcome': 3142, 'spirited': 4114, 'performance': 3228, 'page': 3167, 'devoted': 1231, 'naive': 2958, 'girlfriend': 1910, 'moving': 2928, 'energy': 1478, 'fans': 1650, 'blind': 506, 'crap': 1031, 'shoot': 3942, 'sometimes': 4067, 'weve': 4856, 'spent': 4108, 'earned': 1401, 'worse': 4951, 'reviews': 3679, 'fest': 1696, 'awards': 367, 'listed': 2618, 'box': 555, 'five': 1743, 'eyes': 1613, 'double': 1331, 'passes': 3203, 'centers': 734, 'group': 1980, 'teen': 4388, 'decide': 1148, 'late': 2523, 'night': 3013, 'run': 3755, 'cat': 713, 'mouse': 2919, 'punishment': 3467, 'thinks': 4454, 'car': 680, 'gas': 1874, 'station': 4164, 'interesting': 2325, 'horrors': 2169, 'simple': 3983, 'execution': 1566, 'flat': 1748, 'tries': 4585, 'cross': 1066, 'blair': 497, 'witch': 4909, 'project': 3427, 'texas': 4418, 'massacre': 2754, 'bare': 398, 'approach': 282, 'material': 2766, 'succeeds': 4264, 'chase': 769, 'torture': 4529, 'release': 3602, 'long': 2644, 'incoherent': 2265, 'sequences': 3888, 'realism': 3549, 'merely': 2815, 'annoying': 249, 'viewer': 4738, 'aid': 160, 'tend': 4400, 'heard': 2062, 'may': 2775, 'getting': 1901, 'killed': 2469, 'hilariously': 2107, 'dumb': 1385, 'shell': 3927, 'youre': 4992, 'magazine': 2701, 'talk': 4358, 'fake': 1635, 'perhaps': 3235, 'met': 2822, 'section': 3853, 'indie': 2276, 'cake': 648, 'fate': 1665, 'pass': 3201, 'gives': 1914, 'yes': 4982, 'lucky': 2683, 'running': 3756, 'hit': 2122, 'musical': 2947, 'everything': 1544, 'fails': 1628, 'choice': 797, 'hired': 2117, 'annie': 247, 'songs': 4072, 'casting': 711, 'power': 3359, 'dancers': 1105, 'talented': 4355, 'chance': 747, 'couldnt': 1008, 'dancing': 1107, 'singing': 3995, 'fact': 1621, 'imdb': 2240, 'jones': 2418, 'capture': 676, 'magic': 2703, 'desperation': 1210, 'passion': 3205, 'stage': 4139, 'total': 4531, 'strike': 4224, 'music': 2946, 'score': 3822, 'struggles': 4235, 'depression': 1189, 'myself': 2953, 'amazed': 208, 'similarities': 3979, 'include': 2261, 'abuse': 74, '1990': 24, 'issue': 2364, 'duke': 1383, 'illness': 2230, 'survive': 4321, 'victims': 4730, 'person': 3238, 'personally': 3243, 'success': 4265, 'issues': 2365, 'depressed': 1187, 'acts': 107, 'wish': 4904, 'courage': 1018, 'public': 3460, 'gene': 1879, 'prison': 3401, 'government': 1948, 'skills': 4014, 'audience': 352, 'bits': 490, 'information': 2288, 'supposed': 4306, 'suspenseful': 4331, 'mission': 2870, 'messed': 2821, 'mysterious': 2955, 'orders': 3127, 'everybody': 1540, 'cover': 1022, 'pointed': 3317, 'hours': 2177, 'translation': 4562, 'richard': 3686, 'widmark': 4882, 'mickey': 2831, 'edward': 1426, 'albert': 174, 'thoroughly': 4459, 'crime': 1055, 'doing': 1312, 'fbi': 1675, 'cia': 814, 'talent': 4354, 'lazy': 2543, 'usually': 4700, 'review': 3676, 'others': 3136, 'mess': 2818, 'fell': 1690, 'clear': 839, 'room': 3735, 'shock': 3938, 'absolute': 71, 'merit': 2816, 'whoever': 4872, 'write': 4967, 'nor': 3032, 'endearing': 1469, 'sole': 4055, 'achievement': 94, 'large': 2517, 'race': 3499, 'horse': 2170, 'theatre': 4429, 'dickens': 1240, 'werent': 4849, 'laughing': 2533, 'mid': 2832, 'took': 4523, 'bath': 411, 'monkeys': 2891, 'images': 2235, 'feeling': 1685, 'france': 1816, 'clown': 862, 'door': 1328, 'amount': 219, 'praise': 3364, 'disappointment': 1275, 'combination': 883, 'historical': 2119, 'facts': 1624, 'fantasy': 1652, 'main': 2707, 'hills': 2109, 'credibility': 1047, 'questions': 3489, 'miss': 2866, 'points': 3319, 'fail': 1625, 'supposedly': 4307, 'connect': 944, 'called': 652, 'campbell': 663, 'jr': 2423, 'grows': 1985, 'york': 4985, 'technical': 4381, 'trade': 4547, 'bodies': 526, 'dad': 1095, 'moves': 2925, 'berlin': 467, 'bang': 393, 'successful': 4266, 'actress': 105, 'parents': 3188, 'usa': 4691, 'grown': 1984, 'germany': 1898, 'feels': 1687, 'german': 1896, 'likes': 2602, 'nazis': 2978, 'possibly': 3351, 'interested': 2324, 'politics': 3326, 'states': 4163, 'deeply': 1156, 'speaks': 4096, 'evidence': 1546, 'agent': 150, 'agrees': 157, 'anti': 254, 'nazi': 2977, 'hate': 2046, 'propaganda': 3435, 'device': 1227, 'messages': 2820, 'read': 3543, 'crucial': 1068, 'meeting': 2794, 'park': 3190, 'decision': 1151, 'pretty': 3384, 'easily': 1406, 'rise': 3702, 'scheme': 3812, 'fairly': 1631, 'realistic': 3550, 'exciting': 1563, 'wonders': 4931, 'honestly': 2147, 'etc': 1527, 'lose': 2654, 'troops': 4591, 'front': 1841, 'ii': 2226, 'russian': 3762, 'captured': 677, 'soldier': 4053, 'dragged': 1343, 'seeing': 3857, 'tour': 4538, 'released': 3603, 'somewhere': 4069, 'city': 825, 'paul': 3214, 'cares': 690, 'neighbors': 2994, 'offer': 3087, 'survivors': 4325, 'discover': 1279, 'calls': 654, 'criminal': 1057, 'treatment': 4574, 'cell': 730, 'writes': 4970, 'task': 4368, 'finished': 1733, 'guilt': 1994, 'impression': 2252, 'hardly': 2036, 'capable': 672, 'difficult': 1249, 'amazingly': 210, 'status': 4165, 'potential': 3355, 'hero': 2088, 'put': 3480, 'assume': 328, 'however': 2183, 'win': 4892, 'politically': 3325, 'safe': 3771, 'side': 3965, 'won': 4925, 'danger': 1109, 'argue': 290, 'bother': 548, 'logical': 2639, 'primarily': 3393, 'suspect': 4327, 'affair': 135, 'pity': 3281, 'consider': 949, 'lee': 2559, 'ridiculous': 3693, 'aspect': 321, 'hidden': 2096, 'largely': 2518, 'superman': 4301, 'comics': 895, '1950s': 14, 'chris': 806, 'clark': 832, 'hoping': 2160, 'estate': 1525, 'beaten': 424, 'wearing': 4831, 'sequence': 3887, 'falling': 1639, 'stuck': 4237, 'breaks': 571, 'partner': 3198, 'hand': 2015, 'kinds': 2478, 'heroic': 2090, 'skill': 4013, 'normal': 3033, 'human': 2188, 'keep': 2449, 'universe': 4666, 'general': 1880, 'petty': 3249, 'stick': 4185, 'normally': 3034, 'diane': 1238, 'keaton': 2448, 'tonight': 4519, 'switch': 4339, 'hour': 2176, 'sympathy': 4343, 'regard': 3588, 'adding': 117, 'mix': 2876, 'anymore': 258, 'state': 4160, 'far': 1653, 'protagonist': 3441, 'caring': 691, 'nearly': 2981, 'sincere': 3991, 'gay': 1876, 'combined': 885, 'carry': 700, 'joke': 2414, 'dangerous': 1110, 'creature': 1045, 'scientist': 3818, 'lets': 2580, 'cage': 645, 'stuff': 4243, 'beings': 449, 'jumping': 2431, 'fish': 1738, 'white': 4870, 'shark': 3921, 'useless': 4695, 'arent': 288, 'effort': 1432, 'fired': 1735, 'wrote': 4974, 'mystery': 2956, 'kinda': 2477, 'continues': 971, 'cgi': 740, 'average': 362, 'warned': 4798, 'above': 68, '60': 53, 'network': 3000, 'seasons': 3844, 'jane': 2380, 'lead': 2545, 'able': 66, 'lucy': 2684, 'barbara': 397, 'blank': 501, 'cannot': 670, 'women': 4923, 'roles': 3727, 'regular': 3592, 'snow': 4045, 'summer': 4291, 'lol': 2640, 'granted': 1957, 'winter': 4900, 'lifestyle': 2593, 'mean': 2779, 'laughs': 2534, 'lasted': 2522, 'liberal': 2588, 'ways': 4822, 'accused': 91, 'racism': 3502, 'neighbor': 2992, 'par': 3184, 'uk': 4626, 'crowd': 1067, 'means': 2783, 'couples': 1017, 'nancy': 2964, 'drew': 1360, 'digital': 1251, 'age': 148, 'books': 536, 'silent': 3975, 'form': 1798, 'lord': 2652, 'rings': 3699, 'third': 4455, 'oscar': 3133, 'bunch': 623, 'upset': 4687, 'oscars': 3134, 'itll': 2369, 'paper': 3183, 'enjoyable': 1485, 'cameos': 658, 'willis': 4890, 'adam': 111, 'goldberg': 1933, 'hammer': 2014, 'jimmy': 2403, 'cooper': 990, 'rachel': 3500, 'cook': 988, 'emma': 1457, 'roberts': 3714, 'julia': 2427, 'stays': 4169, 'consistent': 953, 'conflict': 939, 'spirit': 4113, 'spy': 4135, 'ten': 4399, 'buy': 640, 'upon': 4684, 'usual': 4699, 'website': 4834, 'underrated': 4642, 'comments': 901, 'remarks': 3615, 'post': 3352, 'reveal': 3670, 'lack': 2502, 'stayed': 4167, 'delight': 1167, 'critical': 1062, 'woody': 4936, 'allen': 188, 'neat': 2982, 'england': 1482, 'member': 2800, 'shouldnt': 3952, 'rich': 3685, 'student': 4238, 'whom': 4875, 'sid': 3964, 'puts': 3481, 'ghost': 1902, 'murdered': 2940, 'reporter': 3636, 'joe': 2407, 'ian': 2209, 'killings': 2473, 'committed': 905, 'peter': 3247, 'hugh': 2186, 'giving': 1915, 'funniest': 1851, 'mostly': 2910, 'damn': 1100, 'hilarious': 2106, 'gotta': 1946, 'judy': 2426, 'james': 2378, 'shame': 3918, 'opinion': 3118, 'singer': 3993, 'therefore': 4439, 'desired': 1206, 'paced': 3162, 'gratuitous': 1961, 'foul': 1810, 'rock': 3720, 'yourself': 4993, 'landing': 2512, 'scott': 3824, 'strictly': 4223, 'rubbish': 3748, 'prefer': 3368, 'ignore': 2224, 'wears': 4832, 'costume': 1005, 'design': 1202, 'join': 2412, 'highly': 2105, 'uses': 4697, 'genres': 1889, 'gangster': 1868, 'loud': 2664, 'men': 2805, 'erotic': 1515, 'passed': 3202, 'beautifully': 429, 'tired': 4501, 'typical': 4623, 'among': 217, 'beauty': 430, 'call': 651, 'manages': 2725, 'rob': 3710, 'dignity': 1252, 'blues': 519, 'justice': 2438, 'claim': 828, 'recent': 3566, 'super': 4295, 'blow': 514, 'current': 1084, 'truly': 4597, 'following': 1774, 'dreadful': 1353, 'references': 3583, 'lowest': 2678, 'wonder': 4926, 'rangers': 3517, 'familiar': 1643, 'faces': 1618, 'presumably': 3380, 'costs': 1004, 'monster': 2892, 'costumes': 1006, 'everyones': 1543, 'favourite': 1673, 'toy': 4542, 'franchise': 1817, 'nostalgia': 3038, 'value': 4709, 'actual': 108, 'garbage': 1870, 'mummy': 2937, 'randomly': 3515, 'asks': 319, 'imagine': 2238, 'pictures': 3270, 'naked': 2959, 'boys': 559, 'shorts': 3948, 'personal': 3240, 'sexually': 3910, 'confused': 941, 'convince': 983, 'pet': 3246, 'sits': 4006, 'bizarre': 492, 'based': 404, 'inspired': 2301, 'hopes': 2159, 'tends': 4402, 'fights': 1710, 'causes': 725, 'fashion': 1659, 'loving': 2675, 'return': 3665, 'removed': 3624, 'changed': 750, 'mr': 2929, 'minds': 2852, 'consists': 955, 'episode': 1507, 'season': 3843, 'crude': 1069, 'dealt': 1138, 'manner': 2729, 'mild': 2839, 'occasion': 3073, 'strong': 4229, 'recommend': 3571, 'la': 2500, 'written': 4972, 'familys': 1646, 'learns': 2553, 'beast': 422, 'nearby': 2980, 'former': 1800, 'lady': 2507, 'engaged': 1480, 'finds': 1728, 'dreams': 1355, 'incident': 2260, 'surreal': 4317, 'rose': 3739, 'genuinely': 1892, 'photographed': 3258, 'beautiful': 428, 'visual': 4757, 'pregnant': 3369, 'masterpiece': 2759, 'european': 1530, 'prior': 3400, 'freddy': 1826, 'sum': 4289, 'killer': 2470, 'killing': 2472, 'encounters': 1467, 'purpose': 3474, 'youll': 4988, 'learn': 2550, 'directing': 1260, 'choose': 799, 'painful': 3171, 'props': 3439, 'wouldve': 4959, 'parody': 3192, 'starting': 4158, 'enemy': 1477, 'effect': 1428, 'cop': 991, 'looking': 2648, 'player': 3298, 'blond': 510, 'towards': 4540, 'working': 4944, 'words': 4938, 'porn': 3336, 'hello': 2078, 'mary': 2751, 'lou': 2663, 'prom': 3429, 'hamilton': 2012, 'lisa': 2616, 'cheating': 776, 'date': 1118, 'bill': 481, 'steve': 4181, 'bud': 607, 'robert': 3713, 'lewis': 2586, 'meanwhile': 2785, 'queen': 3485, 'accept': 80, 'award': 366, 'decides': 1150, 'throws': 4482, 'lit': 2621, 'catches': 715, 'dress': 1357, 'fire': 1734, '30': 42, 'teenage': 4389, 'craig': 1030, 'justin': 2440, 'louis': 2665, 'dating': 1120, 'carpenter': 694, 'wendy': 4846, 'planning': 3291, 'priest': 3392, 'schools': 3814, 'basement': 405, 'discovers': 1281, 'opens': 3115, 'intent': 2318, 'spare': 4093, 'sets': 3899, 'death': 1141, 'suicide': 4283, 'body': 527, 'draws': 1352, 'competition': 918, 'shape': 3919, 'kelly': 2452, 'fix': 1744, 'wins': 4899, 'allows': 192, 'appearance': 274, 'party': 3200, 'connection': 946, '1980': 20, 'directed': 1259, 'ron': 3734, 'oliver': 3102, 'supernatural': 4302, 'slasher': 4020, 'themes': 4434, 'whether': 4866, 'slow': 4031, 'possessed': 3347, 'picks': 3268, 'clichéd': 845, 'ready': 3546, 'count': 1010, 'hide': 2097, 'shower': 3957, 'resulting': 3661, 'latter': 2528, 'including': 2264, 'creepy': 1052, 'water': 4816, 'zombie': 4997, 'hands': 2020, 'drag': 1342, 'outstanding': 3147, 'directors': 1266, 'names': 2963, 'adds': 119, 'touch': 4533, 'asking': 318, 'computer': 927, 'someones': 4065, 'cool': 989, 'reasonable': 3558, 'generally': 1881, 'disappointed': 1273, 'ultimately': 4628, 'maintain': 2710, 'deserves': 1201, 'specifically': 4100, 'sat': 3786, 'numbers': 3061, 'fred': 1825, 'ginger': 1908, 'pleasure': 3306, 'betty': 474, 'initially': 2291, 'india': 2273, 'heart': 2064, 'intelligent': 2314, 'visible': 4753, 'flaws': 1752, 'haunted': 2050, 'pain': 3170, 'rarely': 3524, 'nowadays': 3055, 'country': 1014, 'indians': 2275, 'cinematography': 820, 'excellent': 1555, 'meaningful': 2781, 'thanks': 4423, 'haunting': 2051, 'breath': 573, 'perfectly': 3226, 'intellectual': 2312, 'complete': 921, 'period': 3236, 'aged': 149, 'charisma': 762, 'sidekick': 3966, 'fox': 1814, 'peace': 3219, 'gandhi': 1866, 'dramatic': 1348, 'attempts': 343, 'lesson': 2577, 'sleep': 4024, 'convey': 982, 'fair': 1630, 'ended': 1470, 'examples': 1554, 'thus': 4486, 'letting': 2583, 'witness': 4914, 'growing': 1983, 'rebel': 3561, 'turned': 4606, 'busy': 635, 'focusing': 1769, 'freedom': 1828, 'promises': 3432, 'begin': 442, 'early': 1400, 'opposed': 3122, 'constantly': 958, 'south': 4087, 'africa': 141, 'needed': 2988, 'versus': 4722, 'impact': 2244, 'events': 1536, 'leading': 2547, 'moment': 2886, 'suddenly': 4273, 'basically': 407, 'immensely': 2243, 'khan': 2459, 'filmmakers': 1720, 'ambitious': 211, 'intention': 2319, 'practically': 3362, 'positive': 3346, 'filmmaker': 1719, 'deliver': 1169, 'narrative': 2966, 'sides': 3967, 'judging': 2425, 'either': 1438, 'painting': 3175, 'nation': 2969, 'shines': 3932, 'luck': 2681, 'easy': 1410, 'covers': 1024, 'virtually': 4751, 'rare': 3523, 'innocence': 2293, 'figure': 1711, 'realise': 3548, 'gifted': 1907, 'whos': 4876, 'torn': 4528, 'fault': 1668, 'efforts': 1433, 'evident': 1547, 'suffers': 4278, 'inevitable': 2282, 'flaw': 1749, 'gerard': 1895, 'french': 1830, 'de': 1131, 'absurd': 73, 'witty': 4917, 'irony': 2357, 'necessary': 2984, 'battle': 414, 'thousands': 4466, 'deaths': 1142, 'promised': 3431, 'king': 2479, 'wait': 4770, 'rough': 3741, 'genuine': 1891, 'christian': 808, 'directs': 1267, 'remake': 3612, '2003': 33, 'vincent': 4746, 'tom': 4514, 'sullivan': 4288, 'terrific': 4409, 'law': 2538, 'daniel': 1111, 'portrayal': 3341, 'surely': 4309, 'protect': 3443, 'explore': 1594, 'culture': 1079, 'eastern': 1408, 'born': 544, 'due': 1382, 'major': 2711, 'cultural': 1078, 'differences': 1247, 'ken': 2453, 'japanese': 2382, 'stay': 4166, 'united': 4664, 'expected': 1577, 'legal': 2563, 'liking': 2604, 'rid': 3690, 'roll': 3728, 'except': 1556, 'song': 4071, 'broken': 594, 'traditional': 4550, 'japan': 2381, 'expecting': 1578, '80s': 59, 'soundtrack': 4085, 'pop': 3330, 'happy': 2032, 'disagree': 1269, 'reason': 3557, 'search': 3841, 'california': 650, 'ancient': 225, 'shooting': 3943, 'inside': 2297, 'studio': 4240, 'constant': 957, 'ups': 4686, 'pro': 3406, 'touching': 4536, 'paulie': 3215, 'performed': 3230, 'jay': 2386, 'becoming': 435, 'baby': 376, 'faced': 1617, 'impressive': 2253, 'talents': 4356, 'taken': 4350, 'string': 4227, 'quirky': 3493, 'warning': 4800, 'disney': 1289, 'correct': 1000, 'foster': 1809, 'viewers': 4739, 'simplistic': 3985, 'directly': 1263, 'losing': 2658, 'worthy': 4956, 'angels': 234, 'heck': 2071, 'helping': 2081, 'trite': 4589, 'intrigue': 2333, 'word': 4937, 'number': 3060, 'noticed': 3049, 'makeup': 2717, 'missed': 2867, '60s': 54, 'ludicrous': 2685, 'eddie': 1416, 'younger': 4990, 'grow': 1982, 'addition': 118, 'reunion': 3669, 'add': 115, 'halloween': 2010, 'fly': 1763, 'robots': 3718, 'claims': 830, 'missing': 2869, 'laughable': 2530, 'uncle': 4636, 'accident': 84, 'train': 4556, 'lily': 2605, 'leg': 2562, 'stunt': 4245, 'fantastic': 1651, 'career': 686, 'sensitive': 3879, 'rent': 3626, 'attempted': 341, 'believe': 454, 'humorous': 2193, 'reference': 3582, 'stale': 4141, 'todays': 4509, 'excuse': 1564, 'proof': 3434, 'appears': 278, 'crafted': 1029, 'noted': 3045, 'reviewer': 3677, 'viewing': 4740, 'mst3k': 2932, 'impressed': 2251, 'utter': 4701, 'insult': 2309, 'intelligence': 2313, 'flashback': 1746, 'era': 1513, 'realized': 3553, 'toys': 4543, 'attacked': 338, 'security': 3854, 'heads': 2059, 'reminiscent': 3621, 'standing': 4146, 'ruins': 3752, 'utterly': 4702, 'club': 863, 'obvious': 3071, 'build': 614, 'model': 2880, 'motivations': 2915, 'worthless': 4954, 'hasnt': 2044, 'intended': 2315, 'respect': 3652, 'nick': 3012, 'months': 2897, 'army': 295, 'yeah': 4977, 'sadistic': 3768, 'moronic': 2907, 'animals': 240, 'phone': 3255, 'freak': 1824, 'type': 4621, 'lived': 2626, 'idiotic': 2219, 'incompetent': 2266, 'direction': 1261, 'wood': 4933, 'georges': 1894, 'fit': 1740, 'week': 4837, 'reasons': 3560, 'loses': 2657, 'daughters': 1122, 'arrives': 302, 'weekend': 4838, 'businessman': 634, 'rules': 3754, 'crisis': 1060, 'reaches': 3538, 'definite': 1161, 'results': 3662, 'gradually': 1952, 'needs': 2990, 'identity': 2217, 'access': 83, 'view': 4736, 'friendship': 1838, 'warmth': 4796, 'avoid': 363, 'failing': 1627, 'helps': 2082, 'recognition': 3568, 'admit': 122, 'nonetheless': 3029, 'reach': 3536, 'watches': 4814, 'lying': 2690, 'destroyed': 1214, 'opposite': 3123, 'commit': 904, 'waiting': 4772, 'lights': 2597, 'describes': 1196, 'unfortunately': 4654, 'failure': 1629, 'necessarily': 2983, 'impossible': 2249, 'goal': 1925, 'requires': 3642, 'huge': 2185, 'catholic': 720, 'church': 813, 'ireland': 2352, 'rank': 3518, 'wisdom': 4902, 'ignorant': 2223, 'offered': 3088, 'irish': 2353, 'village': 4743, 'sean': 3840, 'happily': 2030, 'raised': 3508, 'desire': 1205, 'older': 3101, 'local': 2634, 'sin': 3988, 'against': 147, 'area': 286, 'brady': 561, 'extremely': 1610, 'powerful': 3360, 'drawn': 1351, 'loves': 2674, 'equal': 1509, 'portrait': 3339, 'influence': 2286, 'fiction': 1702, 'true': 4596, 'changes': 751, 'horrific': 2166, 'negative': 2991, 'religious': 3608, 'fellow': 1691, 'rights': 3697, 'education': 1424, 'buildings': 616, 'humans': 2190, 'ability': 65, 'force': 1786, 'black': 493, 'land': 2511, 'capturing': 679, 'jaw': 2384, 'dropping': 1371, 'commentary': 899, 'doctors': 1305, 'hollywood': 2137, 'corrupt': 1001, 'tedious': 4387, 'suspense': 4330, 'drags': 1345, 'distance': 1294, 'moral': 2902, 'message': 2819, 'nuclear': 3057, 'bomb': 531, 'caused': 724, 'sci': 3815, 'fi': 1701, 'slapstick': 4019, 'ultra': 4629, 'corny': 997, 'godzilla': 1929, 'transfer': 4559, 'video': 4733, 'sharp': 3922, 'sound': 4081, 'noise': 3024, 'subtitles': 4259, 'sounds': 4084, 'promise': 3430, 'record': 3573, 'support': 4303, 'embarrassing': 1454, 'storyline': 4208, 'throat': 4476, 'spell': 4104, 'lonely': 2643, 'surrounded': 4318, 'cheated': 775, 'inner': 2292, 'link': 2613, 'tough': 4537, 'orange': 3125, 'subtle': 4260, 'block': 508, 'ideas': 2215, 'disgusting': 1286, 'seat': 3845, 'van': 4713, 'behind': 447, 'treated': 4573, 'numerous': 3062, 'taking': 4352, 'toilet': 4512, 'humour': 2194, 'forgotten': 1797, 'locations': 2636, 'field': 1704, 'disappeared': 1271, 'added': 116, 'dire': 1257, 'rape': 3521, 'apart': 264, 'screaming': 3827, 'please': 3304, 'walking': 4779, 'ah': 158, 'wide': 4880, 'shut': 3961, 'arrived': 301, 'jazz': 2387, 'composed': 926, 'fifteen': 1706, 'tracks': 4545, 'besides': 468, 'delightful': 1168, 'dedicated': 1153, 'scores': 3823, 'notes': 3046, 'barry': 401, 'piano': 3264, 'emily': 1456, 'delivered': 1170, 'intimate': 2331, 'generous': 1886, 'bold': 528, 'understanding': 4645, '1996': 26, 'academy': 77, 'foreign': 1790, 'unsettling': 4679, 'conflicts': 940, 'subject': 4253, 'logic': 2638, 'chess': 783, 'beneath': 464, 'captures': 678, 'lake': 2509, 'italy': 2368, 'border': 539, 'pokemon': 3320, 'follow': 1772, 'entertain': 1497, 'dealing': 1136, 'rocket': 3721, 'provide': 3448, 'theyre': 4445, 'appear': 273, 'print': 3399, 'counter': 1011, 'roots': 3738, 'revolution': 3680, 'spin': 4112, 'focuses': 1768, 'revolutionary': 3681, 'nature': 2975, 'scientists': 3819, 'channel': 753, 'surfing': 4311, 'saturday': 3792, 'afternoon': 144, 'acted': 98, 'members': 2801, 'legendary': 2565, 'police': 3322, 'challenging': 744, 'portray': 3340, 'subtlety': 4261, 'brought': 600, 'board': 522, 'leads': 2548, 'wondered': 4927, 'lesbian': 2573, 'emotionally': 1460, 'target': 4366, 'soft': 4051, 'earth': 1403, 'handled': 2019, 'forgot': 1796, 'purchased': 3470, 'footage': 1782, 'interviews': 2330, 'brothers': 599, 'ryan': 3765, 'letters': 2582, 'fathers': 1667, 'henry': 2084, 'fool': 1779, 'fay': 1674, 'grim': 1974, 'thriller': 4472, 'succeeded': 4263, 'official': 3094, 'description': 1197, 'husbands': 2205, 'contains': 964, 'threat': 4467, 'national': 2970, 'structure': 4233, 'goofy': 1939, 'dialog': 1232, 'convoluted': 987, 'tone': 4517, 'mood': 2898, 'hang': 2022, 'eg': 1434, 'loose': 2650, 'ends': 1474, 'reached': 3537, 'parker': 3191, 'reduced': 3579, 'asked': 317, 'international': 2326, 'psychological': 3458, 'terrorists': 4414, 'jeff': 2390, 'uncomfortable': 4637, 'agents': 151, 'question': 3487, 'ages': 152, 'thomas': 4458, 'served': 3894, '70s': 56, 'teenager': 4390, 'problems': 3409, 'list': 2617, 'hundreds': 2196, 'loosely': 2651, 'poem': 3312, 'brilliantly': 584, 'stevens': 4183, 'cary': 706, 'grant': 1956, 'douglas': 1334, 'victor': 4731, 'sam': 3777, 'boss': 546, 'generation': 1883, 'soldiers': 4054, 'romantic': 3733, 'figures': 1713, 'reality': 3551, 'fond': 1776, 'walk': 4775, 'apes': 267, 'unit': 4663, 'lovely': 2671, 'joan': 2404, 'service': 3896, 'murderous': 2942, 'escapes': 1519, 'warn': 4797, 'buddy': 609, 'broad': 590, 'handsome': 2021, 'tense': 4403, 'thrilling': 4474, 'elephant': 1444, 'toward': 4539, 'gentle': 1890, 'brave': 567, 'smile': 4036, 'imagination': 2236, 'soul': 4079, 'ultimate': 4627, 'adventure': 130, 'massive': 2756, 'scope': 3821, 'recommended': 3572, 'marie': 2737, 'asleep': 320, 'important': 2247, 'latest': 2526, 'yesterday': 4983, 'chemistry': 782, 'six': 4010, 'prize': 3405, 'families': 1644, 'hitler': 2124, 'spoil': 4121, 'struggling': 4236, 'jumps': 2432, 'allow': 189, 'buffs': 612, 'corruption': 1002, 'places': 3284, 'annoyed': 248, 'performer': 3231, 'craft': 1028, 'winds': 4895, 'slave': 4022, 'tooth': 4524, 'manage': 2722, 'sentimental': 3882, '15': 7, 'involving': 2349, 'sadness': 3770, 'spending': 4106, 'code': 869, 'jungle': 2434, 'demons': 1178, 'teeth': 4393, 'test': 4416, 'fresh': 1833, 'rented': 3628, 'plus': 3311, 'christopher': 811, 'walken': 4777, 'curious': 1083, 'fx': 1858, 'cheesy': 781, 'mediocre': 2791, 'amusing': 221, 'produced': 3414, 'scary': 3807, 'nervous': 2999, 'recently': 3567, 'staying': 4168, 'believable': 453, 'manhattan': 2726, 'remains': 3611, 'belongs': 460, '20th': 38, 'non': 3027, 'unpredictable': 4675, 'beat': 423, 'surprisingly': 4316, 'famous': 1647, 'contract': 973, 'harder': 2035, 'overlooked': 3154, 'provided': 3449, 'suspend': 4329, 'eat': 1411, 'college': 875, 'creates': 1038, 'celebrity': 729, 'testament': 4417, 'appealing': 272, 'sounded': 4082, 'funeral': 1849, 'hearing': 2063, 'misery': 2865, 'hunt': 2198, 'fortunately': 1805, 'wished': 4905, 'gotten': 1947, 'hamlet': 2013, 'pacing': 3163, 'minimal': 2855, 'scenery': 3810, 'dubbed': 1379, '3000': 43, 'killers': 2471, 'criticism': 1063, 'media': 2789, 'vicious': 4728, 'innocent': 2294, 'portrays': 3344, 'engaging': 1481, 'presents': 3377, 'unpleasant': 4674, 'speaking': 4095, 'stereotype': 4178, 'indian': 2274, 'dude': 1381, 'chinese': 796, 'deserve': 1199, 'sexy': 3911, 'visuals': 4759, 'bound': 553, 'brutal': 603, 'ugly': 4625, 'compared': 912, 'specific': 4099, 'lies': 2591, 'reactions': 3542, 'inspiration': 2300, 'murders': 2943, 'horrendous': 2162, 'nowhere': 3056, 'persons': 3244, 'comment': 898, 'pat': 3208, 'program': 3424, 'definition': 1163, 'bible': 477, 'sends': 3876, 'road': 3709, 'edge': 1418, 'groups': 1981, 'attack': 337, 'romance': 3732, 'perspective': 3245, 'shelf': 3926, 'urban': 4688, 'odd': 3080, 'worlds': 4947, 'lover': 2672, 'mental': 2808, 'deal': 1135, 'library': 2589, 'patients': 3212, 'unintentionally': 4659, 'occasionally': 3075, 'window': 4894, 'analysis': 224, 'quickly': 3491, 'heaven': 2068, 'gang': 1867, 'plastic': 3294, 'spooky': 4128, 'forest': 1791, 'feed': 1683, 'souls': 4080, 'pan': 3180, 'occasional': 3074, 'moments': 2887, 'amateurish': 207, 'throw': 4479, 'loads': 2633, 'zombies': 4998, 'living': 2629, 'developed': 1223, 'neck': 2985, 'mom': 2885, 'helen': 2075, 'carrie': 697, 'anne': 246, 'ray': 3533, 'hire': 2116, 'tim': 4494, 'billy': 482, 'hates': 2048, 'bright': 581, 'colorful': 878, 'secrets': 3852, 'wear': 4830, 'settings': 3901, 'colors': 879, 'jokes': 2415, 'silly': 3976, 'tame': 4363, 'knew': 2486, 'documentary': 1307, 'landscapes': 2514, 'daily': 1097, 'doomed': 1327, 'lovers': 2673, 'uninspired': 4657, 'forth': 1804, 'unnecessary': 4672, 'richards': 3687, 'bear': 420, 'resemblance': 3645, 'bettie': 473, 'faithful': 1634, 'clothing': 861, 'color': 877, 'clearly': 840, 'communist': 907, 'attached': 336, 'genre': 1888, 'superb': 4296, 'editing': 1421, 'frequently': 1832, 'essence': 1521, 'follows': 1775, 'youth': 4994, 'variety': 4714, 'situations': 4009, '40': 48, '50': 51, 'productions': 3420, 'facing': 1620, 'superbly': 4297, 'brain': 562, 'affected': 137, 'card': 681, 'vs': 4767, 'matches': 2764, 'kane': 2442, 'ashley': 313, 'wrestling': 4966, 'excited': 1561, 'punk': 3468, 'hardy': 2037, 'kennedy': 2454, 'ring': 3698, 'bobby': 525, 'undoubtedly': 4648, 'prince': 3396, 'victoria': 4732, 'levels': 2585, 'understood': 4647, 'cost': 1003, 'anybody': 257, 'anywhere': 263, 'characterization': 759, 'blunt': 520, 'festival': 1697, 'hal': 2006, 'definitely': 1162, 'screening': 3830, 'smart': 4035, '2000': 30, 'visually': 4758, 'dutch': 1389, 'angle': 236, 'appearing': 277, 'available': 361, '2004': 34, '2005': 35, 'viewed': 4737, 'september': 3884, '2001': 31, 'mainstream': 2709, 'closely': 855, 'knowledge': 2491, 'vacation': 4704, 'florida': 1761, 'hotel': 2175, 'hart': 2041, 'length': 2569, 'drive': 1363, 'psychotic': 3459, 'jennifer': 2392, 'ex': 1549, 'con': 928, 'boyfriend': 558, 'karen': 2444, 'degree': 1164, 'twist': 4617, 'step': 4175, 'veteran': 4724, 'silence': 3974, 'breaking': 570, 'department': 1182, 'safety': 3772, 'claire': 831, 'danes': 1108, 'obsessed': 3069, 'aint': 163, 'desperate': 1208, 'methods': 2825, 'physical': 3262, 'actions': 101, 'bringing': 586, 'battles': 415, 'worried': 4949, 'responsible': 3656, 'whenever': 4863, 'limits': 2607, 'biggest': 480, 'push': 3477, 'destruction': 1216, 'dropped': 1370, 'rival': 3706, 'simpson': 3987, 'allowed': 190, 'moon': 2900, 'werewolf': 4850, 'bullet': 620, 'tony': 4521, 'travels': 4569, 'endless': 1473, 'hopefully': 2157, 'resembles': 3646, 'larry': 2520, 'flicks': 1755, 'gags': 1862, 'contain': 962, 'ed': 1415, 'reveals': 3673, 'class': 833, 'transformation': 4560, 'steals': 4172, 'kenneth': 2455, 'mars': 2746, 'mad': 2696, 'brand': 565, 'science': 3816, 'rolling': 3730, 'floor': 1759, 'homosexual': 2145, 'classic': 835, 'loaded': 2632, 'conservative': 948, 'joseph': 2419, 'photo': 3257, 'nail': 2957, 'eyed': 1612, 'elizabeth': 1445, 'attraction': 350, 'stealing': 4171, 'chief': 788, 'flynn': 1765, 'pal': 3177, 'pays': 3218, 'homage': 2141, 'jack': 2373, 'bite': 489, 'psycho': 3457, 'hits': 2125, 'notice': 3048, '50s': 52, 'catching': 716, 'hoped': 2156, 'extra': 1606, 'timothy': 4499, 'quotes': 3497, 'site': 4005, 'rated': 3527, 'danny': 1112, 'anderson': 227, 'leonard': 2572, 'empathy': 1462, 'dog': 1310, 'wasting': 4810, '90': 60, 'jeremy': 2394, 'games': 1865, 'literature': 2623, 'teacher': 4375, 'tragic': 4552, 'sea': 3838, 'consequences': 947, 'argument': 291, 'everywhere': 1545, 'sophisticated': 4075, 'personalities': 3241, 'bucks': 606, 'makers': 2715, 'fare': 1655, 'wouldnt': 4958, 'dare': 1113, 'skin': 4015, 'commercials': 903, 'cynical': 1093, 'holds': 2131, 'spoiled': 4122, 'americans': 214, 'bigger': 479, 'dollar': 1314, 'widow': 4883, 'opportunities': 3120, 'position': 3345, 'ad': 110, 'stewart': 4184, 'rip': 3700, 'appreciated': 280, 'seven': 3903, 'dollars': 1315, 'property': 3438, 'youd': 4987, 'miles': 2843, 'routine': 3743, 'ordinary': 3128, 'twelve': 4611, 'weeks': 4839, 'pay': 3216, 'naturally': 2974, 'solution': 4059, 'realizes': 3554, 'purely': 3472, 'storm': 4206, 'pleasant': 3302, 'folks': 1771, 'whatsoever': 4861, 'presentation': 3375, 'physically': 3263, 'pull': 3461, 'wooden': 4934, 'appreciate': 279, 'watchable': 4812, 'survived': 4322, 'stupidity': 4248, 'joined': 2413, 'midnight': 2834, 'popcorn': 3331, 'similar': 3978, 'per': 3223, 'blockbuster': 509, 'thrills': 4475, 'wanting': 4790, 'sunday': 4293, 'cliché': 844, 'pretend': 3381, 'favor': 1670, 'harris': 2038, 'presented': 3376, 'million': 2847, 'rate': 3526, 'don': 1320, 'australian': 357, 'court': 1020, 'martial': 2747, 'warriors': 4803, 'eighties': 1437, 'sticks': 4186, 'appeal': 271, 'anime': 243, 'golden': 1934, 'ticket': 4487, 'poetic': 3313, 'blade': 495, 'animation': 242, 'vivid': 4760, 'storytelling': 4209, 'childrens': 793, 'oz': 3160, 'stands': 4147, 'terms': 4406, 'pile': 3275, 'bull': 619, 'dimensional': 1253, 'exaggerated': 1552, 'couldve': 1009, 'hurts': 2203, 'candy': 668, 'grade': 1951, 'repeat': 3630, 'pointless': 3318, 'lower': 2677, 'plague': 3285, 'disappoint': 1272, 'bleak': 503, 'appalling': 268, 'clue': 864, 'bag': 384, 'bbc': 417, 'pace': 3161, 'cutting': 1092, 'dynamic': 1394, 'cry': 1073, 'valuable': 4708, 'eaten': 1412, 'deceased': 1146, 'rick': 3689, 'faith': 1633, 'suit': 4284, 'captain': 674, 'contrast': 975, 'source': 4086, 'ward': 4793, 'trouble': 4592, 'instant': 2305, 'diana': 1237, 'overacting': 3149, 'kate': 2446, 'subplot': 4255, 'carrey': 696, 'childish': 791, 'thin': 4449, 'deeper': 1155, 'drink': 1361, 'gary': 1873, 'hanks': 2025, 'trick': 4582, 'morgan': 2905, 'freeman': 1829, 'letter': 2581, 'boom': 537, 'wing': 4896, 'vietnam': 4735, 'resolution': 3649, 'certain': 737, 'parts': 3199, 'offensive': 3086, 'choices': 798, '45': 50, 'vision': 4754, 'heavy': 2070, 'price': 3389, 'cinematographer': 819, 'francis': 1818, 'glory': 1922, 'practice': 3363, 'hung': 2197, 'criminals': 1058, 'circle': 821, 'study': 4242, 'wind': 4893, 'opportunity': 3121, 'sell': 3871, 'intriguing': 2335, 'devils': 1229, 'laughably': 2531, 'filled': 1715, 'jonathan': 2417, 'buddies': 608, 'silver': 3977, 'demand': 1174, 'portraying': 3343, 'anger': 235, 'happiness': 2031, 'dalton': 1098, 'overly': 3155, 'semi': 3874, 'complicated': 925, 'complain': 919, 'confusing': 942, 'rocks': 3722, 'alex': 179, 'sent': 3880, 'portion': 3338, 'african': 142, 'authentic': 358, 'travel': 4567, 'subplots': 4256, 'treasure': 4571, 'hunting': 2201, 'combat': 882, 'brains': 563, 'chases': 771, 'babe': 375, 'corner': 996, 'apparent': 269, 'intrigued': 2334, 'wild': 4885, 'alice': 182, 'turkey': 4604, 'jerry': 2396, 'nightmare': 3014, 'installment': 2303, 'elm': 1447, 'tied': 4489, 'birthday': 487, 'sequels': 3886, 'below': 462, 'represents': 3639, 'maggie': 2702, 'aware': 368, 'resist': 3648, 'powers': 3361, 'memories': 2803, 'ironic': 2355, 'honest': 2146, 'concept': 930, 'ruined': 3751, 'master': 2757, 'nightmares': 3015, 'airplane': 166, 'plane': 3288, 'useful': 4694, 'hot': 2174, 'mentioned': 2811, 'context': 968, 'aforementioned': 139, 'angry': 238, 'speech': 4102, 'amateur': 206, 'fits': 1741, 'nicely': 3009, 'errors': 1516, 'bumbling': 622, 'refuses': 3587, 'olivier': 3103, 'alan': 171, 'literally': 2622, '75': 57, 'believing': 457, 'intentions': 2321, 'remind': 3618, 'prepared': 3371, 'cases': 708, 'sunshine': 4294, 'core': 995, 'shallow': 3917, 'equally': 1510, 'producer': 3415, 'exact': 1550, 'amongst': 218, 'synopsis': 4344, 'machine': 2693, 'figured': 1712, 'maria': 2736, 'michelle': 2830, 'nude': 3058, 'tears': 4380, 'cried': 1054, 'denzel': 1181, 'historically': 2120, 'worn': 4948, 'tape': 4365, 'jumped': 2430, 'ford': 1789, 'cute': 1090, 'hbo': 2055, 'advice': 133, 'cup': 1080, 'tea': 4373, 'surprises': 4314, 'mill': 2845, '14': 6, 'rage': 3505, 'cash': 709, 'notably': 3042, 'trailer': 4554, 'neil': 2995, 'theaters': 4428, 'blah': 496, 'bourne': 554, 'opened': 3113, 'forgive': 1795, 'quest': 3486, 'fallen': 1638, 'lively': 2627, 'imaginative': 2237, 'charming': 768, 'coherent': 871, 'bride': 577, 'earlier': 1399, 'taste': 4369, 'drivel': 1364, 'aimed': 162, 'pre': 3365, 'broke': 593, 'rule': 3753, 'attractive': 351, 'heres': 2087, '13': 4, 'holy': 2140, 'sudden': 4272, 'soap': 4047, 'conversation': 980, 'summary': 4290, 'europe': 1529, 'hip': 2114, 'slightly': 4029, 'countryside': 1015, 'astaire': 330, 'generated': 1882, 'manager': 2724, 'burns': 628, 'frustrated': 1842, 'pool': 3327, 'butler': 637, 'cousin': 1021, 'noble': 3021, 'mistaken': 2872, 'castle': 712, 'blonde': 511, 'vehicle': 4718, 'rogers': 3725, 'solo': 4058, 'secretary': 3850, 'solid': 4057, 'priceless': 3390, 'singers': 3994, 'dull': 1384, '1930s': 11, 'shop': 3945, 'gory': 1943, 'ridden': 3691, 'ruin': 3750, 'happening': 2028, 'aspects': 322, 'pathetic': 3210, 'lane': 2515, 'spends': 4107, 'dressed': 1358, 'lovable': 2668, 'duo': 1386, 'marks': 2742, 'cared': 685, 'flawless': 1751, 'authority': 360, 'signed': 3971, 'ned': 2986, 'mountain': 2917, 'cinemas': 817, 'emotions': 1461, 'passionate': 3206, 'charismatic': 763, 'interaction': 2322, 'wounded': 4961, 'magical': 2704, 'artist': 307, 'swedish': 4335, 'today': 4508, 'unrealistic': 4677, 'embarrassment': 1455, 'sword': 4340, 'involves': 2348, 'fourth': 1813, 'stronger': 4230, 'developing': 1224, 'terrorist': 4413, 'disturbed': 1299, 'sister': 4001, 'multiple': 2936, 'dub': 1378, 'ninja': 3018, 'worry': 4950, 'sloppy': 4030, 'cowboy': 1025, 'handle': 2018, 'bar': 396, 'gun': 1996, 'bore': 540, 'striking': 4226, 'fatal': 1664, 'likewise': 2603, 'dozen': 1338, 'suspects': 4328, 'island': 2361, 'term': 4405, 'commercial': 902, 'designed': 1203, 'designs': 1204, 'videos': 4734, 'bat': 410, 'generic': 1885, 'equipment': 1511, 'mini': 2854, 'screens': 3832, 'anyways': 262, 'destroy': 1213, 'north': 3036, 'creatures': 1046, 'universal': 4665, 'frame': 1815, 'jesse': 2397, 'relate': 3593, 'irritating': 2359, 'dialogues': 1235, 'uninteresting': 4660, 'remote': 3622, 'unbelievably': 4635, 'cube': 1076, 'trilogy': 4586, 'prequel': 3372, 'giant': 1905, 'prisoners': 3403, 'moore': 2901, 'agreed': 156, 'contained': 963, 'attempting': 342, 'answer': 251, 'merits': 2817, 'noir': 3023, 'matrix': 2767, 'qualities': 3483, 'fooled': 1780, 'alas': 172, 'finish': 1732, 'embarrassed': 1453, 'previous': 3387, 'consistently': 954, 'hadnt': 2004, 'animated': 241, 'presence': 3373, 'disturbing': 1300, 'bugs': 613, 'steal': 4170, 'mirror': 2861, 'easier': 1405, 'president': 3378, 'flying': 1764, 'jet': 2400, 'fighter': 1708, 'aliens': 184, '25': 40, 'seemingly': 3863, 'questionable': 3488, 'exist': 1569, 'research': 3644, 'iraq': 2351, 'dawn': 1127, 'considered': 951, 'fitting': 1742, 'briefly': 580, 'lust': 2689, 'mundane': 2938, 'crappy': 1032, 'artistic': 308, 'blue': 518, 'range': 3516, 'snake': 4042, 'pages': 3168, '1st': 28, '2nd': 41, 'dentist': 1180, 'centered': 733, 'madness': 2698, 'bone': 533, 'believes': 456, 'mans': 2730, 'gender': 1878, 'nuts': 3064, '17': 9, 'staged': 4140, 'dick': 1239, 'deliberately': 1166, 'elvis': 1451, 'starring': 4154, 'jason': 2383, 'alexander': 180, 'persona': 3239, 'allowing': 191, 'absence': 70, 'colour': 880, 'concerns': 934, 'ladies': 2506, 'ironically': 2356, 'mildred': 2841, 'fisher': 1739, 'round': 3742, 'funnier': 1850, 'risk': 3704, 'producing': 3417, 'ratings': 3530, '20': 29, 'fashioned': 1660, 'standard': 4144, 'quick': 3490, 'matters': 2770, 'attitudes': 347, 'atmosphere': 333, 'performs': 3234, 'infamous': 2284, 'hitting': 2126, 'unfortunate': 4653, 'surface': 4310, 'kung': 2498, 'fu': 1844, 'arts': 310, 'hysterical': 2208, 'repeated': 3631, 'viewings': 4741, 'hence': 2083, 'prime': 3395, 'notable': 3041, 'studios': 4241, 'west': 4852, 'masterpieces': 2760, 'titles': 4506, 'mob': 2879, 'beloved': 461, 'starred': 4153, 'sidney': 3968, 'enemies': 1476, 'scientific': 3817, 'secretly': 3851, 'experiments': 1584, 'countless': 1012, 'discovery': 1282, 'owner': 3159, 'explosions': 1597, 'creation': 1040, 'dirty': 1268, 'headed': 2058, 'sir': 4000, 'scale': 3802, 'humble': 2191, 'workers': 4943, 'union': 4661, 'existence': 1571, 'troubles': 4594, 'somebody': 4062, 'plight': 3308, 'progress': 3425, 'sake': 3775, 'struck': 4232, 'warner': 4799, 'talked': 4359, 'tradition': 4549, 'serve': 3893, 'eye': 1611, 'household': 2179, 'susan': 4326, 'financial': 1725, 'holes': 2133, 'heights': 2073, 'elderly': 1440, 'shoots': 3944, 'photographer': 3259, 'element': 1442, 'searching': 3842, 'topless': 4527, 'statement': 4162, 'beach': 419, 'picking': 3267, 'dig': 1250, 'buying': 641, 'hardcore': 2034, 'al': 170, 'charge': 761, 'polished': 3323, 'catchy': 717, 'tune': 4602, 'bob': 524, 'attracted': 349, 'explored': 1595, 'relatively': 3600, 'exploitation': 1592, 'dean': 1139, 'relation': 3595, 'category': 718, '12': 3, 'dry': 1377, 'horrid': 2165, 'bela': 450, 'lugosi': 2686, 'complaint': 920, 'mile': 2842, 'crying': 1074, 'outer': 3143, 'brian': 576, 'exposed': 1598, 'strength': 4219, 'feet': 1688, 'associated': 327, 'projects': 3428, 'dracula': 1341, 'sun': 4292, 'burning': 627, 'entry': 1504, 'symbolism': 4341, 'send': 3875, 'christ': 807, 'primary': 3394, 'furthermore': 1854, 'inappropriate': 2259, 'steel': 4173, 'depiction': 1185, 'hearted': 2065, 'wreck': 4965, 'wacky': 4769, 'theatrical': 4430, 'slightest': 4028, 'unbearable': 4633, 'travesty': 4570, 'batman': 413, '1960s': 15, 'reads': 3545, 'sees': 3866, 'kick': 2460, 'balls': 390, 'aka': 168, 'finest': 1730, 'returned': 3666, 'acid': 95, 'monk': 2889, 'carries': 699, 'outfit': 3144, 'hood': 2151, 'savage': 3793, 'inevitably': 2283, 'accents': 79, 'southern': 4088, '1933': 12, 'stanwyck': 4149, 'process': 3412, 'critics': 1064, '70': 55, 'atrocious': 335, 'lately': 2524, 'increasingly': 2268, 'jesus': 2399, 'mel': 2796, 'guessing': 1991, 'involved': 2346, 'dated': 1119, 'weight': 4840, 'philosophical': 3253, 'unoriginal': 4673, 'firstly': 1737, 'driving': 1368, 'temple': 4398, 'dancer': 1104, 'wicked': 4879, 'ie': 2221, 'handed': 2016, 'reaching': 3539, 'button': 639, 'integrity': 2311, 'america': 212, 'defined': 1160, 'slight': 4027, 'charles': 764, 'nonsensical': 3031, 'mixture': 2878, 'onto': 3111, 'awfully': 373, 'waves': 4819, 'redeeming': 3577, 'china': 795, 'unlikely': 4671, 'triumph': 4590, 'welcome': 4842, 'sarah': 3785, 'lacking': 2504, 'arrival': 299, 'segments': 3868, 'chick': 786, 'wanna': 4786, 'rushed': 3760, 'william': 4887, 'houses': 2180, 'newspaper': 3006, 'tree': 4576, 'overdone': 3152, 'stock': 4193, 'adorable': 124, 'winner': 4897, 'stiller': 4189, 'hated': 2047, 'contrived': 976, 'flow': 1762, 'distracting': 1297, 'hype': 2207, 'cg': 739, 'elsewhere': 1449, 'renting': 3629, 'brilliance': 582, 'finding': 1727, 'wit': 4908, 'ear': 1397, 'jewish': 2401, 'walter': 4784, 'matthau': 2771, 'image': 2233, 'vulnerable': 4768, 'scared': 3805, 'method': 2824, 'pure': 3471, 'delivery': 1173, 'agree': 155, 'nicholson': 3011, 'pacino': 3164, 'masterful': 2758, 'effective': 1429, 'downright': 1337, 'brad': 560, 'debut': 1143, 'stunning': 4244, 'proves': 3447, 'theory': 4437, 'grandmother': 1955, 'expressions': 1603, 'currently': 1085, 'twins': 4616, 'sappy': 3784, 'goodness': 1938, 'yelling': 4980, 'abysmal': 76, 'shed': 3924, 'existent': 1572, 'crimes': 1056, 'feelings': 1686, 'panic': 3181, 'terrifying': 4410, 'circumstances': 822, 'montana': 2895, 'river': 3707, 'narrator': 2967, 'minded': 2850, 'brother': 598, 'environment': 1505, 'surprising': 4315, 'flawed': 1750, 'blame': 499, 'miscast': 2862, 'lyrics': 2692, 'parallel': 3185, 'wondering': 4930, 'doc': 1303, 'gonna': 1936, 'gods': 1928, 'novels': 3053, 'flash': 1745, 'gordon': 1940, 'generations': 1884, 'charlie': 765, 'chan': 746, 'tarzan': 4367, 'buck': 605, 'lone': 2642, 'types': 4622, 'vengeance': 4719, 'teachers': 4376, 'banned': 395, 'teaching': 4377, 'pamela': 3179, 'nose': 3037, 'streisand': 4218, 'cagney': 646, 'friday': 1834, 'knock': 2488, 'pretending': 3382, 'weird': 4841, 'ruby': 3749, 'powell': 3358, 'speed': 4103, 'pack': 3165, 'month': 2896, 'repetitive': 3633, 'ruth': 3763, 'established': 1524, 'frequent': 1831, 'audiences': 353, 'share': 3920, 'suitable': 4285, 'nostalgic': 3039, '30s': 44, 'kurt': 2499, 'peoples': 3222, 'event': 1535, 'musicals': 2948, 'favorites': 1672, 'paris': 3189, 'leslie': 2574, 'sings': 3997, 'dennis': 1179, 'hopper': 2161, 'disjointed': 1287, 'stretch': 4221, 'pseudo': 3454, 'nonsense': 3030, 'attitude': 346, 'secondly': 3847, 'jail': 2376, 'suck': 4269, 'unusual': 4681, 'ps': 3453, 'voight': 4764, 'guilty': 1995, 'formulaic': 1803, '90s': 61, 'blend': 504, 'neo': 2998, 'relies': 3606, 'mask': 2752, 'mouth': 2920, 'students': 4239, 'professor': 3422, 'tap': 4364, 'surviving': 4323, 'quote': 3496, 'revealed': 3671, 'cuts': 1091, 'legend': 2564, 'mindless': 2851, 'helped': 2080, 'steven': 4182, 'thumbs': 4485, 'listening': 2620, 'unfolds': 4651, 'gangsters': 1869, 'whilst': 4869, 'twenty': 4612, 'spielberg': 4110, 'revolves': 3682, 'putting': 3482, 'false': 1641, 'bond': 532, 'memory': 2804, 'cinderella': 815, 'ridiculously': 3694, 'wall': 4781, 'creators': 1044, 'checking': 778, 'beer': 439, 'earl': 1398, 'borrowed': 545, 'rental': 3627, 'trailers': 4555, 'relative': 3599, 'perry': 3237, '40s': 49, 'contact': 961, 'blown': 516, 'experienced': 1581, 'depth': 1190, 'originality': 3130, 'guarantee': 1987, 'rescue': 3643, 'understandable': 4644, '16': 8, 'mainly': 2708, 'escaped': 1518, 'difference': 1246, 'views': 4742, 'disappear': 1270, 'trapped': 4564, 'cure': 1081, 'frightening': 1839, 'gross': 1978, 'details': 1219, 'split': 4120, 'vague': 4705, 'tricks': 4583, 'violent': 4748, 'walls': 4783, 'stranger': 4213, 'stylish': 4251, 'develop': 1222, 'eight': 1436, 'magnificent': 2705, 'vote': 4766, 'nine': 3017, 'brazil': 568, 'tomatoes': 4515, 'detective': 1220, 'kitchen': 2485, 'ourselves': 3140, 'progresses': 3426, 'instance': 2304, 'expert': 1585, 'smith': 4038, 'spoof': 4127, 'spanish': 4092, 'expensive': 1579, 'mysteries': 2954, 'curiosity': 1082, 'satisfied': 3789, 'essentially': 1523, 'respected': 3653, 'curtis': 1087, 'stood': 4199, 'hat': 2045, 'response': 3654, 'ships': 3935, 'officer': 3092, 'da': 1094, 'phantom': 3251, 'driver': 1366, 'visit': 4755, 'witnesses': 4916, 'accidentally': 85, 'closed': 854, 'murderer': 2941, 'intense': 2316, 'professional': 3421, 'shadows': 3913, 'shocked': 3939, 'chuck': 812, 'cartoons': 705, 'cartoon': 704, 'dinner': 1254, 'text': 4419, 'rabbit': 3498, 'sold': 4052, 'slick': 4026, '1990s': 25, '1970s': 17, 'bitter': 491, 'sweet': 4336, 'outrageous': 3145, 'contemporary': 965, 'continued': 970, 'cameo': 657, 'falk': 1636, 'system': 4345, 'receive': 3563, 'backdrop': 379, 'regarding': 3589, 'newly': 3004, 'enter': 1494, 'defense': 1159, 'trained': 4557, 'needless': 2989, 'streets': 4217, 'destiny': 1212, 'hong': 2149, 'kong': 2494, 'faster': 1662, 'amanda': 205, 'holly': 2136, 'ingredients': 2289, 'draw': 1349, 'unforgettable': 4652, 'winning': 4898, 'dogs': 1311, 'masters': 2761, 'matched': 2763, 'common': 906, 'heroes': 2089, 'potentially': 3356, 'detailed': 1218, 'transition': 4561, 'hollywoods': 2138, 'balance': 387, 'montage': 2894, 'bland': 500, 'clips': 852, 'woods': 4935, 'exists': 1573, 'godfather': 1927, 'turner': 4607, 'listen': 2619, 'arthur': 305, 'executive': 1567, 'sucks': 4271, 'sucked': 4270, 'jamie': 2379, 'divorce': 1301, 'julie': 2428, 'demands': 1175, 'kicked': 2461, 'trees': 4577, 'plan': 3287, 'meaningless': 2782, 'learning': 2552, 'account': 89, 'drinking': 1362, 'superior': 4300, 'everyday': 1541, 'lacks': 2505, 'jean': 2389, 'partly': 3197, 'distinct': 1296, 'focused': 1767, 'brief': 579, 'lesser': 2576, 'guns': 1998, 'achieved': 93, 'styles': 4250, 'photography': 3260, 'solely': 4056, 'elegant': 1441, 'factor': 1622, 'dramas': 1347, 'ensemble': 1492, 'gray': 1963, 'dear': 1140, 'bet': 470, 'handful': 2017, 'cops': 993, 'arrested': 298, 'hospital': 2172, 'suffering': 4277, 'ran': 3513, 'resident': 3647, 'weapon': 4828, 'suffer': 4275, '13th': 5, 'bears': 421, 'movements': 2924, 'icon': 2211, 'molly': 2884, 'st': 4137, 'andrews': 229, 'insane': 2296, 'threatening': 4468, 'sounding': 4083, 'sinister': 3998, 'hint': 2112, 'philip': 3252, 'passing': 3204, 'honesty': 2148, 'atmospheric': 334, 'bank': 394, 'subjects': 4254, 'spoke': 4125, 'spoken': 4126, 'mountains': 2918, 'elvira': 1450, 'mistress': 2874, 'campy': 664, 'sky': 4017, 'revealing': 3672, 'enormous': 1490, 'mass': 2753, 'screams': 3828, 'vhs': 4725, 'eager': 1396, 'awesome': 371, 'seek': 3858, 'reed': 3580, 'via': 4726, 'sleazy': 4023, 'trash': 4565, 'highest': 2102, 'brown': 601, 'obnoxious': 3067, 'doubt': 1332, 'leader': 2546, 'plans': 3292, 'anthony': 253, 'hunters': 2200, 'metal': 2823, 'finger': 1731, 'knife': 2487, 'trap': 4563, 'lemmon': 2567, 'bathroom': 412, 'march': 2734, 'terror': 4412, 'remaining': 3610, 'individuals': 2278, 'wallace': 4782, 'jackie': 2374, 'chorus': 803, 'nations': 2971, 'epic': 1506, 'horribly': 2164, 'lay': 2542, 'kidding': 2465, 'ripped': 3701, 'catch': 714, 'adapted': 114, 'underlying': 4641, 'protagonists': 3442, 'simplicity': 3984, 'troubled': 4593, 'abusive': 75, 'americas': 215, 'affect': 136, 'pretentious': 3383, 'create': 1036, 'superficial': 4298, 'burn': 625, 'aired': 165, 'hundred': 2195, 'advantage': 129, 'vampires': 4712, 'vampire': 4711, 'appropriate': 283, 'scarecrow': 3804, 'journey': 2421, 'philosophy': 3254, 'enterprise': 1495, 'drawing': 1350, 'prove': 3445, 'maker': 2714, 'western': 4853, 'choreographed': 801, 'chances': 748, 'breathtaking': 574, 'finale': 1723, 'shining': 3933, 'joey': 2408, 'andy': 230, 'gruesome': 1986, 'ease': 1404, 'motion': 2913, 'spirits': 4115, 'encounter': 1466, 'kiss': 2483, 'throwing': 4480, 'packed': 3166, 'ghosts': 1903, 'shocking': 3940, 'humanity': 2189, 'hoffman': 2128, 'armed': 293, 'empty': 1465, 'legs': 2566, 'invisible': 2344, 'extreme': 1609, 'involve': 2345, 'caine': 647, 'hitchcock': 2123, 'sisters': 4002, 'thrillers': 4473, 'scares': 3806, 'nasty': 2968, 'shirt': 3937, 'alien': 183, 'initial': 2290, 'raw': 3532, 'bin': 483, 'crash': 1033, 'touches': 4535, 'overrated': 3156, 'pursuit': 3476, 'strangers': 4214, 'glimpse': 1919, 'gift': 1906, 'changing': 752, 'hanging': 2023, 'folk': 1770, 'medical': 2790, 'patient': 3211, 'coach': 868, 'stellar': 4174, 'pitch': 3279, 'shy': 3962, 'belief': 451, 'pie': 3271, 'dawson': 1128, 'lengthy': 2570, 'introduction': 2339, 'interview': 2329, 'innovative': 2295, 'relevant': 3604, 'emphasis': 1463, 'showcase': 3954, 'idiots': 2220, 'donald': 1321, 'marry': 2745, 'comfortable': 892, 'nicholas': 3010, 'eerie': 1427, 'backgrounds': 381, 'sing': 3992, 'wilson': 4891, 'fascinating': 1658, 'widely': 4881, 'news': 3005, 'cameras': 660, 'challenge': 743, 'trial': 4580, 'involvement': 2347, 'exposure': 1599, 'sorts': 4078, '1983': 22, '24': 39, 'manipulative': 2727, 'heroine': 2091, 'dislike': 1288, 'saves': 3796, 'spite': 4117, 'raymond': 3534, 'frank': 1821, 'flop': 1760, 'burton': 630, 'promising': 3433, 'pulled': 3462, 'cats': 721, 'gothic': 1945, 'arnold': 296, 'millions': 2848, 'host': 2173, 'suited': 4286, 'enters': 1496, 'kapoor': 2443, 'adams': 112, 'hooked': 2153, 'displays': 1293, 'doubts': 1333, 'shake': 3914, 'insight': 2298, 'domestic': 1318, 'locked': 2637, 'endure': 1475, 'grab': 1949, 'green': 1971, 'enjoys': 1489, 'harsh': 2040, 'downhill': 1336, 'jake': 2377, 'keeps': 2451, 'honor': 2150, 'justify': 2439, 'stolen': 4195, 'selling': 3873, 'mail': 2706, 'marvelous': 2750, 'classics': 837, 'mrs': 2930, 'assigned': 325, 'seeks': 3860, 'higher': 2101, 'builds': 617, '18': 10, 'christmas': 810, 'gripping': 1976, 'warrior': 4802, 'majority': 2712, 'graphics': 1959, 'extended': 1604, 'revelation': 3674, 'decades': 1145, 'basis': 408, 'twin': 4615, 'pilot': 3276, 'mere': 2814, 'display': 1291, 'cliff': 847, 'stress': 4220, 'press': 3379, 'object': 3066, 'flight': 1757, 'returning': 3667, 'command': 897, 'comparing': 913, 'purposes': 3475, 'obscure': 3068, 'covered': 1023, 'recording': 3575, 'fancy': 1649, 'documentaries': 1306, 'techniques': 4384, 'landscape': 2513, 'wrapped': 4964, 'shoes': 3941, 'chooses': 800, 'path': 3209, 'stereotypes': 4179, 'concerned': 932, 'understated': 4646, 'existed': 1570, 'serious': 3891, 'poetry': 3314, 'junior': 2435, 'boxing': 556, 'random': 3514, 'ought': 3138, 'hippie': 2115, 'taylor': 4372, 'assault': 324, '1968': 16, 'unfunny': 4655, 'rendition': 3625, 'cd': 728, 'flies': 1756, 'sixties': 4011, 'louise': 2666, 'brooks': 596, 'rising': 3703, 'contest': 967, 'mate': 2765, 'filming': 1718, 'traveling': 4568, 'heavily': 2069, 'remarkably': 3614, 'complexity': 924, 'mario': 2738, 'ann': 244, 'dorothy': 1330, 'glorious': 1921, 'smiling': 4037, 'johnson': 2411, 'recorded': 3574, 'mgm': 2828, 'suggested': 4281, '2007': 37, 'dinosaurs': 1256, 'matthew': 2772, 'hollow': 2135, 'alright': 198, 'sutherland': 4333, 'calling': 653, 'awkward': 374, 'angles': 237, 'le': 2544, 'glenn': 1918, 'racist': 3503, 'imagery': 2234, 'bakshi': 386, 'grew': 1972, 'extras': 1608, 'purchase': 3469, 'walker': 4778, 'equivalent': 1512, 'rotten': 3740, 'arms': 294, 'felix': 1689, 'inept': 2281, 'serving': 3897, 'cheese': 780, 'table': 4346, 'altogether': 202, 'evening': 1534, 'condition': 937, 'occurs': 3078, 'caliber': 649, 'unseen': 4678, 'splendid': 4119, 'animal': 239, 'crocodile': 1065, 'dinosaur': 1255, 'cliche': 843, 'drunken': 1376, 'thick': 4447, 'drugs': 1374, 'ass': 323, 'market': 2740, 'inducing': 2279, 'washington': 4806, 'investigation': 2343, 'thief': 4448, 'competent': 917, 'co': 867, 'ruthless': 3764, 'spike': 4111, 'creating': 1039, 'received': 3564, 'league': 2549, 'devoid': 1230, 'hole': 2132, 'guessed': 1990, 'behave': 445, 'greedy': 1969, 'clichés': 846, 'included': 2262, 'ya': 4976, 'dvds': 1392, 'factory': 1623, 'reynolds': 3684, 'dances': 1106, 'urge': 4689, 'colonel': 876, 'hall': 2009, 'et': 1526, 'darker': 1116, 'warming': 4795, 'max': 2774, 'guide': 1993, 'gold': 1932, 'mitchell': 2875, 'afford': 138, 'movement': 2923, 'misses': 2868, 'ape': 266, 'twilight': 4614, 'zone': 4999, 'chased': 770, 'carter': 703, 'juvenile': 2441, 'fascinated': 1657, 'april': 284, 'kissing': 2484, 'lion': 2614, 'comical': 894, 'robbins': 3712, 'pearl': 3220, 'size': 4012, 'burned': 626, 'admire': 121, 'bands': 392, 'devil': 1228, 'album': 175, 'descent': 1193, 'ignored': 2225, 'discussion': 1284, 'provides': 3450, 'represented': 3638, 'teach': 4374, 'critic': 1061, 'depicts': 1186, 'trail': 4553, 'soviet': 4089, 'trek': 4578, 'bargain': 400, 'flesh': 1753, 'crush': 1072, 'scare': 3803, 'hed': 2072, 'kings': 2481, 'thru': 4483, 'wannabe': 4787, 'fed': 1682, 'taught': 4370, 'models': 2881, 'blows': 517, 'holmes': 2139, 'hudson': 2184, 'notch': 3043, 'alongside': 196, 'clumsy': 866, 'forty': 1807, 'kingdom': 2480, 'tracy': 4546, 'taxi': 4371, 'clint': 850, 'building': 615, 'mighty': 2836, 'pg': 3250, 'chapter': 757, 'raise': 3507, 'answers': 252, 'shall': 3916, 'popularity': 3334, 'pulling': 3463, 'limited': 2606, 'engage': 1479, 'acceptable': 81, 'arrogant': 303, 'tie': 4488, 'importantly': 2248, 'essential': 1522, 'cardboard': 682, 'mixed': 2877, 'attorney': 348, 'alcohol': 176, 'arm': 292, 'described': 1195, 'domino': 1319, 'bus': 631, 'mafia': 2700, 'unconvincing': 4638, 'idiot': 2218, 'scottish': 3825, 'ice': 2210, 'photos': 3261, 'reflection': 3585, 'mentally': 2809, 'jon': 2416, 'wet': 4855, 'providing': 3451, 'hunter': 2199, 'mildly': 2840, 'fill': 1714, 'virgin': 4749, 'comedian': 887, 'brando': 566, 'imagined': 2239, 'martin': 2748, 'guest': 1992, 'opinions': 3119, 'sacrifice': 3766, 'che': 773, 'los': 2653, 'angeles': 233, 'pushed': 3478, 'daring': 1114, 'bush': 632, 'christians': 809, 'precious': 3366, 'whereas': 4865, 'elaborate': 1439, '1973': 19, 'appreciation': 281, 'tunes': 4603, 'construction': 960, 'heat': 2067, 'attacks': 339, 'radio': 3504, 'produce': 3413, 'stanley': 4148, 'un': 4630, 'online': 3109, 'mature': 2773, 'kudos': 2497, 'abc': 63, 'thoughtful': 4463, 'gain': 1863, 'donna': 1323, 'staff': 4138, 'trademark': 4548, 'ritter': 3705, 'successfully': 4267, 'improved': 2255, 'disneys': 1290, 'relatives': 3601, 'ho': 2127, 'rap': 3520, 'rambo': 3511, 'horses': 2171, 'harvey': 2042, 'scooby': 3820, 'doo': 1325, 'afterwards': 145, 'witnessed': 4915, 'insulting': 2310, 'luckily': 2682, 'kay': 2447, 'cox': 1026, 'profound': 3423, 'greatly': 1967, 'skip': 4016, 'segment': 3867, 'offering': 3089, 'preview': 3386, 'namely': 2962, 'psychic': 3456, 'cards': 683, 'connected': 945, 'walks': 4780, 'university': 4667, 'nights': 3016, 'desperately': 1209, 'overwhelming': 3157, 'intensity': 2317, 'claimed': 829, 'educational': 1425, 'realizing': 3555, 'suffered': 4276, 'exercise': 1568, 'notorious': 3051, 'territory': 4411, 'patrick': 3213, 'kicks': 2463, 'ideal': 2214, 'dust': 1388, 'riveting': 3708, 'murphy': 2944, 'loyal': 2679, 'thoughts': 4464, 'wore': 4939, 'contrary': 974, 'mechanical': 2788, 'abraham': 69, 'morality': 2903, 'akshay': 169, 'extent': 1605, 'senseless': 3878, 'expressed': 1601, 'repeatedly': 3632, 'machines': 2694, 'sexuality': 3909, 'creative': 1041, 'ship': 3934, 'guard': 1988, 'derek': 1192, 'doom': 1326, 'tribute': 4581, 'johnny': 2410, 'corpse': 999, 'turning': 4608, 'endings': 1472, 'titanic': 4503, 'warm': 4794, 'sally': 3776, 'sue': 4274, 'perfection': 3225, 'underground': 4640, 'prisoner': 3402, 'forces': 1788, 'beliefs': 452, 'editor': 1423, 'explicit': 1591, 'isolated': 2363, 'measure': 2786, 'drops': 1372, 'kidnapped': 2466, 'plant': 3293, 'importance': 2246, 'helicopter': 2076, 'report': 3635, 'fortune': 1806, 'pair': 3176, 'worker': 4942, 'tender': 4401, 'motivation': 2914, 'smoke': 4039, 'bullets': 621, 'alike': 185, 'wake': 4774, 'regardless': 3590, 'highlight': 2103, 'determined': 1221, 'pitt': 3280, 'columbo': 881, 'directorial': 1265, 'benefit': 465, 'scripted': 3835, 'individual': 2277, 'marketing': 2741, 'mexico': 2827, 'birds': 485, 'diamond': 1236, 'center': 732, 'grinch': 1975, 'mike': 2838, 'myers': 2952, 'quit': 3494, 'miserably': 2864, 'glover': 1923, 'sport': 4129, 'scripts': 3836, 'jealous': 2388, 'inventive': 2341, 'tiresome': 4502, 'neighborhood': 2993, 'fever': 1699, 'lees': 2560, 'theyll': 4444, 'dragon': 1344, 'cleverly': 842, 'blacks': 494, 'identify': 2216, 'wives': 4918, 'timing': 4498, 'cave': 727, 'pushing': 3479, 'bell': 458, 'ball': 388, 'santa': 3783, 'proceeds': 3411, 'howard': 2182, 'lynch': 2691, 'laura': 2536, 'spiritual': 4116, 'shakespeare': 3915, 'awe': 370, 'inspiring': 2302, 'instantly': 2306, 'mansion': 2731, 'credible': 1048, 'pink': 3277, 'vegas': 4717, 'tight': 4492, 'jessica': 2398, 'anna': 245, 'shelley': 3928, 'wound': 4960, 'solve': 4060, 'masses': 2755, 'enthusiasm': 1501, 'accomplished': 87, 'experiences': 1582, 'displayed': 1292, 'stilted': 4190, 'der': 1191, 'concert': 935, 'bridge': 578, 'wolf': 4920, 'enjoyment': 1488, 'poster': 3353, 'stunts': 4246, 'strip': 4228, 'iii': 2227, 'porno': 3337, 'raped': 3522, 'rats': 3531, 'spectacular': 4101, 'minor': 2857, 'considerable': 950, 'june': 2433, 'wells': 4845, 'wandering': 4785, 'sink': 3999, 'awake': 365, 'discuss': 1283, 'sympathetic': 4342, 'lacked': 2503, 'exploration': 1593, 'surrounding': 4319, 'subsequent': 4257, 'feminist': 1695, 'accompanied': 86, 'imitation': 2241, 'vaguely': 4706, 'lessons': 2578, 'tales': 4357, 'oddly': 3081, 'rooms': 3736, 'iran': 2350, 'classical': 836, 'exotic': 1574, 'chicago': 785, 'ha': 2002, 'lab': 2501, 'gritty': 1977, 'suffice': 4279, 'sitcom': 4004, 'stan': 4142, 'react': 3540, 'ears': 1402, 'doors': 1329, 'confidence': 938, 'brutally': 604, 'stated': 4161, 'lousy': 2667, 'del': 1165, 'jaws': 2385, 'norman': 3035, 'citizen': 824, 'friendly': 1836, 'bird': 484, 'wave': 4818, 'regret': 3591, 'tag': 4348, 'championship': 745, 'abilities': 64, 'larger': 2519, 'ham': 2011, 'germans': 1897, 'comparison': 914, 'samurai': 3779, 'sellers': 3872, 'tons': 4520, 'reel': 3581, 'females': 1694, 'amounts': 220, 'satan': 3787, 'talks': 4361, 'hyde': 2206, 'user': 4696, 'beats': 426, 'robbery': 3711, 'westerns': 4854, 'pops': 3332, 'motives': 2916, 'ted': 4386, 'celluloid': 731, 'losers': 2656, 'doll': 1313, 'thirty': 4456, 'rubber': 3747, 'wed': 4835, 'navy': 2976, 'cruel': 1070, 'properly': 3437, 'cameron': 661, 'wealth': 4826, 'boat': 523, 'inferior': 2285, 'eva': 1531, 'monkey': 2890, 'eric': 1514, '3rd': 47, 'base': 402, 'signs': 3973, 'tommy': 4516, 'accepted': 82, 'explaining': 1588, 'audio': 354, 'macy': 2695, 'shine': 3931, 'illogical': 2231, 'sandler': 3781, '2006': 36, 'pleased': 3305, 'purple': 3473, 'iron': 2354, 'pleasantly': 3303, 'von': 4765, 'morris': 2908, 'parent': 3187, 'eastwood': 1409, 'causing': 726, 'occurred': 3077, 'showdown': 3955, 'beating': 425, 'punch': 3466, 'menacing': 2807, 'smaller': 4034, 'miller': 2846, 'brenda': 575, 'virginia': 4750, 'swimming': 4338, 'forbidden': 1785, 'edition': 1422, 'pig': 3274, 'oil': 3097, 'adventures': 131, 'similarly': 3980, 'junk': 2436, '1980s': 21, 'depressing': 1188, 'sandra': 3782, 'paranoia': 3186, 'gabriel': 1859, 'nurse': 3063, 'aids': 161, 'seed': 3856, 'pot': 3354, 'extraordinary': 1607, 'broadway': 592, 'swim': 4337, 'holding': 2130, 'carrying': 701, 'investigate': 2342, 'receives': 3565, 'rural': 3758, 'includes': 2263, 'admittedly': 123, 'weakest': 4825, 'shortly': 3947, 'roman': 3731, 'dubbing': 1380, 'assistant': 326, 'eve': 1532, 'halfway': 2008, 'topic': 4526, 'holiday': 2134, 'stargate': 4151, 'suits': 4287, 'fame': 1642, 'capital': 673, 'fears': 1677, 'voiced': 4762, 'notion': 3050, 'artificial': 306, 'amy': 222, 'fonda': 1777, 'weapons': 4829, 'ensues': 1493, 'cabin': 643, 'improve': 2254, 'strongly': 4231, 'selfish': 3870, 'australia': 356, 'blob': 507, 'shadow': 3912, 'crack': 1027, 'trio': 4587, 'thousand': 4465, 'conspiracy': 956, 'ethan': 1528, '2002': 32, 'uwe': 4703, 'boll': 529, 'multi': 2935, 'dolph': 1317, 'defend': 1158, 'lawrence': 2539, 'strangely': 4212, 'rush': 3759, 'seventies': 3904, 'highlights': 2104, 'proceedings': 3410, 'carradine': 695, 'closing': 859, 'stinks': 4192, 'nevertheless': 3002, 'mentioning': 2812, 'bothered': 549, 'witches': 4910, 'royal': 3746, 'introduce': 2336, 'tad': 4347, 'intentionally': 2320, 'recognize': 3569, 'distant': 1295, 'miserable': 2863, 'offended': 3085, 'walked': 4776, 'spoiler': 4123, 'perform': 3227, 'proved': 3446, 'convincingly': 986, 'laughter': 2535, 'laws': 2540, 'captivating': 675, 'daddy': 1096, 'phony': 3256, 'lawyer': 2541, 'carl': 692, 'russell': 3761, 'alternate': 200, 'melodramatic': 2798, 'creativity': 1042, 'floating': 1758, 'stereotypical': 4180, 'womans': 4922, 'tall': 4362, 'advise': 134, 'significant': 3972, 'closet': 858, 'represent': 3637, 'hiding': 2099, 'mann': 2728, 'arrive': 300, 'winters': 4901, 'dreary': 1356, 'dressing': 1359, 'effectively': 1430, 'seeking': 3859, 'waitress': 4773, 'hook': 2152, 'laid': 2508, 'controversial': 978, 'antics': 255, 'waters': 4817, 'load': 2631, 'mtv': 2933, 'dozens': 1339, 'implausible': 2245, 'yellow': 4981, 'lena': 2568, 'arguably': 289, 'boredom': 542, 'buff': 611, 'chair': 742, 'alert': 178, 'countries': 1013, 'smoking': 4040, 'rain': 3506, 'burt': 629, 'brooklyn': 595, 'choreography': 802, 'edgar': 1417, 'satisfy': 3790, 'waited': 4771, 'melting': 2799, 'nelson': 2997, 'wes': 4851, 'minimum': 2856, 'vast': 4716, 'bonus': 534, 'reflect': 3584, 'directions': 1262, 'cruise': 1071, 'greed': 1968, 'relations': 3596, 'truck': 4595, 'grasp': 1960, 'excessive': 1560, 'andrew': 228, 'racial': 3501, 'paltrow': 3178, 'grey': 1973, 'sentence': 3881, 'clip': 851, 'overlook': 3153, 'scrooge': 3837, 'carol': 693, 'robinson': 3716, 'painted': 3174, 'typically': 4624, 'forms': 1801, 'grandfather': 1954, 'welles': 4844, 'dave': 1123, 'hideous': 2098, 'charlotte': 766, 'commented': 900, 'slaughter': 4021, 'swear': 4334, 'jerk': 2395, 'hatred': 2049, 'hopeless': 2158, 'fury': 1855, 'alfred': 181, 'stole': 4194, 'homeless': 2143, 'disaster': 1276, 'blew': 505, 'sneak': 4043, 'nyc': 3065, 'chaos': 755, 'advance': 127, 'illegal': 2229, 'bottle': 550, 'wayne': 4821, 'deaf': 1134, 'richardson': 3688, 'retarded': 3663, 'parties': 3196, 'improvement': 2256, 'orson': 3132, 'titled': 4505, 'cannibal': 669, 'omen': 3104, 'invasion': 2340, 'butt': 638, 'buried': 624, 'blatant': 502, 'plausible': 3295, 'blake': 498, 'gadget': 1860, 'staring': 4152, 'spain': 4091, 'womens': 4924, 'peters': 3248, 'suspicious': 4332, 'nomination': 3026, 'ralph': 3510, 'species': 4098, 'riding': 3695, '3d': 46, 'reasonably': 3559, 'delivering': 1171, 'tortured': 4530, 'streep': 4215, 'superhero': 4299, 'conceived': 929, 'branagh': 564, 'madonna': 2699, 'warren': 4801, 'beatty': 427, 'hank': 2024, 'despair': 1207, 'amitabh': 216, 'aging': 153, 'greek': 1970, 'marty': 2749, 'creep': 1051, 'defeat': 1157, 'calm': 655, 'linda': 2609, 'stomach': 4196, 'angela': 232, 'journalist': 2420, 'areas': 287, 'pit': 3278, 'damon': 1101, 'dolls': 1316, 'simmons': 3981, 'sinatra': 3989, 'wwii': 4975, 'dialogs': 1233, 'garden': 1872, 'valley': 4707, 'possibility': 3349, 'depicting': 1184, 'duty': 1390, 'em': 1452, 'settle': 3902, 'lie': 2590, 'lumet': 2688, 'retired': 3664, 'resources': 3651, 'exceptionally': 1559, 'nominated': 3025, 'stones': 4198, 'trashy': 4566, 'coffee': 870, 'map': 2733, 'basketball': 409, 'virus': 4752, 'fulci': 1845, 'companion': 909, 'wishing': 4907, 'shirley': 3936, 'uneven': 4649, 'ballet': 389, 'frankenstein': 1822, 'soccer': 4048, 'restored': 3659, 'strikes': 4225, 'laurel': 2537, 'muslim': 2949, 'vice': 4727, 'heston': 2094, '1940s': 13, 'craven': 1034, 'officers': 3093, '1999': 27, 'planned': 3290, 'resort': 3650, 'corporate': 998, 'clues': 865, 'brosnan': 597, 'bo': 521, 'assumed': 329, 'breasts': 572, 'latin': 2527, '1972': 18, 'fetched': 1698, '1984': 23, 'advertising': 132, 'frustration': 1843, 'concerning': 933, 'todd': 4510, 'karloff': 2445, 'whale': 4857, 'concern': 931, 'kubrick': 2496, 'giallo': 1904, 'homer': 2144, 'carefully': 689, 'irrelevant': 2358, 'miike': 2837, 'copies': 992, 'kicking': 2462, 'survivor': 4324, 'combine': 884, 'franco': 1820, 'mall': 2720, 'niro': 3019, 'severe': 3906, 'polanski': 3321, 'li': 2587, 'decisions': 1152, 'introduces': 2338, 'chaplin': 756, 'distribution': 1298, 'farce': 1654, 'damage': 1099, 'splatter': 4118, 'chicks': 787, 'modesty': 2883, 'operation': 3117, 'rex': 3683, 'faults': 1669, 'museum': 2945, 'wrap': 4963, 'impress': 2250, 'stretched': 4222, 'rocky': 3723, 'pulp': 3465, 'snl': 4044, 'rat': 3525, 'ramones': 3512, 'square': 4136, 'lincoln': 2608, 'garbo': 1871, 'spider': 4109, 'odds': 3082, 'edie': 1419, 'cuba': 1075, 'lloyd': 2630, 'saga': 3773, 'baseball': 403, 'possibilities': 3348, 'kirk': 2482, 'web': 4833, 'atlantis': 332, 'conversations': 981, 'stooges': 4200, 'davies': 1125, 'global': 1920, 'bacall': 377, 'hints': 2113, 'hop': 2154, 'tiger': 4491, 'rochester': 3719, 'eyre': 1614, 'airport': 167, 'seagal': 3839, 'gundam': 1997}\n"
     ]
    }
   ],
   "source": [
    "print(str(vocabulary))"
   ]
  },
  {
   "cell_type": "markdown",
   "metadata": {},
   "source": [
    "Once you have added the endpoint name to the Lambda function, click on **Save**. Your Lambda function is now up and running. Next we need to create a way for our web app to execute the Lambda function."
   ]
  },
  {
   "cell_type": "markdown",
   "metadata": {},
   "source": [
    "### Setting up API Gateway\n",
    "\n",
    "Now that our Lambda function is set up, it is time to create a new API using API Gateway that will trigger the Lambda function we have just created.\n",
    "\n",
    "- Using AWS Console, navigate to **Amazon API Gateway** and then click on **Get started**.\n",
    "\n",
    "- On the next page, make sure that **New API** is selected and give the new api a name, for example, `sentiment_analysis_web_app`. Then, click on **Create API**.\n",
    "\n",
    "Now we have created an API, however it doesn't currently do anything. What we want it to do is to trigger the Lambda function that we created earlier.\n",
    "\n",
    "- Select the **Actions** dropdown menu and click **Create Method**. A new blank method will be created, select its dropdown menu and select **POST**, then click on the check mark beside it.\n",
    "\n",
    "- For the integration point, make sure that **Lambda Function** is selected and click on the **Use Lambda Proxy integration**. This option makes sure that the data that is sent to the API is then sent directly to the Lambda function with no processing. It also means that the return value must be a proper response object as it will also not be processed by API Gateway.\n",
    "\n",
    "- Type the name of the Lambda function you created earlier into the **Lambda Function** text entry box and then click on **Save**. Click on **OK** in the pop-up box that then appears, giving permission to API Gateway to invoke the Lambda function you created.\n",
    "\n",
    "- Select the **Actions** dropdown and click on **Deploy API**. You will need to create a new Deployment stage and name it anything you like, for example `prod`.\n",
    "\n",
    "You have now successfully set up a public API to access your SageMaker model. Make sure to copy or write down the URL provided to invoke your newly created public API as this will be needed in the next step. This URL can be found at the top of the page, highlighted in blue next to the text **Invoke URL**."
   ]
  },
  {
   "cell_type": "markdown",
   "metadata": {},
   "source": [
    "## Step 7: Deploying our web app\n",
    "\n",
    "Now that we have a publicly available API, we can start using it in a web app. For our purposes, we have provided a simple static html file which can make use of the public api you created earlier.\n",
    "\n",
    "In the `website` folder there should be a file called `index.html`. Download the file to your computer and open that file up in a text editor of your choice. There should be a line which contains **\\*\\*REPLACE WITH PUBLIC API URL\\*\\***. Replace this string with the url that you wrote down in the last step and then save the file.\n",
    "\n",
    "Now, if you open `index.html` on your local computer, your browser will behave as a local web server and you can use the provided site to interact with your SageMaker model.\n",
    "\n",
    "If you'd like to go further, you can host this html file anywhere you'd like, for example using github or hosting a static site on Amazon's S3. Once you have done this you can share the link with anyone you'd like and have them play with it too!\n",
    "\n",
    "> **Important Note** In order for the web app to communicate with the SageMaker endpoint, the endpoint has to actually be deployed and running. This means that you are paying for it. Make sure that the endpoint is running when you want to use the web app but that you shut it down when you don't need it, otherwise you will end up with a surprisingly large AWS bill."
   ]
  },
  {
   "cell_type": "markdown",
   "metadata": {},
   "source": [
    "### Delete the endpoint\n",
    "\n",
    "Remember to always shut down your endpoint if you are no longer using it. You are charged for the length of time that the endpoint is running so if you forget and leave it on you could end up with an unexpectedly large bill."
   ]
  },
  {
   "cell_type": "code",
   "execution_count": 56,
   "metadata": {},
   "outputs": [],
   "source": [
    "xgb_predictor.delete_endpoint()"
   ]
  },
  {
   "cell_type": "markdown",
   "metadata": {},
   "source": [
    "## Optional: Clean up\n",
    "\n",
    "The default notebook instance on SageMaker doesn't have a lot of excess disk space available. As you continue to complete and execute notebooks you will eventually fill up this disk space, leading to errors which can be difficult to diagnose. Once you are completely finished using a notebook it is a good idea to remove the files that you created along the way. Of course, you can do this from the terminal or from the notebook hub if you would like. The cell below contains some commands to clean up the created files from within the notebook."
   ]
  },
  {
   "cell_type": "code",
   "execution_count": 64,
   "metadata": {},
   "outputs": [],
   "source": [
    "# First we will remove all of the files contained in the data_dir directory\n",
    "!rm $data_dir/*\n",
    "# And then we delete the directory itself\n",
    "!rmdir $data_dir\n",
    "\n",
    "# Similarly we remove the files in the cache_dir directory and the directory itself\n",
    "!rm $cache_dir/*\n",
    "!rmdir $cache_dir"
   ]
  },
  {
   "cell_type": "markdown",
   "metadata": {},
   "source": [
    "---"
   ]
  }
 ],
 "metadata": {
  "kernelspec": {
   "display_name": "conda_python3",
   "language": "python",
   "name": "conda_python3"
  },
  "language_info": {
   "codemirror_mode": {
    "name": "ipython",
    "version": 3
   },
   "file_extension": ".py",
   "mimetype": "text/x-python",
   "name": "python",
   "nbconvert_exporter": "python",
   "pygments_lexer": "ipython3",
   "version": "3.6.5"
  }
 },
 "nbformat": 4,
 "nbformat_minor": 2
}
