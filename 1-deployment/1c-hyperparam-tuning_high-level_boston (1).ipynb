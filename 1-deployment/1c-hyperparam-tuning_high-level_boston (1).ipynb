{
 "cells": [
  {
   "cell_type": "markdown",
   "metadata": {},
   "source": [
    "### Predicting Boston Housing Prices\n",
    "\n",
    "## Using XGBoost in SageMaker (Hyperparameter Tuning, _high-level_)\n",
    "\n",
    "_Deep Learning Nanodegree Program | Deployment_\n",
    "\n",
    "---\n",
    "\n",
    "As an introduction to using SageMaker's High Level Python API for **hyperparameter tuning**, we will look again at the [Boston Housing Dataset](https://www.cs.toronto.edu/~delve/data/boston/bostonDetail.html) project from before. \n",
    "\n",
    "## General Outline\n",
    "\n",
    "The same steps 1 to 5 are performed but with hyperparameter tuning in step 4 using the _high-level approach_: \n",
    "\n",
    "1. Download or otherwise retrieve the data.\n",
    "2. Process / Prepare the data.\n",
    "3. Upload the processed data to S3.\n",
    "4. Train a chosen model **with hyperparameter tuning**\n",
    "5. Test the trained model (typically using a batch transform job).\n",
    "\n",
    "\n",
    "### On Hyperparameter tuning\n",
    "\n",
    "Generally speaking, the way to think about hyperparameter tuning inside of SageMaker is that \n",
    "1. We start with a base collection of hyperparameters which describe a default model. \n",
    "2. We then give some additional set of hyperparameters ranges. These ranges tell SageMaker which hyperparameters can be varied, with the goal being to improve the default model.\n",
    "3. We then describe a) how to compare models, which in our instance is just by way of specifying a metric. Then we describe b) how many total models we want SageMaker to train.\n",
    "\n",
    "**Note**: In addition to creating a tuned model in this notebook, we also see how the attach method can be used to create an Estimator object which is attached to an already completed training job. This method is useful in other situations as well. (For example if we run different notebooks with the same model, we could use the attach method to avoid having ot re-train the model every time.) "
   ]
  },
  {
   "cell_type": "markdown",
   "metadata": {},
   "source": [
    "## Step 0: Setting up the notebook"
   ]
  },
  {
   "cell_type": "code",
   "execution_count": 1,
   "metadata": {},
   "outputs": [],
   "source": [
    "import os\n",
    "import numpy as np\n",
    "import pandas as pd\n",
    "\n",
    "import matplotlib.pyplot as plt\n",
    "%matplotlib inline\n",
    "\n",
    "from sklearn.datasets import load_boston\n",
    "import sklearn.model_selection"
   ]
  },
  {
   "cell_type": "code",
   "execution_count": 2,
   "metadata": {},
   "outputs": [],
   "source": [
    "import sagemaker\n",
    "from sagemaker import get_execution_role\n",
    "from sagemaker.amazon.amazon_estimator import get_image_uri\n",
    "from sagemaker.predictor import csv_serializer\n",
    "\n",
    "# This is an object that represents the SageMaker session that we are currently operating in. This\n",
    "# object contains some useful information that we will need to access later such as our region.\n",
    "session = sagemaker.Session()\n",
    "\n",
    "# This is an object that represents the IAM role that we are currently assigned. When we construct\n",
    "# and launch the training job later we will need to tell it what IAM role it should have. Since our\n",
    "# use case is relatively simple we will simply assign the training job the role we currently have.\n",
    "role = get_execution_role()"
   ]
  },
  {
   "cell_type": "markdown",
   "metadata": {},
   "source": [
    "## Step 1: Downloading the data"
   ]
  },
  {
   "cell_type": "code",
   "execution_count": 3,
   "metadata": {},
   "outputs": [],
   "source": [
    "boston = load_boston()"
   ]
  },
  {
   "cell_type": "markdown",
   "metadata": {},
   "source": [
    "## Step 2: Preparing and splitting the data"
   ]
  },
  {
   "cell_type": "code",
   "execution_count": 4,
   "metadata": {},
   "outputs": [],
   "source": [
    "# First we package up the input data and the target variable (the median value) as pandas dataframes. This\n",
    "# will make saving the data to a file a little easier later on.\n",
    "\n",
    "X_bos_pd = pd.DataFrame(boston.data, columns=boston.feature_names)\n",
    "Y_bos_pd = pd.DataFrame(boston.target)\n",
    "\n",
    "# We split the dataset into 2/3 training and 1/3 testing sets.\n",
    "X_train, X_test, Y_train, Y_test = sklearn.model_selection.train_test_split(X_bos_pd, Y_bos_pd, test_size=0.33)\n",
    "\n",
    "# Then we split the training set further into 2/3 training and 1/3 validation sets.\n",
    "X_train, X_val, Y_train, Y_val = sklearn.model_selection.train_test_split(X_train, Y_train, test_size=0.33)"
   ]
  },
  {
   "cell_type": "markdown",
   "metadata": {},
   "source": [
    "## Step 3: Uploading the data files to S3"
   ]
  },
  {
   "cell_type": "code",
   "execution_count": 5,
   "metadata": {},
   "outputs": [],
   "source": [
    "# This is our local data directory. We need to make sure that it exists.\n",
    "data_dir = '../data/boston'\n",
    "if not os.path.exists(data_dir):\n",
    "    os.makedirs(data_dir)"
   ]
  },
  {
   "cell_type": "code",
   "execution_count": 6,
   "metadata": {},
   "outputs": [],
   "source": [
    "# We use pandas to save our test, train and validation data to csv files. Note that we make sure not to include header\n",
    "# information or an index as this is required by the built in algorithms provided by Amazon. Also, for the train and\n",
    "# validation data, it is assumed that the first entry in each row is the target variable.\n",
    "\n",
    "X_test.to_csv(os.path.join(data_dir, 'test.csv'), header=False, index=False)\n",
    "\n",
    "pd.concat([Y_val, X_val], axis=1).to_csv(os.path.join(data_dir, 'validation.csv'), header=False, index=False)\n",
    "pd.concat([Y_train, X_train], axis=1).to_csv(os.path.join(data_dir, 'train.csv'), header=False, index=False)"
   ]
  },
  {
   "cell_type": "code",
   "execution_count": 7,
   "metadata": {},
   "outputs": [],
   "source": [
    "prefix = 'boston-xgboost-tuning-HL'\n",
    "\n",
    "test_location = session.upload_data(os.path.join(data_dir, 'test.csv'), key_prefix=prefix)\n",
    "val_location = session.upload_data(os.path.join(data_dir, 'validation.csv'), key_prefix=prefix)\n",
    "train_location = session.upload_data(os.path.join(data_dir, 'train.csv'), key_prefix=prefix)"
   ]
  },
  {
   "cell_type": "markdown",
   "metadata": {},
   "source": [
    "## Step 4: Train the XGBoost model"
   ]
  },
  {
   "cell_type": "code",
   "execution_count": 9,
   "metadata": {},
   "outputs": [],
   "source": [
    "# As stated above, we use this utility method to construct the image name for the training container.\n",
    "container = get_image_uri(session.boto_region_name, 'xgboost', '0.90-1')\n",
    "\n",
    "# Now that we know which container to use, we can construct the estimator object.\n",
    "xgb = sagemaker.estimator.Estimator(container, # The name of the training container\n",
    "                                    role,      # The IAM role to use (our current role in this case)\n",
    "                                    train_instance_count=1, # The number of instances to use for training\n",
    "                                    train_instance_type='ml.m4.xlarge', # The type of instance ot use for training\n",
    "                                    output_path='s3://{}/{}/output'.format(session.default_bucket(), prefix),\n",
    "                                                                        # Where to save the output (the model artifacts)\n",
    "                                    sagemaker_session=session) # The current SageMaker session"
   ]
  },
  {
   "cell_type": "markdown",
   "metadata": {},
   "source": [
    "**Set default values**\n",
    "\n",
    "Before beginning the hyperparameter tuning, we should make sure to set any model specific hyperparameters that we wish to have default values."
   ]
  },
  {
   "cell_type": "code",
   "execution_count": 10,
   "metadata": {},
   "outputs": [],
   "source": [
    "xgb.set_hyperparameters(max_depth=5,\n",
    "                        eta=0.2,\n",
    "                        gamma=4,\n",
    "                        min_child_weight=6,\n",
    "                        subsample=0.8,\n",
    "                        objective='reg:linear',\n",
    "                        early_stopping_rounds=10,\n",
    "                        num_round=200)"
   ]
  },
  {
   "cell_type": "markdown",
   "metadata": {},
   "source": [
    "**Create the hyperparameter tuner**. \n",
    "\n",
    "To do this we need to construct a new object which contains each of the parameters we want SageMaker to tune. In this case, we wish to find the best values for the `max_depth`, `eta`, `min_child_weight`, `subsample`, and `gamma` parameters. Note that for each parameter that we want SageMaker to tune we need to specify both the *type* of the parameter and the *range* of values that parameter may take on.\n",
    "\n",
    "In addition, we specify the *number* of models to construct (`max_jobs`) and the number of those that can be trained in parallel (`max_parallel_jobs`). In the cell below we have chosen to train `20` models, of which we ask that SageMaker train `3` at a time in parallel. (Note that this results in a total of `20` training jobs being executed which can take some time, in this case almost a half hour. With more complicated models this can take even longer so be aware!)"
   ]
  },
  {
   "cell_type": "code",
   "execution_count": 11,
   "metadata": {},
   "outputs": [],
   "source": [
    "from sagemaker.tuner import IntegerParameter, ContinuousParameter, HyperparameterTuner\n",
    "\n",
    "xgb_hyperparameter_tuner = HyperparameterTuner(estimator = xgb, # Estimator object to use as the basis for the training jobs.\n",
    "                                               objective_metric_name = 'validation:rmse', # Metric used to compare on val data.\n",
    "                                               objective_type = 'Minimize', # Whether to minimize or maximize the metric.\n",
    "                                               max_jobs = 20, # Total number of models to train\n",
    "                                               max_parallel_jobs = 3, # Number of models to train in parallel\n",
    "                                               hyperparameter_ranges = {\n",
    "                                                    'max_depth': IntegerParameter(3, 12),\n",
    "                                                    'eta'      : ContinuousParameter(0.05, 0.5),\n",
    "                                                    'min_child_weight': IntegerParameter(2, 8),\n",
    "                                                    'subsample': ContinuousParameter(0.5, 0.9),\n",
    "                                                    'gamma': ContinuousParameter(0, 10),\n",
    "                                               })"
   ]
  },
  {
   "cell_type": "markdown",
   "metadata": {},
   "source": [
    "**Train models**\n",
    "\n",
    "To do this we make sure that SageMaker knows our input data is in csv format and then execute the `fit` method."
   ]
  },
  {
   "cell_type": "code",
   "execution_count": 12,
   "metadata": {},
   "outputs": [],
   "source": [
    "s3_input_train = sagemaker.s3_input(s3_data=train_location, content_type='csv')\n",
    "s3_input_validation = sagemaker.s3_input(s3_data=val_location, content_type='csv')\n",
    "\n",
    "xgb_hyperparameter_tuner.fit({'train': s3_input_train, 'validation': s3_input_validation})"
   ]
  },
  {
   "cell_type": "markdown",
   "metadata": {},
   "source": [
    "As in many of the examples we have seen so far, the `fit()` method takes care of setting up and fitting a number of different models, each with different hyperparameters. If we wish to wait for this process to finish, we can call the `wait()` method."
   ]
  },
  {
   "cell_type": "code",
   "execution_count": 13,
   "metadata": {},
   "outputs": [
    {
     "name": "stdout",
     "output_type": "stream",
     "text": [
      "............................................................................................................................................................................................................................................................................................!\n"
     ]
    }
   ],
   "source": [
    "xgb_hyperparameter_tuner.wait()"
   ]
  },
  {
   "cell_type": "markdown",
   "metadata": {},
   "source": [
    "**Check for best model**\n",
    "\n",
    "Once the hyperamater tuner has finished, we can retrieve information about the best performing model. "
   ]
  },
  {
   "cell_type": "code",
   "execution_count": 14,
   "metadata": {},
   "outputs": [
    {
     "data": {
      "text/plain": [
       "'sagemaker-xgboost-191225-1219-014-0ac3cce9'"
      ]
     },
     "execution_count": 14,
     "metadata": {},
     "output_type": "execute_result"
    }
   ],
   "source": [
    "xgb_hyperparameter_tuner.best_training_job()"
   ]
  },
  {
   "cell_type": "markdown",
   "metadata": {},
   "source": [
    "**Create new estimator object**\n",
    "\n",
    "In addition, since we'd like to set up a batch transform job to test the best model, we can construct a new estimator object from the results of the best training job. The `xgb_attached` object below can now be used as though we constructed an estimator with the best performing hyperparameters and then fit it to our training data."
   ]
  },
  {
   "cell_type": "code",
   "execution_count": 15,
   "metadata": {},
   "outputs": [
    {
     "name": "stdout",
     "output_type": "stream",
     "text": [
      "2019-12-25 12:35:54 Starting - Preparing the instances for training\n",
      "2019-12-25 12:35:54 Downloading - Downloading input data\n",
      "2019-12-25 12:35:54 Training - Training image download completed. Training in progress.\n",
      "2019-12-25 12:35:54 Uploading - Uploading generated training model\n",
      "2019-12-25 12:35:54 Completed - Training job completed\u001b[34mINFO:sagemaker-containers:Imported framework sagemaker_xgboost_container.training\u001b[0m\n",
      "\u001b[34mINFO:sagemaker-containers:Failed to parse hyperparameter _tuning_objective_metric value validation:rmse to Json.\u001b[0m\n",
      "\u001b[34mReturning the value itself\u001b[0m\n",
      "\u001b[34mINFO:sagemaker-containers:Failed to parse hyperparameter objective value reg:linear to Json.\u001b[0m\n",
      "\u001b[34mReturning the value itself\u001b[0m\n",
      "\u001b[34mINFO:sagemaker-containers:No GPUs detected (normal if no gpus installed)\u001b[0m\n",
      "\u001b[34mINFO:sagemaker_xgboost_container.training:Running XGBoost Sagemaker in algorithm mode\u001b[0m\n",
      "\u001b[34mINFO:root:Determined delimiter of CSV input is ','\u001b[0m\n",
      "\u001b[34mINFO:root:Determined delimiter of CSV input is ','\u001b[0m\n",
      "\u001b[34mINFO:root:Determined delimiter of CSV input is ','\u001b[0m\n",
      "\u001b[34m[12:35:44] 227x13 matrix with 2951 entries loaded from /opt/ml/input/data/train?format=csv&label_column=0&delimiter=,\u001b[0m\n",
      "\u001b[34mINFO:root:Determined delimiter of CSV input is ','\u001b[0m\n",
      "\u001b[34m[12:35:44] 112x13 matrix with 1456 entries loaded from /opt/ml/input/data/validation?format=csv&label_column=0&delimiter=,\u001b[0m\n",
      "\u001b[34mINFO:root:Single node training.\u001b[0m\n",
      "\u001b[34mINFO:root:Setting up HPO optimized metric to be : rmse\u001b[0m\n",
      "\u001b[34mINFO:root:Train matrix has 227 rows\u001b[0m\n",
      "\u001b[34mINFO:root:Validation matrix has 112 rows\u001b[0m\n",
      "\u001b[34m[12:35:44] WARNING: /workspace/src/objective/regression_obj.cu:152: reg:linear is now deprecated in favor of reg:squarederror.\u001b[0m\n",
      "\u001b[34m[0]#011train-rmse:21.2428#011validation-rmse:21.621\u001b[0m\n",
      "\u001b[34m[1]#011train-rmse:19.646#011validation-rmse:20.0203\u001b[0m\n",
      "\u001b[34m[2]#011train-rmse:18.139#011validation-rmse:18.4386\u001b[0m\n",
      "\u001b[34m[3]#011train-rmse:16.808#011validation-rmse:17.0711\u001b[0m\n",
      "\u001b[34m[4]#011train-rmse:15.5186#011validation-rmse:15.7225\u001b[0m\n",
      "\u001b[34m[5]#011train-rmse:14.3144#011validation-rmse:14.419\u001b[0m\n",
      "\u001b[34m[6]#011train-rmse:13.2619#011validation-rmse:13.3109\u001b[0m\n",
      "\u001b[34m[7]#011train-rmse:12.3247#011validation-rmse:12.3281\u001b[0m\n",
      "\u001b[34m[8]#011train-rmse:11.4071#011validation-rmse:11.3892\u001b[0m\n",
      "\u001b[34m[9]#011train-rmse:10.598#011validation-rmse:10.5357\u001b[0m\n",
      "\u001b[34m[10]#011train-rmse:9.8723#011validation-rmse:9.76944\u001b[0m\n",
      "\u001b[34m[11]#011train-rmse:9.14585#011validation-rmse:9.0194\u001b[0m\n",
      "\u001b[34m[12]#011train-rmse:8.49489#011validation-rmse:8.38705\u001b[0m\n",
      "\u001b[34m[13]#011train-rmse:7.93743#011validation-rmse:7.81604\u001b[0m\n",
      "\u001b[34m[14]#011train-rmse:7.3855#011validation-rmse:7.25529\u001b[0m\n",
      "\u001b[34m[15]#011train-rmse:6.88444#011validation-rmse:6.75387\u001b[0m\n",
      "\u001b[34m[16]#011train-rmse:6.44179#011validation-rmse:6.30785\u001b[0m\n",
      "\u001b[34m[17]#011train-rmse:5.99357#011validation-rmse:5.91037\u001b[0m\n",
      "\u001b[34m[18]#011train-rmse:5.63517#011validation-rmse:5.553\u001b[0m\n",
      "\u001b[34m[19]#011train-rmse:5.28146#011validation-rmse:5.19544\u001b[0m\n",
      "\u001b[34m[20]#011train-rmse:4.99066#011validation-rmse:4.90973\u001b[0m\n",
      "\u001b[34m[21]#011train-rmse:4.69206#011validation-rmse:4.65616\u001b[0m\n",
      "\u001b[34m[22]#011train-rmse:4.44447#011validation-rmse:4.44247\u001b[0m\n",
      "\u001b[34m[23]#011train-rmse:4.18688#011validation-rmse:4.24182\u001b[0m\n",
      "\u001b[34m[24]#011train-rmse:3.9837#011validation-rmse:4.07139\u001b[0m\n",
      "\u001b[34m[25]#011train-rmse:3.76908#011validation-rmse:3.91287\u001b[0m\n",
      "\u001b[34m[26]#011train-rmse:3.59745#011validation-rmse:3.76386\u001b[0m\n",
      "\u001b[34m[27]#011train-rmse:3.41317#011validation-rmse:3.63743\u001b[0m\n",
      "\u001b[34m[28]#011train-rmse:3.25166#011validation-rmse:3.51553\u001b[0m\n",
      "\u001b[34m[29]#011train-rmse:3.11263#011validation-rmse:3.42466\u001b[0m\n",
      "\u001b[34m[30]#011train-rmse:2.97497#011validation-rmse:3.35031\u001b[0m\n",
      "\u001b[34m[31]#011train-rmse:2.85613#011validation-rmse:3.26369\u001b[0m\n",
      "\u001b[34m[32]#011train-rmse:2.72427#011validation-rmse:3.16554\u001b[0m\n",
      "\u001b[34m[33]#011train-rmse:2.62045#011validation-rmse:3.09139\u001b[0m\n",
      "\u001b[34m[34]#011train-rmse:2.54645#011validation-rmse:3.0633\u001b[0m\n",
      "\u001b[34m[35]#011train-rmse:2.46562#011validation-rmse:3.01781\u001b[0m\n",
      "\u001b[34m[36]#011train-rmse:2.37518#011validation-rmse:2.99225\u001b[0m\n",
      "\u001b[34m[37]#011train-rmse:2.29426#011validation-rmse:2.97304\u001b[0m\n",
      "\u001b[34m[38]#011train-rmse:2.22154#011validation-rmse:2.93446\u001b[0m\n",
      "\u001b[34m[39]#011train-rmse:2.15385#011validation-rmse:2.92391\u001b[0m\n",
      "\u001b[34m[40]#011train-rmse:2.11036#011validation-rmse:2.91623\u001b[0m\n",
      "\u001b[34m[41]#011train-rmse:2.05984#011validation-rmse:2.90403\u001b[0m\n",
      "\u001b[34m[42]#011train-rmse:2.01055#011validation-rmse:2.90056\u001b[0m\n",
      "\u001b[34m[43]#011train-rmse:1.95646#011validation-rmse:2.90374\u001b[0m\n",
      "\u001b[34m[44]#011train-rmse:1.92417#011validation-rmse:2.8975\u001b[0m\n",
      "\u001b[34m[45]#011train-rmse:1.8855#011validation-rmse:2.90122\u001b[0m\n",
      "\u001b[34m[46]#011train-rmse:1.86088#011validation-rmse:2.89638\u001b[0m\n",
      "\u001b[34m[47]#011train-rmse:1.83385#011validation-rmse:2.88069\u001b[0m\n",
      "\u001b[34m[48]#011train-rmse:1.80767#011validation-rmse:2.88696\u001b[0m\n",
      "\u001b[34m[49]#011train-rmse:1.76962#011validation-rmse:2.88361\u001b[0m\n",
      "\u001b[34m[50]#011train-rmse:1.74927#011validation-rmse:2.88394\u001b[0m\n",
      "\u001b[34m[51]#011train-rmse:1.71935#011validation-rmse:2.89366\u001b[0m\n",
      "\u001b[34m[52]#011train-rmse:1.70027#011validation-rmse:2.87866\u001b[0m\n",
      "\u001b[34m[53]#011train-rmse:1.68294#011validation-rmse:2.87118\u001b[0m\n",
      "\u001b[34m[54]#011train-rmse:1.66278#011validation-rmse:2.86075\u001b[0m\n",
      "\u001b[34m[55]#011train-rmse:1.63868#011validation-rmse:2.86653\u001b[0m\n",
      "\u001b[34m[56]#011train-rmse:1.61472#011validation-rmse:2.86544\u001b[0m\n",
      "\u001b[34m[57]#011train-rmse:1.60678#011validation-rmse:2.86602\u001b[0m\n",
      "\u001b[34m[58]#011train-rmse:1.58615#011validation-rmse:2.87187\u001b[0m\n",
      "\u001b[34m[59]#011train-rmse:1.57387#011validation-rmse:2.87293\u001b[0m\n",
      "\u001b[34m[60]#011train-rmse:1.56403#011validation-rmse:2.86815\u001b[0m\n",
      "\u001b[34m[61]#011train-rmse:1.54588#011validation-rmse:2.87174\u001b[0m\n",
      "\u001b[34m[62]#011train-rmse:1.52098#011validation-rmse:2.87839\u001b[0m\n",
      "\u001b[34m[63]#011train-rmse:1.50721#011validation-rmse:2.88101\u001b[0m\n",
      "\u001b[34m[64]#011train-rmse:1.48676#011validation-rmse:2.87875\u001b[0m\n",
      "Training seconds: 59\n",
      "Billable seconds: 59\n"
     ]
    }
   ],
   "source": [
    "xgb_attached = sagemaker.estimator.Estimator.attach(xgb_hyperparameter_tuner.best_training_job())"
   ]
  },
  {
   "cell_type": "markdown",
   "metadata": {},
   "source": [
    "## Step 5: Test the model"
   ]
  },
  {
   "cell_type": "code",
   "execution_count": 16,
   "metadata": {},
   "outputs": [],
   "source": [
    "xgb_transformer = xgb_attached.transformer(instance_count = 1, instance_type = 'ml.m4.xlarge')"
   ]
  },
  {
   "cell_type": "code",
   "execution_count": 17,
   "metadata": {},
   "outputs": [],
   "source": [
    "xgb_transformer.transform(test_location, content_type='text/csv', split_type='Line')"
   ]
  },
  {
   "cell_type": "code",
   "execution_count": 18,
   "metadata": {},
   "outputs": [
    {
     "name": "stdout",
     "output_type": "stream",
     "text": [
      ".....................\n",
      ".\u001b[34m[2019-12-25 12:46:55 +0000] [14] [INFO] Starting gunicorn 19.10.0\u001b[0m\n",
      "\u001b[34m[2019-12-25 12:46:55 +0000] [14] [INFO] Listening at: unix:/tmp/gunicorn.sock (14)\u001b[0m\n",
      "\u001b[34m[2019-12-25 12:46:55 +0000] [14] [INFO] Using worker: gevent\u001b[0m\n",
      "\u001b[34m[2019-12-25 12:46:55 +0000] [21] [INFO] Booting worker with pid: 21\u001b[0m\n",
      "\u001b[34m[2019-12-25 12:46:55 +0000] [25] [INFO] Booting worker with pid: 25\u001b[0m\n",
      "\u001b[34m[2019-12-25 12:46:55 +0000] [26] [INFO] Booting worker with pid: 26\u001b[0m\n",
      "\u001b[34m[2019-12-25 12:46:55 +0000] [27] [INFO] Booting worker with pid: 27\u001b[0m\n",
      "\u001b[35m[2019-12-25 12:46:55 +0000] [14] [INFO] Starting gunicorn 19.10.0\u001b[0m\n",
      "\u001b[35m[2019-12-25 12:46:55 +0000] [14] [INFO] Listening at: unix:/tmp/gunicorn.sock (14)\u001b[0m\n",
      "\u001b[35m[2019-12-25 12:46:55 +0000] [14] [INFO] Using worker: gevent\u001b[0m\n",
      "\u001b[35m[2019-12-25 12:46:55 +0000] [21] [INFO] Booting worker with pid: 21\u001b[0m\n",
      "\u001b[35m[2019-12-25 12:46:55 +0000] [25] [INFO] Booting worker with pid: 25\u001b[0m\n",
      "\u001b[35m[2019-12-25 12:46:55 +0000] [26] [INFO] Booting worker with pid: 26\u001b[0m\n",
      "\u001b[35m[2019-12-25 12:46:55 +0000] [27] [INFO] Booting worker with pid: 27\u001b[0m\n",
      "\u001b[34m[2019-12-25:12:47:01:INFO] No GPUs detected (normal if no gpus installed)\u001b[0m\n",
      "\u001b[34m169.254.255.130 - - [25/Dec/2019:12:47:01 +0000] \"GET /ping HTTP/1.1\" 200 0 \"-\" \"Go-http-client/1.1\"\u001b[0m\n",
      "\u001b[34m[2019-12-25:12:47:01:INFO] No GPUs detected (normal if no gpus installed)\u001b[0m\n",
      "\u001b[34m169.254.255.130 - - [25/Dec/2019:12:47:01 +0000] \"GET /execution-parameters HTTP/1.1\" 200 84 \"-\" \"Go-http-client/1.1\"\u001b[0m\n",
      "\u001b[34m[2019-12-25:12:47:01:INFO] No GPUs detected (normal if no gpus installed)\u001b[0m\n",
      "\u001b[34m[2019-12-25:12:47:01:INFO] Determined delimiter of CSV input is ','\u001b[0m\n",
      "\u001b[34m[12:47:01] WARNING: /workspace/src/objective/regression_obj.cu:152: reg:linear is now deprecated in favor of reg:squarederror.\u001b[0m\n",
      "\u001b[34m169.254.255.130 - - [25/Dec/2019:12:47:01 +0000] \"POST /invocations HTTP/1.1\" 200 3098 \"-\" \"Go-http-client/1.1\"\u001b[0m\n",
      "\u001b[35m[2019-12-25:12:47:01:INFO] No GPUs detected (normal if no gpus installed)\u001b[0m\n",
      "\u001b[35m169.254.255.130 - - [25/Dec/2019:12:47:01 +0000] \"GET /ping HTTP/1.1\" 200 0 \"-\" \"Go-http-client/1.1\"\u001b[0m\n",
      "\u001b[35m[2019-12-25:12:47:01:INFO] No GPUs detected (normal if no gpus installed)\u001b[0m\n",
      "\u001b[35m169.254.255.130 - - [25/Dec/2019:12:47:01 +0000] \"GET /execution-parameters HTTP/1.1\" 200 84 \"-\" \"Go-http-client/1.1\"\u001b[0m\n",
      "\u001b[35m[2019-12-25:12:47:01:INFO] No GPUs detected (normal if no gpus installed)\u001b[0m\n",
      "\u001b[35m[2019-12-25:12:47:01:INFO] Determined delimiter of CSV input is ','\u001b[0m\n",
      "\u001b[35m[12:47:01] WARNING: /workspace/src/objective/regression_obj.cu:152: reg:linear is now deprecated in favor of reg:squarederror.\u001b[0m\n",
      "\u001b[35m169.254.255.130 - - [25/Dec/2019:12:47:01 +0000] \"POST /invocations HTTP/1.1\" 200 3098 \"-\" \"Go-http-client/1.1\"\u001b[0m\n",
      "\u001b[32m2019-12-25T12:47:01.802:[sagemaker logs]: MaxConcurrentTransforms=4, MaxPayloadInMB=6, BatchStrategy=MULTI_RECORD\u001b[0m\n"
     ]
    }
   ],
   "source": [
    "xgb_transformer.wait()"
   ]
  },
  {
   "cell_type": "code",
   "execution_count": 19,
   "metadata": {},
   "outputs": [
    {
     "name": "stdout",
     "output_type": "stream",
     "text": [
      "Completed 3.0 KiB/3.0 KiB (55.5 KiB/s) with 1 file(s) remaining\r",
      "download: s3://sagemaker-eu-west-1-873674308518/sagemaker-xgboost-191225-1219-014-0ac3c-2019-12-25-12-43-31-424/test.csv.out to ../data/boston/test.csv.out\r\n"
     ]
    }
   ],
   "source": [
    "!aws s3 cp --recursive $xgb_transformer.output_path $data_dir"
   ]
  },
  {
   "cell_type": "code",
   "execution_count": 20,
   "metadata": {},
   "outputs": [],
   "source": [
    "Y_pred = pd.read_csv(os.path.join(data_dir, 'test.csv.out'), header=None)"
   ]
  },
  {
   "cell_type": "code",
   "execution_count": 21,
   "metadata": {},
   "outputs": [
    {
     "data": {
      "text/plain": [
       "Text(0.5, 1.0, 'Median Price vs Predicted Price')"
      ]
     },
     "execution_count": 21,
     "metadata": {},
     "output_type": "execute_result"
    },
    {
     "data": {
      "image/png": "[encoded data removed]",
      "text/plain": [
       "<Figure size 432x288 with 1 Axes>"
      ]
     },
     "metadata": {},
     "output_type": "display_data"
    }
   ],
   "source": [
    "plt.scatter(Y_test, Y_pred)\n",
    "plt.xlabel(\"Median Price\")\n",
    "plt.ylabel(\"Predicted Price\")\n",
    "plt.title(\"Median Price vs Predicted Price\")"
   ]
  },
  {
   "cell_type": "markdown",
   "metadata": {},
   "source": [
    "## Optional: Clean up"
   ]
  },
  {
   "cell_type": "code",
   "execution_count": 22,
   "metadata": {},
   "outputs": [],
   "source": [
    "!rm $data_dir/*\n",
    "!rmdir $data_dir"
   ]
  },
  {
   "cell_type": "markdown",
   "metadata": {},
   "source": [
    "---"
   ]
  }
 ],
 "metadata": {
  "kernelspec": {
   "display_name": "conda_pytorch_p36",
   "language": "python",
   "name": "conda_pytorch_p36"
  },
  "language_info": {
   "codemirror_mode": {
    "name": "ipython",
    "version": 3
   },
   "file_extension": ".py",
   "mimetype": "text/x-python",
   "name": "python",
   "nbconvert_exporter": "python",
   "pygments_lexer": "ipython3",
   "version": "3.6.5"
  }
 },
 "nbformat": 4,
 "nbformat_minor": 2
}
